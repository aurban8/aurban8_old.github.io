{
 "cells": [
  {
   "cell_type": "markdown",
   "metadata": {
    "deletable": true,
    "editable": true
   },
   "source": [
    "I've been watching Jeopardy for awhile now and have suspected that there are common themes for certain answers. For example, if the words \"planet\" and \"acid\" appear in the same clue, then it's likely that the answer is \"Venus\" because of its sulfuric acid rain clouds. To investigate this, I used the database of Jeopardy questions compiled by the [j-archive](http://www.j-archive.com/) which was scraped by [reddit user *trexmatt* and posted as a json file](https://www.reddit.com/r/datasets/comments/1uyd0t/200000_jeopardy_questions_in_a_json_file/)."
   ]
  },
  {
   "cell_type": "markdown",
   "metadata": {
    "deletable": true,
    "editable": true
   },
   "source": [
    "*This JSON file is described as follows:*\n",
    "\n",
    "---\n",
    "The json file is an unordered list of questions where each question has\n",
    "\n",
    "* 'category' : the question category, e.g. \"HISTORY\"\n",
    "\n",
    "* 'value' : Dollar value of the question as string, e.g. \"$200\"   (Note: This is \"None\" for Final Jeopardy! and Tiebreaker questions)\n",
    "\n",
    "* 'question' : text of question (Note: This sometimes contains hyperlinks and other things messy text such as when there's a picture or video question) \n",
    "\n",
    "* 'answer' : text of answer\n",
    "\n",
    "* 'round' : one of \"Jeopardy!\",\"Double Jeopardy!\",\"Final Jeopardy!\" or \"Tiebreaker\" (Note: Tiebreaker questions do happen but they're very rare (like once every 20 years))\n",
    "\n",
    "* 'show_number' : string of show number, e.g '4680'\n",
    "\n",
    "* 'air_date' : the show air date in format YYYY-MM-DD\n",
    "---"
   ]
  },
  {
   "cell_type": "markdown",
   "metadata": {
    "deletable": true,
    "editable": true
   },
   "source": [
    "## Let's get started!"
   ]
  },
  {
   "cell_type": "markdown",
   "metadata": {
    "deletable": true,
    "editable": true
   },
   "source": [
    "To get started with this jupyter notebook, first download the [Jeopardy json file](https://drive.google.com/file/d/0BwT5wj_P7BKXb2hfM3d2RHU1ckE/view) and place it in the same directory as this notebook.\n",
    "\n",
    "I'll be using the [pandas package from python](http://pandas.pydata.org/) to explore the dataset. "
   ]
  },
  {
   "cell_type": "code",
   "execution_count": 1,
   "metadata": {
    "collapsed": false,
    "deletable": true,
    "editable": true
   },
   "outputs": [],
   "source": [
    "# First import the pandas package and load the json file into a dataframe called df.\n",
    "import pandas as pd\n",
    "df = pd.read_json('JEOPARDY_QUESTIONS1.json')"
   ]
  },
  {
   "cell_type": "code",
   "execution_count": 2,
   "metadata": {
    "collapsed": false,
    "deletable": true,
    "editable": true
   },
   "outputs": [
    {
     "data": {
      "text/html": [
       "<div>\n",
       "<table border=\"1\" class=\"dataframe\">\n",
       "  <thead>\n",
       "    <tr style=\"text-align: right;\">\n",
       "      <th></th>\n",
       "      <th>air_date</th>\n",
       "      <th>answer</th>\n",
       "      <th>category</th>\n",
       "      <th>question</th>\n",
       "      <th>round</th>\n",
       "      <th>show_number</th>\n",
       "      <th>value</th>\n",
       "    </tr>\n",
       "  </thead>\n",
       "  <tbody>\n",
       "    <tr>\n",
       "      <th>0</th>\n",
       "      <td>2004-12-31</td>\n",
       "      <td>Copernicus</td>\n",
       "      <td>HISTORY</td>\n",
       "      <td>'For the last 8 years of his life, Galileo was...</td>\n",
       "      <td>Jeopardy!</td>\n",
       "      <td>4680</td>\n",
       "      <td>$200</td>\n",
       "    </tr>\n",
       "    <tr>\n",
       "      <th>1</th>\n",
       "      <td>2004-12-31</td>\n",
       "      <td>Jim Thorpe</td>\n",
       "      <td>ESPN's TOP 10 ALL-TIME ATHLETES</td>\n",
       "      <td>'No. 2: 1912 Olympian; football star at Carlis...</td>\n",
       "      <td>Jeopardy!</td>\n",
       "      <td>4680</td>\n",
       "      <td>$200</td>\n",
       "    </tr>\n",
       "    <tr>\n",
       "      <th>2</th>\n",
       "      <td>2004-12-31</td>\n",
       "      <td>Arizona</td>\n",
       "      <td>EVERYBODY TALKS ABOUT IT...</td>\n",
       "      <td>'The city of Yuma in this state has a record a...</td>\n",
       "      <td>Jeopardy!</td>\n",
       "      <td>4680</td>\n",
       "      <td>$200</td>\n",
       "    </tr>\n",
       "    <tr>\n",
       "      <th>3</th>\n",
       "      <td>2004-12-31</td>\n",
       "      <td>McDonald\\'s</td>\n",
       "      <td>THE COMPANY LINE</td>\n",
       "      <td>'In 1963, live on \"The Art Linkletter Show\", t...</td>\n",
       "      <td>Jeopardy!</td>\n",
       "      <td>4680</td>\n",
       "      <td>$200</td>\n",
       "    </tr>\n",
       "    <tr>\n",
       "      <th>4</th>\n",
       "      <td>2004-12-31</td>\n",
       "      <td>John Adams</td>\n",
       "      <td>EPITAPHS &amp; TRIBUTES</td>\n",
       "      <td>'Signer of the Dec. of Indep., framer of the C...</td>\n",
       "      <td>Jeopardy!</td>\n",
       "      <td>4680</td>\n",
       "      <td>$200</td>\n",
       "    </tr>\n",
       "  </tbody>\n",
       "</table>\n",
       "</div>"
      ],
      "text/plain": [
       "     air_date       answer                         category  \\\n",
       "0  2004-12-31   Copernicus                          HISTORY   \n",
       "1  2004-12-31   Jim Thorpe  ESPN's TOP 10 ALL-TIME ATHLETES   \n",
       "2  2004-12-31      Arizona      EVERYBODY TALKS ABOUT IT...   \n",
       "3  2004-12-31  McDonald\\'s                 THE COMPANY LINE   \n",
       "4  2004-12-31   John Adams              EPITAPHS & TRIBUTES   \n",
       "\n",
       "                                            question      round  show_number  \\\n",
       "0  'For the last 8 years of his life, Galileo was...  Jeopardy!         4680   \n",
       "1  'No. 2: 1912 Olympian; football star at Carlis...  Jeopardy!         4680   \n",
       "2  'The city of Yuma in this state has a record a...  Jeopardy!         4680   \n",
       "3  'In 1963, live on \"The Art Linkletter Show\", t...  Jeopardy!         4680   \n",
       "4  'Signer of the Dec. of Indep., framer of the C...  Jeopardy!         4680   \n",
       "\n",
       "  value  \n",
       "0  $200  \n",
       "1  $200  \n",
       "2  $200  \n",
       "3  $200  \n",
       "4  $200  "
      ]
     },
     "execution_count": 2,
     "metadata": {},
     "output_type": "execute_result"
    }
   ],
   "source": [
    "# Let's take a look at the first few rows.\n",
    "df.head()"
   ]
  },
  {
   "cell_type": "code",
   "execution_count": 3,
   "metadata": {
    "collapsed": false,
    "deletable": true,
    "editable": true
   },
   "outputs": [
    {
     "data": {
      "text/html": [
       "<div>\n",
       "<table border=\"1\" class=\"dataframe\">\n",
       "  <thead>\n",
       "    <tr style=\"text-align: right;\">\n",
       "      <th></th>\n",
       "      <th>air_date</th>\n",
       "      <th>answer</th>\n",
       "      <th>category</th>\n",
       "      <th>question</th>\n",
       "      <th>round</th>\n",
       "      <th>show_number</th>\n",
       "      <th>value</th>\n",
       "    </tr>\n",
       "  </thead>\n",
       "  <tbody>\n",
       "    <tr>\n",
       "      <th>0</th>\n",
       "      <td>2004-12-31</td>\n",
       "      <td>Copernicus</td>\n",
       "      <td>HISTORY</td>\n",
       "      <td>'For the last 8 years of his life, Galileo was under house arrest for espousing this man's theory'</td>\n",
       "      <td>Jeopardy!</td>\n",
       "      <td>4680</td>\n",
       "      <td>$200</td>\n",
       "    </tr>\n",
       "    <tr>\n",
       "      <th>1</th>\n",
       "      <td>2004-12-31</td>\n",
       "      <td>Jim Thorpe</td>\n",
       "      <td>ESPN's TOP 10 ALL-TIME ATHLETES</td>\n",
       "      <td>'No. 2: 1912 Olympian; football star at Carlisle Indian School; 6 MLB seasons with the Reds, Giants &amp; Braves'</td>\n",
       "      <td>Jeopardy!</td>\n",
       "      <td>4680</td>\n",
       "      <td>$200</td>\n",
       "    </tr>\n",
       "    <tr>\n",
       "      <th>2</th>\n",
       "      <td>2004-12-31</td>\n",
       "      <td>Arizona</td>\n",
       "      <td>EVERYBODY TALKS ABOUT IT...</td>\n",
       "      <td>'The city of Yuma in this state has a record average of 4,055 hours of sunshine each year'</td>\n",
       "      <td>Jeopardy!</td>\n",
       "      <td>4680</td>\n",
       "      <td>$200</td>\n",
       "    </tr>\n",
       "    <tr>\n",
       "      <th>3</th>\n",
       "      <td>2004-12-31</td>\n",
       "      <td>McDonald\\'s</td>\n",
       "      <td>THE COMPANY LINE</td>\n",
       "      <td>'In 1963, live on \"The Art Linkletter Show\", this company served its billionth burger'</td>\n",
       "      <td>Jeopardy!</td>\n",
       "      <td>4680</td>\n",
       "      <td>$200</td>\n",
       "    </tr>\n",
       "    <tr>\n",
       "      <th>4</th>\n",
       "      <td>2004-12-31</td>\n",
       "      <td>John Adams</td>\n",
       "      <td>EPITAPHS &amp; TRIBUTES</td>\n",
       "      <td>'Signer of the Dec. of Indep., framer of the Constitution of Mass., second President of the United States'</td>\n",
       "      <td>Jeopardy!</td>\n",
       "      <td>4680</td>\n",
       "      <td>$200</td>\n",
       "    </tr>\n",
       "  </tbody>\n",
       "</table>\n",
       "</div>"
      ],
      "text/plain": [
       "     air_date       answer                         category  \\\n",
       "0  2004-12-31   Copernicus                          HISTORY   \n",
       "1  2004-12-31   Jim Thorpe  ESPN's TOP 10 ALL-TIME ATHLETES   \n",
       "2  2004-12-31      Arizona      EVERYBODY TALKS ABOUT IT...   \n",
       "3  2004-12-31  McDonald\\'s                 THE COMPANY LINE   \n",
       "4  2004-12-31   John Adams              EPITAPHS & TRIBUTES   \n",
       "\n",
       "                                                                                                        question  \\\n",
       "0             'For the last 8 years of his life, Galileo was under house arrest for espousing this man's theory'   \n",
       "1  'No. 2: 1912 Olympian; football star at Carlisle Indian School; 6 MLB seasons with the Reds, Giants & Braves'   \n",
       "2                     'The city of Yuma in this state has a record average of 4,055 hours of sunshine each year'   \n",
       "3                         'In 1963, live on \"The Art Linkletter Show\", this company served its billionth burger'   \n",
       "4     'Signer of the Dec. of Indep., framer of the Constitution of Mass., second President of the United States'   \n",
       "\n",
       "       round  show_number value  \n",
       "0  Jeopardy!         4680  $200  \n",
       "1  Jeopardy!         4680  $200  \n",
       "2  Jeopardy!         4680  $200  \n",
       "3  Jeopardy!         4680  $200  \n",
       "4  Jeopardy!         4680  $200  "
      ]
     },
     "execution_count": 3,
     "metadata": {},
     "output_type": "execute_result"
    }
   ],
   "source": [
    "# While it's fun that the first question is about astronomy, \n",
    "# I can't see the whole question. Let's fix that.\n",
    "pd.set_option('max_colwidth', 300)\n",
    "df.head()"
   ]
  },
  {
   "cell_type": "code",
   "execution_count": 4,
   "metadata": {
    "collapsed": false,
    "deletable": true,
    "editable": true
   },
   "outputs": [
    {
     "data": {
      "text/plain": [
       "air_date       216930\n",
       "answer         216930\n",
       "category       216930\n",
       "question       216930\n",
       "round          216930\n",
       "show_number    216930\n",
       "value          213296\n",
       "dtype: int64"
      ]
     },
     "execution_count": 4,
     "metadata": {},
     "output_type": "execute_result"
    }
   ],
   "source": [
    "# Now let's see how much data we have.\n",
    "df.count()"
   ]
  },
  {
   "cell_type": "code",
   "execution_count": 5,
   "metadata": {
    "collapsed": false,
    "deletable": true,
    "editable": true
   },
   "outputs": [
    {
     "data": {
      "text/plain": [
       "Final Jeopardy!    3631\n",
       "Tiebreaker            3\n",
       "Name: round, dtype: int64"
      ]
     },
     "execution_count": 5,
     "metadata": {},
     "output_type": "execute_result"
    }
   ],
   "source": [
    "# There are 216930 questions in the set, \n",
    "# but the *value* column is missing some. \n",
    "# It must have some null values for Final Jeopardy! \n",
    "# and Tie Breaker round. Let's check that out to make sure.\n",
    "\n",
    "df[df['value'].isnull()]['round'].value_counts()"
   ]
  },
  {
   "cell_type": "code",
   "execution_count": 6,
   "metadata": {
    "collapsed": false,
    "deletable": true,
    "editable": true
   },
   "outputs": [
    {
     "data": {
      "text/plain": [
       "216930"
      ]
     },
     "execution_count": 6,
     "metadata": {},
     "output_type": "execute_result"
    }
   ],
   "source": [
    "# Make sure everything adds up.\n",
    "213296+3631+3"
   ]
  },
  {
   "cell_type": "code",
   "execution_count": 7,
   "metadata": {
    "collapsed": false,
    "deletable": true,
    "editable": true
   },
   "outputs": [
    {
     "data": {
      "text/html": [
       "<div>\n",
       "<table border=\"1\" class=\"dataframe\">\n",
       "  <thead>\n",
       "    <tr style=\"text-align: right;\">\n",
       "      <th></th>\n",
       "      <th>air_date</th>\n",
       "      <th>answer</th>\n",
       "      <th>category</th>\n",
       "      <th>question</th>\n",
       "      <th>round</th>\n",
       "      <th>show_number</th>\n",
       "      <th>value</th>\n",
       "    </tr>\n",
       "  </thead>\n",
       "  <tbody>\n",
       "    <tr>\n",
       "      <th>12305</th>\n",
       "      <td>2007-11-13</td>\n",
       "      <td>The Children\\'s Hour</td>\n",
       "      <td>CHILD'S PLAY</td>\n",
       "      <td>'A Longfellow poem &amp; a Lillian Hellman play about a girls' boarding school share this timely title'</td>\n",
       "      <td>Tiebreaker</td>\n",
       "      <td>5332</td>\n",
       "      <td>None</td>\n",
       "    </tr>\n",
       "    <tr>\n",
       "      <th>184710</th>\n",
       "      <td>1997-05-19</td>\n",
       "      <td>the Articles of Confederation</td>\n",
       "      <td>THE AMERICAN REVOLUTION</td>\n",
       "      <td>'On Nov. 15, 1777 Congress adopted this constitution but it wasn't ratified by the states until March 1, 1781'</td>\n",
       "      <td>Tiebreaker</td>\n",
       "      <td>2941</td>\n",
       "      <td>None</td>\n",
       "    </tr>\n",
       "    <tr>\n",
       "      <th>198973</th>\n",
       "      <td>2002-09-20</td>\n",
       "      <td>Professor Dumbledore</td>\n",
       "      <td>LITERARY CHARACTERS</td>\n",
       "      <td>'Hogwarts headmaster, he's considered by many to be the greatest wizard alive'</td>\n",
       "      <td>Tiebreaker</td>\n",
       "      <td>4150</td>\n",
       "      <td>None</td>\n",
       "    </tr>\n",
       "  </tbody>\n",
       "</table>\n",
       "</div>"
      ],
      "text/plain": [
       "          air_date                         answer                 category  \\\n",
       "12305   2007-11-13           The Children\\'s Hour             CHILD'S PLAY   \n",
       "184710  1997-05-19  the Articles of Confederation  THE AMERICAN REVOLUTION   \n",
       "198973  2002-09-20           Professor Dumbledore      LITERARY CHARACTERS   \n",
       "\n",
       "                                                                                                              question  \\\n",
       "12305              'A Longfellow poem & a Lillian Hellman play about a girls' boarding school share this timely title'   \n",
       "184710  'On Nov. 15, 1777 Congress adopted this constitution but it wasn't ratified by the states until March 1, 1781'   \n",
       "198973                                  'Hogwarts headmaster, he's considered by many to be the greatest wizard alive'   \n",
       "\n",
       "             round  show_number value  \n",
       "12305   Tiebreaker         5332  None  \n",
       "184710  Tiebreaker         2941  None  \n",
       "198973  Tiebreaker         4150  None  "
      ]
     },
     "execution_count": 7,
     "metadata": {},
     "output_type": "execute_result"
    }
   ],
   "source": [
    "# I'm curious about those tiebreaker questions...\n",
    "df[df['round'] == \"Tiebreaker\"]"
   ]
  },
  {
   "cell_type": "markdown",
   "metadata": {
    "deletable": true,
    "editable": true
   },
   "source": [
    "It looks like Tiebreakers happen rarely, about every 5 years or so, rather than every 20 years as stated in the file description."
   ]
  },
  {
   "cell_type": "code",
   "execution_count": 8,
   "metadata": {
    "collapsed": false,
    "deletable": true,
    "editable": true
   },
   "outputs": [
    {
     "data": {
      "text/plain": [
       "BEFORE & AFTER             547\n",
       "SCIENCE                    519\n",
       "LITERATURE                 496\n",
       "AMERICAN HISTORY           418\n",
       "POTPOURRI                  401\n",
       "WORLD HISTORY              377\n",
       "WORD ORIGINS               371\n",
       "COLLEGES & UNIVERSITIES    351\n",
       "HISTORY                    349\n",
       "SPORTS                     342\n",
       "U.S. CITIES                339\n",
       "WORLD GEOGRAPHY            338\n",
       "BODIES OF WATER            327\n",
       "ANIMALS                    324\n",
       "STATE CAPITALS             314\n",
       "Name: category, dtype: int64"
      ]
     },
     "execution_count": 8,
     "metadata": {},
     "output_type": "execute_result"
    }
   ],
   "source": [
    "# Now let's take a look at the top categories \n",
    "# by creating a list of the categories and their counts\n",
    "category_counts = df['category'].value_counts() \n",
    "# Here are the top categories in this list.\n",
    "category_counts[:15]"
   ]
  },
  {
   "cell_type": "code",
   "execution_count": 9,
   "metadata": {
    "collapsed": false,
    "deletable": true,
    "editable": true,
    "scrolled": true
   },
   "outputs": [
    {
     "data": {
      "text/html": [
       "<div>\n",
       "<table border=\"1\" class=\"dataframe\">\n",
       "  <thead>\n",
       "    <tr style=\"text-align: right;\">\n",
       "      <th></th>\n",
       "      <th>air_date</th>\n",
       "      <th>answer</th>\n",
       "      <th>category</th>\n",
       "      <th>question</th>\n",
       "      <th>round</th>\n",
       "      <th>show_number</th>\n",
       "      <th>value</th>\n",
       "    </tr>\n",
       "  </thead>\n",
       "  <tbody>\n",
       "    <tr>\n",
       "      <th>3557</th>\n",
       "      <td>2004-06-28</td>\n",
       "      <td>Freaky Friday the 13th</td>\n",
       "      <td>BEFORE &amp; AFTER</td>\n",
       "      <td>'1980 scarefest in which mom &amp; daughter switch bodies one day &amp; are stalked by Jason at Camp Crystal Lake'</td>\n",
       "      <td>Double Jeopardy!</td>\n",
       "      <td>4576</td>\n",
       "      <td>$400</td>\n",
       "    </tr>\n",
       "    <tr>\n",
       "      <th>3563</th>\n",
       "      <td>2004-06-28</td>\n",
       "      <td>Erik the Red Giant</td>\n",
       "      <td>BEFORE &amp; AFTER</td>\n",
       "      <td>'Leif Ericson's dad who was a huge star with low surface temperature'</td>\n",
       "      <td>Double Jeopardy!</td>\n",
       "      <td>4576</td>\n",
       "      <td>$800</td>\n",
       "    </tr>\n",
       "    <tr>\n",
       "      <th>3569</th>\n",
       "      <td>2004-06-28</td>\n",
       "      <td>Nancy Drew Barrymore</td>\n",
       "      <td>BEFORE &amp; AFTER</td>\n",
       "      <td>'Fictional girl sleuth who's the granddaughter of \"The Great Profile\"'</td>\n",
       "      <td>Double Jeopardy!</td>\n",
       "      <td>4576</td>\n",
       "      <td>$1200</td>\n",
       "    </tr>\n",
       "    <tr>\n",
       "      <th>3575</th>\n",
       "      <td>2004-06-28</td>\n",
       "      <td>Cape Horn o\\' Plenty</td>\n",
       "      <td>BEFORE &amp; AFTER</td>\n",
       "      <td>'Projection at the southern tip of South America also called a cornucopia'</td>\n",
       "      <td>Double Jeopardy!</td>\n",
       "      <td>4576</td>\n",
       "      <td>$1600</td>\n",
       "    </tr>\n",
       "    <tr>\n",
       "      <th>3581</th>\n",
       "      <td>2004-06-28</td>\n",
       "      <td>the Richard Donner Party</td>\n",
       "      <td>BEFORE &amp; AFTER</td>\n",
       "      <td>'\"Lethal Weapon\" director whose group was caught in a Sierra Nevada pass in the winter of 1846-47'</td>\n",
       "      <td>Double Jeopardy!</td>\n",
       "      <td>4576</td>\n",
       "      <td>$2000</td>\n",
       "    </tr>\n",
       "  </tbody>\n",
       "</table>\n",
       "</div>"
      ],
      "text/plain": [
       "        air_date                    answer        category  \\\n",
       "3557  2004-06-28    Freaky Friday the 13th  BEFORE & AFTER   \n",
       "3563  2004-06-28        Erik the Red Giant  BEFORE & AFTER   \n",
       "3569  2004-06-28      Nancy Drew Barrymore  BEFORE & AFTER   \n",
       "3575  2004-06-28      Cape Horn o\\' Plenty  BEFORE & AFTER   \n",
       "3581  2004-06-28  the Richard Donner Party  BEFORE & AFTER   \n",
       "\n",
       "                                                                                                        question  \\\n",
       "3557  '1980 scarefest in which mom & daughter switch bodies one day & are stalked by Jason at Camp Crystal Lake'   \n",
       "3563                                       'Leif Ericson's dad who was a huge star with low surface temperature'   \n",
       "3569                                      'Fictional girl sleuth who's the granddaughter of \"The Great Profile\"'   \n",
       "3575                                  'Projection at the southern tip of South America also called a cornucopia'   \n",
       "3581          '\"Lethal Weapon\" director whose group was caught in a Sierra Nevada pass in the winter of 1846-47'   \n",
       "\n",
       "                 round  show_number  value  \n",
       "3557  Double Jeopardy!         4576   $400  \n",
       "3563  Double Jeopardy!         4576   $800  \n",
       "3569  Double Jeopardy!         4576  $1200  \n",
       "3575  Double Jeopardy!         4576  $1600  \n",
       "3581  Double Jeopardy!         4576  $2000  "
      ]
     },
     "execution_count": 9,
     "metadata": {},
     "output_type": "execute_result"
    }
   ],
   "source": [
    "# Here are some questions from the most popular category, Before & After.\n",
    "df[df['category']=='BEFORE & AFTER'].head()"
   ]
  },
  {
   "cell_type": "markdown",
   "metadata": {
    "deletable": true,
    "editable": true
   },
   "source": [
    "I enjoy word play and *Before & After* is one of my favorite categories, but these questions can be **TOUGH**.  [Jeremy Singer-Vine did some Jeopardy analysis](http://www.slate.com/articles/arts/culturebox/2011/02/ill_take_jeopardy_trivia_for_200_alex.html) and found that the Before and After category is actually the number one category in Double Jeopardy as well. It makes sense that this difficult category appears in Double Jeopardy, the most lucrative of the two rounds in Jeopardy."
   ]
  },
  {
   "cell_type": "markdown",
   "metadata": {
    "deletable": true,
    "editable": true
   },
   "source": [
    "## Does \"Planet\" + \"acid\" = \"Venus\"?"
   ]
  },
  {
   "cell_type": "markdown",
   "metadata": {
    "deletable": true,
    "editable": true
   },
   "source": [
    "Let's go back to the idea that keywords in a question can give hints about the answer is without needing to understand the entirety of the question, like in the case of *planet + acid = Venus*. Let's see if this is the case for Venus and if I can find more of these."
   ]
  },
  {
   "cell_type": "code",
   "execution_count": 10,
   "metadata": {
    "collapsed": false,
    "deletable": true,
    "editable": true
   },
   "outputs": [
    {
     "data": {
      "text/html": [
       "<div>\n",
       "<table border=\"1\" class=\"dataframe\">\n",
       "  <thead>\n",
       "    <tr style=\"text-align: right;\">\n",
       "      <th></th>\n",
       "      <th>air_date</th>\n",
       "      <th>answer</th>\n",
       "      <th>category</th>\n",
       "      <th>question</th>\n",
       "      <th>round</th>\n",
       "      <th>show_number</th>\n",
       "      <th>value</th>\n",
       "    </tr>\n",
       "  </thead>\n",
       "  <tbody>\n",
       "    <tr>\n",
       "      <th>172015</th>\n",
       "      <td>1996-12-09</td>\n",
       "      <td>Venus</td>\n",
       "      <td>THE PLANETS</td>\n",
       "      <td>'Layers of sulfuric acid clouds completely obscure the surface of this neighboring planet'</td>\n",
       "      <td>Jeopardy!</td>\n",
       "      <td>2826</td>\n",
       "      <td>$300</td>\n",
       "    </tr>\n",
       "    <tr>\n",
       "      <th>203839</th>\n",
       "      <td>2004-10-19</td>\n",
       "      <td>Venus</td>\n",
       "      <td>THE NIGHTTIME SKY</td>\n",
       "      <td>'Called the Earth's twin, this planet's surface features are obscured by thick clouds of sulfuric acid'</td>\n",
       "      <td>Double Jeopardy!</td>\n",
       "      <td>4627</td>\n",
       "      <td>$400</td>\n",
       "    </tr>\n",
       "  </tbody>\n",
       "</table>\n",
       "</div>"
      ],
      "text/plain": [
       "          air_date answer           category  \\\n",
       "172015  1996-12-09  Venus        THE PLANETS   \n",
       "203839  2004-10-19  Venus  THE NIGHTTIME SKY   \n",
       "\n",
       "                                                                                                       question  \\\n",
       "172015               'Layers of sulfuric acid clouds completely obscure the surface of this neighboring planet'   \n",
       "203839  'Called the Earth's twin, this planet's surface features are obscured by thick clouds of sulfuric acid'   \n",
       "\n",
       "                   round  show_number value  \n",
       "172015         Jeopardy!         2826  $300  \n",
       "203839  Double Jeopardy!         4627  $400  "
      ]
     },
     "execution_count": 10,
     "metadata": {},
     "output_type": "execute_result"
    }
   ],
   "source": [
    "df[(df[\"question\"].str.contains('planet')) & (df[\"question\"].str.contains('acid'))]"
   ]
  },
  {
   "cell_type": "code",
   "execution_count": 11,
   "metadata": {
    "collapsed": false,
    "deletable": true,
    "editable": true
   },
   "outputs": [
    {
     "data": {
      "text/html": [
       "<div>\n",
       "<table border=\"1\" class=\"dataframe\">\n",
       "  <thead>\n",
       "    <tr style=\"text-align: right;\">\n",
       "      <th></th>\n",
       "      <th>air_date</th>\n",
       "      <th>answer</th>\n",
       "      <th>category</th>\n",
       "      <th>question</th>\n",
       "      <th>round</th>\n",
       "      <th>show_number</th>\n",
       "      <th>value</th>\n",
       "    </tr>\n",
       "  </thead>\n",
       "  <tbody>\n",
       "    <tr>\n",
       "      <th>4161</th>\n",
       "      <td>2002-12-18</td>\n",
       "      <td>\"Dune\"</td>\n",
       "      <td>WORMS</td>\n",
       "      <td>'In this 1965 sci-fi novel, giant sandworms on the planet Arrakis create a much-desired spice called melange'</td>\n",
       "      <td>Jeopardy!</td>\n",
       "      <td>4213</td>\n",
       "      <td>$1000</td>\n",
       "    </tr>\n",
       "  </tbody>\n",
       "</table>\n",
       "</div>"
      ],
      "text/plain": [
       "        air_date  answer category  \\\n",
       "4161  2002-12-18  \"Dune\"    WORMS   \n",
       "\n",
       "                                                                                                           question  \\\n",
       "4161  'In this 1965 sci-fi novel, giant sandworms on the planet Arrakis create a much-desired spice called melange'   \n",
       "\n",
       "          round  show_number  value  \n",
       "4161  Jeopardy!         4213  $1000  "
      ]
     },
     "execution_count": 11,
     "metadata": {},
     "output_type": "execute_result"
    }
   ],
   "source": [
    "# Here's another fun one :)\n",
    "df[(df[\"question\"].str.contains('sandworms'))]"
   ]
  },
  {
   "cell_type": "markdown",
   "metadata": {
    "deletable": true,
    "editable": true
   },
   "source": [
    "## Cleaning the data"
   ]
  },
  {
   "cell_type": "markdown",
   "metadata": {
    "deletable": true,
    "editable": true
   },
   "source": [
    "After playing with the data and getting a feel for the format of the columns and rows, it's a good idea to start cleaning it up. This will help when I do more statistical work later on. Also, once I have a nice clean dataset, I can explore the idea of keywords in more detail. \n",
    "\n",
    "To get started, let's see what sort of data types we are dealing with."
   ]
  },
  {
   "cell_type": "code",
   "execution_count": 12,
   "metadata": {
    "collapsed": false,
    "deletable": true,
    "editable": true,
    "scrolled": true
   },
   "outputs": [
    {
     "data": {
      "text/plain": [
       "air_date       object\n",
       "answer         object\n",
       "category       object\n",
       "question       object\n",
       "round          object\n",
       "show_number     int64\n",
       "value          object\n",
       "dtype: object"
      ]
     },
     "execution_count": 12,
     "metadata": {},
     "output_type": "execute_result"
    }
   ],
   "source": [
    "# Check data types\n",
    "df.dtypes"
   ]
  },
  {
   "cell_type": "markdown",
   "metadata": {
    "deletable": true,
    "editable": true
   },
   "source": [
    "The data type *object* here is a string. Let's convert some of these columns to a more useful format and clean up the strings."
   ]
  },
  {
   "cell_type": "code",
   "execution_count": 13,
   "metadata": {
    "collapsed": true,
    "deletable": true,
    "editable": true
   },
   "outputs": [],
   "source": [
    "# Convert 'air_date' to date/time format.\n",
    "df['air_date'] = pd.to_datetime(df['air_date'], yearfirst= True)\n",
    "# Convert 'value' to float after removing non-essential characters.\n",
    "df['value'] = df['value'].str.replace('$','').str.replace(',','').astype(float)"
   ]
  },
  {
   "cell_type": "code",
   "execution_count": 14,
   "metadata": {
    "collapsed": false,
    "deletable": true,
    "editable": true
   },
   "outputs": [
    {
     "data": {
      "text/plain": [
       "air_date       datetime64[ns]\n",
       "answer                 object\n",
       "category               object\n",
       "question               object\n",
       "round                  object\n",
       "show_number             int64\n",
       "value                 float64\n",
       "dtype: object"
      ]
     },
     "execution_count": 14,
     "metadata": {},
     "output_type": "execute_result"
    }
   ],
   "source": [
    "# Check data types again.\n",
    "df.dtypes"
   ]
  },
  {
   "cell_type": "code",
   "execution_count": 15,
   "metadata": {
    "collapsed": false,
    "deletable": true,
    "editable": true
   },
   "outputs": [
    {
     "data": {
      "text/html": [
       "<div>\n",
       "<table border=\"1\" class=\"dataframe\">\n",
       "  <thead>\n",
       "    <tr style=\"text-align: right;\">\n",
       "      <th></th>\n",
       "      <th>air_date</th>\n",
       "      <th>answer</th>\n",
       "      <th>category</th>\n",
       "      <th>question</th>\n",
       "      <th>round</th>\n",
       "      <th>show_number</th>\n",
       "      <th>value</th>\n",
       "    </tr>\n",
       "  </thead>\n",
       "  <tbody>\n",
       "    <tr>\n",
       "      <th>29</th>\n",
       "      <td>2004-12-31</td>\n",
       "      <td>Horton</td>\n",
       "      <td>DR. SEUSS AT THE MULTIPLEX</td>\n",
       "      <td>'&lt;a href=\"http://www.j-archive.com/media/2004-12-31_DJ_23.mp3\"&gt;Beyond ovoid abandonment, beyond ovoid betrayal... you won't believe the ending when he \"Hatches the Egg\"&lt;/a&gt;'</td>\n",
       "      <td>Double Jeopardy!</td>\n",
       "      <td>4680</td>\n",
       "      <td>400.0</td>\n",
       "    </tr>\n",
       "    <tr>\n",
       "      <th>39</th>\n",
       "      <td>2004-12-31</td>\n",
       "      <td>an old-fashioned</td>\n",
       "      <td>\"X\"s &amp; \"O\"s</td>\n",
       "      <td>'The shorter glass seen &lt;a href=\"http://www.j-archive.com/media/2004-12-31_DJ_12.jpg\" target=\"_blank\"&gt;here&lt;/a&gt;, or a quaint cocktail made with sugar &amp; bitters'</td>\n",
       "      <td>Double Jeopardy!</td>\n",
       "      <td>4680</td>\n",
       "      <td>800.0</td>\n",
       "    </tr>\n",
       "    <tr>\n",
       "      <th>40</th>\n",
       "      <td>2004-12-31</td>\n",
       "      <td>Yertle</td>\n",
       "      <td>DR. SEUSS AT THE MULTIPLEX</td>\n",
       "      <td>'&lt;a href=\"http://www.j-archive.com/media/2004-12-31_DJ_26.mp3\"&gt;Ripped from today's headlines, he was a turtle king gone mad; Mack was the one good turtle who'd bring him down&lt;/a&gt;'</td>\n",
       "      <td>Double Jeopardy!</td>\n",
       "      <td>4680</td>\n",
       "      <td>1200.0</td>\n",
       "    </tr>\n",
       "  </tbody>\n",
       "</table>\n",
       "</div>"
      ],
      "text/plain": [
       "     air_date            answer                    category  \\\n",
       "29 2004-12-31            Horton  DR. SEUSS AT THE MULTIPLEX   \n",
       "39 2004-12-31  an old-fashioned                 \"X\"s & \"O\"s   \n",
       "40 2004-12-31            Yertle  DR. SEUSS AT THE MULTIPLEX   \n",
       "\n",
       "                                                                                                                                                                               question  \\\n",
       "29        '<a href=\"http://www.j-archive.com/media/2004-12-31_DJ_23.mp3\">Beyond ovoid abandonment, beyond ovoid betrayal... you won't believe the ending when he \"Hatches the Egg\"</a>'   \n",
       "39                      'The shorter glass seen <a href=\"http://www.j-archive.com/media/2004-12-31_DJ_12.jpg\" target=\"_blank\">here</a>, or a quaint cocktail made with sugar & bitters'   \n",
       "40  '<a href=\"http://www.j-archive.com/media/2004-12-31_DJ_26.mp3\">Ripped from today's headlines, he was a turtle king gone mad; Mack was the one good turtle who'd bring him down</a>'   \n",
       "\n",
       "               round  show_number   value  \n",
       "29  Double Jeopardy!         4680   400.0  \n",
       "39  Double Jeopardy!         4680   800.0  \n",
       "40  Double Jeopardy!         4680  1200.0  "
      ]
     },
     "execution_count": 15,
     "metadata": {},
     "output_type": "execute_result"
    }
   ],
   "source": [
    "# We should also remove the html text from the questions.\n",
    "# Let's take a look at the questions with links in them.\n",
    "df[df['question'].str.contains('http')].head(3)"
   ]
  },
  {
   "cell_type": "code",
   "execution_count": 16,
   "metadata": {
    "collapsed": false,
    "deletable": true,
    "editable": true
   },
   "outputs": [
    {
     "data": {
      "text/html": [
       "<div>\n",
       "<table border=\"1\" class=\"dataframe\">\n",
       "  <thead>\n",
       "    <tr style=\"text-align: right;\">\n",
       "      <th></th>\n",
       "      <th>air_date</th>\n",
       "      <th>answer</th>\n",
       "      <th>category</th>\n",
       "      <th>question</th>\n",
       "      <th>round</th>\n",
       "      <th>show_number</th>\n",
       "      <th>value</th>\n",
       "      <th>question_htmlview</th>\n",
       "    </tr>\n",
       "  </thead>\n",
       "  <tbody>\n",
       "    <tr>\n",
       "      <th>29</th>\n",
       "      <td>2004-12-31</td>\n",
       "      <td>Horton</td>\n",
       "      <td>DR. SEUSS AT THE MULTIPLEX</td>\n",
       "      <td>'&lt;a href=\"http://www.j-archive.com/media/2004-12-31_DJ_23.mp3\"&gt;Beyond ovoid abandonment, beyond ovoid betrayal... you won't believe the ending when he \"Hatches the Egg\"&lt;/a&gt;'</td>\n",
       "      <td>Double Jeopardy!</td>\n",
       "      <td>4680</td>\n",
       "      <td>400.0</td>\n",
       "      <td>'&amp;lt;a href=\"http://www.j-archive.com/media/2004-12-31_DJ_23.mp3\"&amp;gt;Beyond ovoid abandonment, beyond ovoid betrayal... you won't believe the ending when he \"Hatches the Egg\"&amp;lt;/a&amp;gt;'</td>\n",
       "    </tr>\n",
       "    <tr>\n",
       "      <th>39</th>\n",
       "      <td>2004-12-31</td>\n",
       "      <td>an old-fashioned</td>\n",
       "      <td>\"X\"s &amp; \"O\"s</td>\n",
       "      <td>'The shorter glass seen &lt;a href=\"http://www.j-archive.com/media/2004-12-31_DJ_12.jpg\" target=\"_blank\"&gt;here&lt;/a&gt;, or a quaint cocktail made with sugar &amp; bitters'</td>\n",
       "      <td>Double Jeopardy!</td>\n",
       "      <td>4680</td>\n",
       "      <td>800.0</td>\n",
       "      <td>'The shorter glass seen &amp;lt;a href=\"http://www.j-archive.com/media/2004-12-31_DJ_12.jpg\" target=\"_blank\"&amp;gt;here&amp;lt;/a&amp;gt;, or a quaint cocktail made with sugar &amp;amp; bitters'</td>\n",
       "    </tr>\n",
       "    <tr>\n",
       "      <th>40</th>\n",
       "      <td>2004-12-31</td>\n",
       "      <td>Yertle</td>\n",
       "      <td>DR. SEUSS AT THE MULTIPLEX</td>\n",
       "      <td>'&lt;a href=\"http://www.j-archive.com/media/2004-12-31_DJ_26.mp3\"&gt;Ripped from today's headlines, he was a turtle king gone mad; Mack was the one good turtle who'd bring him down&lt;/a&gt;'</td>\n",
       "      <td>Double Jeopardy!</td>\n",
       "      <td>4680</td>\n",
       "      <td>1200.0</td>\n",
       "      <td>'&amp;lt;a href=\"http://www.j-archive.com/media/2004-12-31_DJ_26.mp3\"&amp;gt;Ripped from today's headlines, he was a turtle king gone mad; Mack was the one good turtle who'd bring him down&amp;lt;/a&amp;gt;'</td>\n",
       "    </tr>\n",
       "  </tbody>\n",
       "</table>\n",
       "</div>"
      ],
      "text/plain": [
       "     air_date            answer                    category  \\\n",
       "29 2004-12-31            Horton  DR. SEUSS AT THE MULTIPLEX   \n",
       "39 2004-12-31  an old-fashioned                 \"X\"s & \"O\"s   \n",
       "40 2004-12-31            Yertle  DR. SEUSS AT THE MULTIPLEX   \n",
       "\n",
       "                                                                                                                                                                               question  \\\n",
       "29        '<a href=\"http://www.j-archive.com/media/2004-12-31_DJ_23.mp3\">Beyond ovoid abandonment, beyond ovoid betrayal... you won't believe the ending when he \"Hatches the Egg\"</a>'   \n",
       "39                      'The shorter glass seen <a href=\"http://www.j-archive.com/media/2004-12-31_DJ_12.jpg\" target=\"_blank\">here</a>, or a quaint cocktail made with sugar & bitters'   \n",
       "40  '<a href=\"http://www.j-archive.com/media/2004-12-31_DJ_26.mp3\">Ripped from today's headlines, he was a turtle king gone mad; Mack was the one good turtle who'd bring him down</a>'   \n",
       "\n",
       "               round  show_number   value  \\\n",
       "29  Double Jeopardy!         4680   400.0   \n",
       "39  Double Jeopardy!         4680   800.0   \n",
       "40  Double Jeopardy!         4680  1200.0   \n",
       "\n",
       "                                                                                                                                                                                  question_htmlview  \n",
       "29        '&lt;a href=\"http://www.j-archive.com/media/2004-12-31_DJ_23.mp3\"&gt;Beyond ovoid abandonment, beyond ovoid betrayal... you won't believe the ending when he \"Hatches the Egg\"&lt;/a&gt;'  \n",
       "39                  'The shorter glass seen &lt;a href=\"http://www.j-archive.com/media/2004-12-31_DJ_12.jpg\" target=\"_blank\"&gt;here&lt;/a&gt;, or a quaint cocktail made with sugar &amp; bitters'  \n",
       "40  '&lt;a href=\"http://www.j-archive.com/media/2004-12-31_DJ_26.mp3\"&gt;Ripped from today's headlines, he was a turtle king gone mad; Mack was the one good turtle who'd bring him down&lt;/a&gt;'  "
      ]
     },
     "execution_count": 16,
     "metadata": {},
     "output_type": "execute_result"
    }
   ],
   "source": [
    "# This step can be skipped when working with the notebook. \n",
    "# It is only necessary to display the html correctly on the blog page.\n",
    "import cgi \n",
    "df['question_htmlview'] = df['question'].apply(lambda x: cgi.escape(x))\n",
    "df[df['question'].str.contains('http')].head(3)"
   ]
  },
  {
   "cell_type": "code",
   "execution_count": 17,
   "metadata": {
    "collapsed": false,
    "deletable": true,
    "editable": true
   },
   "outputs": [
    {
     "data": {
      "text/plain": [
       "0.04852256488268105"
      ]
     },
     "execution_count": 17,
     "metadata": {},
     "output_type": "execute_result"
    }
   ],
   "source": [
    "# How important are these questions with links?\n",
    "x = df[df['question'].str.contains('http')]['question'].count()\n",
    "y = df['question'].count()\n",
    "float(x)/float(y)"
   ]
  },
  {
   "cell_type": "markdown",
   "metadata": {
    "deletable": true,
    "editable": true
   },
   "source": [
    "About 5% of Jeopardy questions have a link which may contain a relevant image or sound file. I won't miss much if I ignore the information contained in the links, i.e., pictures, videos, audio, etc. "
   ]
  },
  {
   "cell_type": "markdown",
   "metadata": {
    "deletable": true,
    "editable": true
   },
   "source": [
    "### Regular expressions are greedy."
   ]
  },
  {
   "cell_type": "markdown",
   "metadata": {
    "deletable": true,
    "editable": true
   },
   "source": [
    "In order to remove the html text within the angled brackets, I initially used the following regular expression replacement:\n",
    "\n",
    "`df['question'] = df['question'].str.replace('<.*>','')`\n",
    "\n",
    "My first attempt was close to correct, but I only discovered accidentally later on that my regular expression was removing too much text. \n",
    "\n",
    "The question \n",
    "\n",
    "* \"`&lt;a href=\"http://www.j-archive.com/media/2010-07-06_DJ_14.jpg\" target=\"_blank\"&gt;This dog breed seen here&lt;/a&gt;' is a loyal and protective companion`\"\n",
    "\n",
    "was modified to be \n",
    "\n",
    "* `is a loyal and protective companion`\n",
    "\n",
    "Uh-oh. It should be `This dog breed seen here is a loyal and protective companion`\n",
    "\n",
    "The regular expression was removing **everything** between the very first angled bracket and the very last angled bracket. This is because regular expressions are inherently \"greedy\"; they try to maximize the match. Luckily, this can be turned off by using a question mark. The [Google Python class](https://developers.google.com/edu/python/) gives a really nice [explanation](\n",
    "https://developers.google.com/edu/python/regular-expressions#greedy-vs-non-greedy-optional) of this.\n",
    "\n",
    "To fix my problem I added a question mark. (Many problems in life can be fixed by asking a question. ;) )\n",
    "\n",
    "`df['question'] = df['question'].str.replace('<.*?>', \"\")`\n",
    "\n",
    "(By the way, I found this mistake by chance when checking the JSON file I create at the end of this notebook. The first rows of the file were reordered to show the problem question above. Argh!)"
   ]
  },
  {
   "cell_type": "code",
   "execution_count": 18,
   "metadata": {
    "collapsed": false,
    "deletable": true,
    "editable": true
   },
   "outputs": [
    {
     "name": "stdout",
     "output_type": "stream",
     "text": [
      "Empty DataFrame\n",
      "Columns: [air_date, answer, category, question, round, show_number, value, question_htmlview]\n",
      "Index: []\n",
      "Empty DataFrame\n",
      "Columns: [air_date, answer, category, question, round, show_number, value, question_htmlview]\n",
      "Index: []\n"
     ]
    }
   ],
   "source": [
    "# Let's do this! Remove the text within <...>  to get rid of the links.\n",
    "df['question'] = df['question'].str.replace('<.*?>', \"\")  #GREEDY --> replace('<.*>','')\n",
    "\n",
    "# Check results.\n",
    "print df[df['question'].str.contains('<')].head()\n",
    "print df[df['question'].str.contains('>')].head()"
   ]
  },
  {
   "cell_type": "code",
   "execution_count": 19,
   "metadata": {
    "collapsed": false,
    "deletable": true,
    "editable": true
   },
   "outputs": [
    {
     "data": {
      "text/html": [
       "<div>\n",
       "<table border=\"1\" class=\"dataframe\">\n",
       "  <thead>\n",
       "    <tr style=\"text-align: right;\">\n",
       "      <th></th>\n",
       "      <th>air_date</th>\n",
       "      <th>answer</th>\n",
       "      <th>category</th>\n",
       "      <th>question</th>\n",
       "      <th>round</th>\n",
       "      <th>show_number</th>\n",
       "      <th>value</th>\n",
       "      <th>question_htmlview</th>\n",
       "    </tr>\n",
       "  </thead>\n",
       "  <tbody>\n",
       "    <tr>\n",
       "      <th>100</th>\n",
       "      <td>2010-07-06</td>\n",
       "      <td>a German Shepherd</td>\n",
       "      <td>JUST THE FACTS</td>\n",
       "      <td>'This dog breed seen here is a loyal and protective companion'</td>\n",
       "      <td>Double Jeopardy!</td>\n",
       "      <td>5957</td>\n",
       "      <td>1200.0</td>\n",
       "      <td>'&amp;lt;a href=\"http://www.j-archive.com/media/2010-07-06_DJ_14.jpg\" target=\"_blank\"&amp;gt;This dog breed seen here&amp;lt;/a&amp;gt; is a loyal and protective companion'</td>\n",
       "    </tr>\n",
       "  </tbody>\n",
       "</table>\n",
       "</div>"
      ],
      "text/plain": [
       "      air_date             answer        category  \\\n",
       "100 2010-07-06  a German Shepherd  JUST THE FACTS   \n",
       "\n",
       "                                                           question  \\\n",
       "100  'This dog breed seen here is a loyal and protective companion'   \n",
       "\n",
       "                round  show_number   value  \\\n",
       "100  Double Jeopardy!         5957  1200.0   \n",
       "\n",
       "                                                                                                                                                question_htmlview  \n",
       "100  '&lt;a href=\"http://www.j-archive.com/media/2010-07-06_DJ_14.jpg\" target=\"_blank\"&gt;This dog breed seen here&lt;/a&gt; is a loyal and protective companion'  "
      ]
     },
     "execution_count": 19,
     "metadata": {},
     "output_type": "execute_result"
    }
   ],
   "source": [
    "# Check the problem question from above.\n",
    "df[df['question'].str.contains('protective companion')]"
   ]
  },
  {
   "cell_type": "code",
   "execution_count": 20,
   "metadata": {
    "collapsed": false,
    "deletable": true,
    "editable": true
   },
   "outputs": [
    {
     "data": {
      "text/html": [
       "<div>\n",
       "<table border=\"1\" class=\"dataframe\">\n",
       "  <thead>\n",
       "    <tr style=\"text-align: right;\">\n",
       "      <th></th>\n",
       "      <th>air_date</th>\n",
       "      <th>answer</th>\n",
       "      <th>category</th>\n",
       "      <th>question</th>\n",
       "      <th>round</th>\n",
       "      <th>show_number</th>\n",
       "      <th>value</th>\n",
       "      <th>question_htmlview</th>\n",
       "    </tr>\n",
       "  </thead>\n",
       "  <tbody>\n",
       "    <tr>\n",
       "      <th>12215</th>\n",
       "      <td>2009-10-01</td>\n",
       "      <td>forward slash</td>\n",
       "      <td>PUNCTUATION</td>\n",
       "      <td>'http://www.j-archive.com/Read all about me at www.jeopardy.com this punctuation mark showguide_bioalex.php'</td>\n",
       "      <td>Double Jeopardy!</td>\n",
       "      <td>5759</td>\n",
       "      <td>400.0</td>\n",
       "      <td>'http://www.j-archive.com/Read all about me at www.jeopardy.com this punctuation mark showguide_bioalex.php'</td>\n",
       "    </tr>\n",
       "    <tr>\n",
       "      <th>95991</th>\n",
       "      <td>2007-09-26</td>\n",
       "      <td>hypertext</td>\n",
       "      <td>WHAT THE \"H\"?</td>\n",
       "      <td>'It's the \"ht\" in http &amp; html'</td>\n",
       "      <td>Double Jeopardy!</td>\n",
       "      <td>5298</td>\n",
       "      <td>1200.0</td>\n",
       "      <td>'It's the \"ht\" in http &amp;amp; html'</td>\n",
       "    </tr>\n",
       "    <tr>\n",
       "      <th>142576</th>\n",
       "      <td>2003-04-15</td>\n",
       "      <td>a colon &amp; two slashes</td>\n",
       "      <td>MARKS</td>\n",
       "      <td>'On the Internet, these three marks separate http from www'</td>\n",
       "      <td>Jeopardy!</td>\n",
       "      <td>4297</td>\n",
       "      <td>400.0</td>\n",
       "      <td>'On the Internet, these three marks separate http from www'</td>\n",
       "    </tr>\n",
       "  </tbody>\n",
       "</table>\n",
       "</div>"
      ],
      "text/plain": [
       "         air_date                 answer       category  \\\n",
       "12215  2009-10-01          forward slash    PUNCTUATION   \n",
       "95991  2007-09-26              hypertext  WHAT THE \"H\"?   \n",
       "142576 2003-04-15  a colon & two slashes          MARKS   \n",
       "\n",
       "                                                                                                            question  \\\n",
       "12215   'http://www.j-archive.com/Read all about me at www.jeopardy.com this punctuation mark showguide_bioalex.php'   \n",
       "95991                                                                                 'It's the \"ht\" in http & html'   \n",
       "142576                                                   'On the Internet, these three marks separate http from www'   \n",
       "\n",
       "                   round  show_number   value  \\\n",
       "12215   Double Jeopardy!         5759   400.0   \n",
       "95991   Double Jeopardy!         5298  1200.0   \n",
       "142576         Jeopardy!         4297   400.0   \n",
       "\n",
       "                                                                                                   question_htmlview  \n",
       "12215   'http://www.j-archive.com/Read all about me at www.jeopardy.com this punctuation mark showguide_bioalex.php'  \n",
       "95991                                                                             'It's the \"ht\" in http &amp; html'  \n",
       "142576                                                   'On the Internet, these three marks separate http from www'  "
      ]
     },
     "execution_count": 20,
     "metadata": {},
     "output_type": "execute_result"
    }
   ],
   "source": [
    "# Check if there are any other links.\n",
    "df[df['question'].str.contains('http')]"
   ]
  },
  {
   "cell_type": "markdown",
   "metadata": {
    "deletable": true,
    "editable": true
   },
   "source": [
    "It looks like all the http links have been removed except the first one shown above. I'll fix that one by hand."
   ]
  },
  {
   "cell_type": "code",
   "execution_count": 21,
   "metadata": {
    "collapsed": false,
    "deletable": true,
    "editable": true
   },
   "outputs": [
    {
     "data": {
      "text/html": [
       "<div>\n",
       "<table border=\"1\" class=\"dataframe\">\n",
       "  <thead>\n",
       "    <tr style=\"text-align: right;\">\n",
       "      <th></th>\n",
       "      <th>air_date</th>\n",
       "      <th>answer</th>\n",
       "      <th>category</th>\n",
       "      <th>question</th>\n",
       "      <th>round</th>\n",
       "      <th>show_number</th>\n",
       "      <th>value</th>\n",
       "      <th>question_htmlview</th>\n",
       "    </tr>\n",
       "  </thead>\n",
       "  <tbody>\n",
       "    <tr>\n",
       "      <th>12215</th>\n",
       "      <td>2009-10-01</td>\n",
       "      <td>forward slash</td>\n",
       "      <td>PUNCTUATION</td>\n",
       "      <td>'Read all about me at www.jeopardy.com this punctuation mark '</td>\n",
       "      <td>Double Jeopardy!</td>\n",
       "      <td>5759</td>\n",
       "      <td>400.0</td>\n",
       "      <td>'http://www.j-archive.com/Read all about me at www.jeopardy.com this punctuation mark showguide_bioalex.php'</td>\n",
       "    </tr>\n",
       "  </tbody>\n",
       "</table>\n",
       "</div>"
      ],
      "text/plain": [
       "        air_date         answer     category  \\\n",
       "12215 2009-10-01  forward slash  PUNCTUATION   \n",
       "\n",
       "                                                             question  \\\n",
       "12215  'Read all about me at www.jeopardy.com this punctuation mark '   \n",
       "\n",
       "                  round  show_number  value  \\\n",
       "12215  Double Jeopardy!         5759  400.0   \n",
       "\n",
       "                                                                                                  question_htmlview  \n",
       "12215  'http://www.j-archive.com/Read all about me at www.jeopardy.com this punctuation mark showguide_bioalex.php'  "
      ]
     },
     "execution_count": 21,
     "metadata": {},
     "output_type": "execute_result"
    }
   ],
   "source": [
    "df['question'] = df['question'].str.replace('http://www.j-archive.com/','')\n",
    "df['question'] = df['question'].str.replace('showguide_bioalex.php','')\n",
    "# Check work\n",
    "df[df['question'].str.contains('Read all about me')]"
   ]
  },
  {
   "cell_type": "code",
   "execution_count": 22,
   "metadata": {
    "collapsed": true,
    "deletable": true,
    "editable": true
   },
   "outputs": [],
   "source": [
    "# Now let's remove the beginning and ending quotation marks.\n",
    "df['question'] = df['question'].str.rstrip(\"'\").str.lstrip(\"'\")\n",
    "# Let's also remove the column \"question_htmlview\"\n",
    "del df['question_htmlview']"
   ]
  },
  {
   "cell_type": "markdown",
   "metadata": {
    "deletable": true,
    "editable": true
   },
   "source": [
    "### Fixing the dollar amounts after the change in 2001."
   ]
  },
  {
   "cell_type": "markdown",
   "metadata": {
    "deletable": true,
    "editable": true
   },
   "source": [
    "The dollar amounts on Jeopardy used to actually be half of what they are now. The first Jeopardy round's dollar amounts originally ranged from \\$100 to \\$500. Today they range from \\$200 to \\$1000. For the Double Jeopardy round, currently the dollar amounts range from \\$400 to \\$2000. This changed on November 26, 2001. (Thank you [wikipedia.](https://en.wikipedia.org/wiki/Jeopardy!))\n",
    "\n",
    "To make the dollar amounts consistent across the years, my plan is to multiply dollar amounts before November 26, 2001 by a factor of 2. But first I'll check that the data appears to reflect this transition date and then I'll change the dollar amounts and check the result."
   ]
  },
  {
   "cell_type": "code",
   "execution_count": 23,
   "metadata": {
    "collapsed": false,
    "deletable": true,
    "editable": true
   },
   "outputs": [
    {
     "data": {
      "text/plain": [
       "<matplotlib.text.Text at 0x12913ddd0>"
      ]
     },
     "execution_count": 23,
     "metadata": {},
     "output_type": "execute_result"
    },
    {
     "data": {
      "image/png": "[encoded data removed]",
      "text/plain": [
       "<matplotlib.figure.Figure at 0x12e7be590>"
      ]
     },
     "metadata": {},
     "output_type": "display_data"
    }
   ],
   "source": [
    "# This command is needed in order to take advantage of matplotlib features.\n",
    "import matplotlib.pyplot as plt   \n",
    "# The following command allows plots to appear in the jupyter notebook.\n",
    "%matplotlib inline  \n",
    "\n",
    "ax = df.plot(x='air_date', y='value',  style = '.', \n",
    "             legend = False, figsize=(14,4), fontsize = 15)\n",
    "ax.set_xlabel(\"Air Date\",fontsize = 20)\n",
    "ax.set_ylabel(\"Dollar Amounts\",fontsize = 20)"
   ]
  },
  {
   "cell_type": "code",
   "execution_count": 24,
   "metadata": {
    "collapsed": false,
    "deletable": true,
    "editable": true
   },
   "outputs": [
    {
     "data": {
      "image/png": "[encoded data removed]",
      "text/plain": [
       "<matplotlib.figure.Figure at 0x10aa92790>"
      ]
     },
     "metadata": {},
     "output_type": "display_data"
    }
   ],
   "source": [
    "#  Use a semicolon at the end of the last line to remove the \"matplotlib\" text above the plot.\n",
    "ax = df.plot(x='air_date', y='value',  style = '.', \n",
    "             legend = False, figsize=(14,4), fontsize = 15)\n",
    "ax.set_xlabel(\"Air Date\",fontsize = 20)\n",
    "ax.set_ylabel(\"Dollar Amounts\",fontsize = 20);"
   ]
  },
  {
   "cell_type": "markdown",
   "metadata": {
    "deletable": true,
    "editable": true
   },
   "source": [
    "Now, this plot shows the dollar amounts for all clues, even the Daily Doubles and Final Jeopardy clues, which can be any dollar amount because the contestant sets the amount. If I look only in the dollar range that is offered by plain old Jeopardy clues I'll get a clearer picture of what is going on. The smallest offered value is \\$100 from before 2001 and the largest is \\$2000 from after 2001.\n",
    "\n",
    "Another thing I noticed about this plot is that there doesn't seem to be the same density of points before 1997. I'll look into that after I adjust the dollar amounts."
   ]
  },
  {
   "cell_type": "code",
   "execution_count": 25,
   "metadata": {
    "collapsed": false,
    "deletable": true,
    "editable": true
   },
   "outputs": [
    {
     "data": {
      "image/png": "[encoded data removed]",
      "text/plain": [
       "<matplotlib.figure.Figure at 0x1324e6650>"
      ]
     },
     "metadata": {},
     "output_type": "display_data"
    }
   ],
   "source": [
    "# Zooming in on the non-Daily Double dollar range, from $100-$2000\n",
    "ax = df.plot(x='air_date', y='value',  style = '.', \n",
    "             legend = False, figsize=(14,4), fontsize = 15)\n",
    "ax.set_xlabel(\"Air Date\",fontsize = 20)\n",
    "ax.set_ylabel(\"Dollar Amounts\",fontsize = 20)\n",
    "ymin = 0.0\n",
    "ymax = 2100.0\n",
    "ax.set_ylim(ymin,ymax);"
   ]
  },
  {
   "cell_type": "markdown",
   "metadata": {
    "deletable": true,
    "editable": true
   },
   "source": [
    "Take a look at the dollar amounts for \\$100, \\$300, and \\$500. Before 2001, every Jeopardy episode had at least one clue worth \\$100, \\$300, and \\$500.  But, notice that after 2001, there are fewer of these amounts; clues becomes more sparse for these dollar amounts. This is because those dollar amounts are from wagers only, not from regular clues. So, it looks like the dollar amount hasn't been modified in anyway. \n",
    "\n",
    "In order to get all of the clues normalized to the same dollar amount, I'm going to multiply values before 2001 by a factor of 2. This way, when we compare values at any time, we'll be making a fair comparison that takes into account the \"inflation\" of the dollar amounts."
   ]
  },
  {
   "cell_type": "code",
   "execution_count": 26,
   "metadata": {
    "collapsed": false,
    "deletable": true,
    "editable": true
   },
   "outputs": [
    {
     "data": {
      "text/html": [
       "<div>\n",
       "<table border=\"1\" class=\"dataframe\">\n",
       "  <thead>\n",
       "    <tr style=\"text-align: right;\">\n",
       "      <th></th>\n",
       "      <th>air_date</th>\n",
       "      <th>answer</th>\n",
       "      <th>category</th>\n",
       "      <th>question</th>\n",
       "      <th>round</th>\n",
       "      <th>show_number</th>\n",
       "      <th>value</th>\n",
       "      <th>value_original</th>\n",
       "    </tr>\n",
       "  </thead>\n",
       "  <tbody>\n",
       "    <tr>\n",
       "      <th>0</th>\n",
       "      <td>2004-12-31</td>\n",
       "      <td>Copernicus</td>\n",
       "      <td>HISTORY</td>\n",
       "      <td>For the last 8 years of his life, Galileo was under house arrest for espousing this man's theory</td>\n",
       "      <td>Jeopardy!</td>\n",
       "      <td>4680</td>\n",
       "      <td>200.0</td>\n",
       "      <td>200.0</td>\n",
       "    </tr>\n",
       "    <tr>\n",
       "      <th>1</th>\n",
       "      <td>2004-12-31</td>\n",
       "      <td>Jim Thorpe</td>\n",
       "      <td>ESPN's TOP 10 ALL-TIME ATHLETES</td>\n",
       "      <td>No. 2: 1912 Olympian; football star at Carlisle Indian School; 6 MLB seasons with the Reds, Giants &amp; Braves</td>\n",
       "      <td>Jeopardy!</td>\n",
       "      <td>4680</td>\n",
       "      <td>200.0</td>\n",
       "      <td>200.0</td>\n",
       "    </tr>\n",
       "    <tr>\n",
       "      <th>2</th>\n",
       "      <td>2004-12-31</td>\n",
       "      <td>Arizona</td>\n",
       "      <td>EVERYBODY TALKS ABOUT IT...</td>\n",
       "      <td>The city of Yuma in this state has a record average of 4,055 hours of sunshine each year</td>\n",
       "      <td>Jeopardy!</td>\n",
       "      <td>4680</td>\n",
       "      <td>200.0</td>\n",
       "      <td>200.0</td>\n",
       "    </tr>\n",
       "    <tr>\n",
       "      <th>3</th>\n",
       "      <td>2004-12-31</td>\n",
       "      <td>McDonald\\'s</td>\n",
       "      <td>THE COMPANY LINE</td>\n",
       "      <td>In 1963, live on \"The Art Linkletter Show\", this company served its billionth burger</td>\n",
       "      <td>Jeopardy!</td>\n",
       "      <td>4680</td>\n",
       "      <td>200.0</td>\n",
       "      <td>200.0</td>\n",
       "    </tr>\n",
       "    <tr>\n",
       "      <th>4</th>\n",
       "      <td>2004-12-31</td>\n",
       "      <td>John Adams</td>\n",
       "      <td>EPITAPHS &amp; TRIBUTES</td>\n",
       "      <td>Signer of the Dec. of Indep., framer of the Constitution of Mass., second President of the United States</td>\n",
       "      <td>Jeopardy!</td>\n",
       "      <td>4680</td>\n",
       "      <td>200.0</td>\n",
       "      <td>200.0</td>\n",
       "    </tr>\n",
       "  </tbody>\n",
       "</table>\n",
       "</div>"
      ],
      "text/plain": [
       "    air_date       answer                         category  \\\n",
       "0 2004-12-31   Copernicus                          HISTORY   \n",
       "1 2004-12-31   Jim Thorpe  ESPN's TOP 10 ALL-TIME ATHLETES   \n",
       "2 2004-12-31      Arizona      EVERYBODY TALKS ABOUT IT...   \n",
       "3 2004-12-31  McDonald\\'s                 THE COMPANY LINE   \n",
       "4 2004-12-31   John Adams              EPITAPHS & TRIBUTES   \n",
       "\n",
       "                                                                                                      question  \\\n",
       "0             For the last 8 years of his life, Galileo was under house arrest for espousing this man's theory   \n",
       "1  No. 2: 1912 Olympian; football star at Carlisle Indian School; 6 MLB seasons with the Reds, Giants & Braves   \n",
       "2                     The city of Yuma in this state has a record average of 4,055 hours of sunshine each year   \n",
       "3                         In 1963, live on \"The Art Linkletter Show\", this company served its billionth burger   \n",
       "4     Signer of the Dec. of Indep., framer of the Constitution of Mass., second President of the United States   \n",
       "\n",
       "       round  show_number  value  value_original  \n",
       "0  Jeopardy!         4680  200.0           200.0  \n",
       "1  Jeopardy!         4680  200.0           200.0  \n",
       "2  Jeopardy!         4680  200.0           200.0  \n",
       "3  Jeopardy!         4680  200.0           200.0  \n",
       "4  Jeopardy!         4680  200.0           200.0  "
      ]
     },
     "execution_count": 26,
     "metadata": {},
     "output_type": "execute_result"
    }
   ],
   "source": [
    "# Make a new column that contains the original value \n",
    "# so we can compare the values before and after.\n",
    "df['value_original'] = df['value']\n",
    "df.head()"
   ]
  },
  {
   "cell_type": "code",
   "execution_count": 27,
   "metadata": {
    "collapsed": true,
    "deletable": true,
    "editable": true
   },
   "outputs": [],
   "source": [
    "# Double values for the dataframe where date is before November 26, 2001. \n",
    "df.loc[df['air_date'] < \"2001-11-26\", ['value']] = 2.0 * df['value']"
   ]
  },
  {
   "cell_type": "code",
   "execution_count": 28,
   "metadata": {
    "collapsed": false,
    "deletable": true,
    "editable": true
   },
   "outputs": [
    {
     "data": {
      "text/html": [
       "<div>\n",
       "<table border=\"1\" class=\"dataframe\">\n",
       "  <thead>\n",
       "    <tr style=\"text-align: right;\">\n",
       "      <th></th>\n",
       "      <th>air_date</th>\n",
       "      <th>answer</th>\n",
       "      <th>category</th>\n",
       "      <th>question</th>\n",
       "      <th>round</th>\n",
       "      <th>show_number</th>\n",
       "      <th>value</th>\n",
       "      <th>value_original</th>\n",
       "    </tr>\n",
       "  </thead>\n",
       "  <tbody>\n",
       "    <tr>\n",
       "      <th>117</th>\n",
       "      <td>2000-12-18</td>\n",
       "      <td>Princess Diana</td>\n",
       "      <td>ROYAL FEMALE NICKNAMES</td>\n",
       "      <td>Prime Minister Tony Blair dubbed her \"The People's Princess\"</td>\n",
       "      <td>Jeopardy!</td>\n",
       "      <td>3751</td>\n",
       "      <td>200.0</td>\n",
       "      <td>100.0</td>\n",
       "    </tr>\n",
       "    <tr>\n",
       "      <th>118</th>\n",
       "      <td>2000-12-18</td>\n",
       "      <td>The West Wing</td>\n",
       "      <td>TV ACTORS &amp; ROLES</td>\n",
       "      <td>Once Tommy Mullaney on \"L.A. Law\", John Spencer now plays White House chief of staff Leo McGarry on this series</td>\n",
       "      <td>Jeopardy!</td>\n",
       "      <td>3751</td>\n",
       "      <td>200.0</td>\n",
       "      <td>100.0</td>\n",
       "    </tr>\n",
       "    <tr>\n",
       "      <th>119</th>\n",
       "      <td>2000-12-18</td>\n",
       "      <td>Tokyo</td>\n",
       "      <td>TRAVEL &amp; TOURISM</td>\n",
       "      <td>The Cinderella Castle Mystery Tour is a highlight of this Asian city's Disneyland</td>\n",
       "      <td>Jeopardy!</td>\n",
       "      <td>3751</td>\n",
       "      <td>200.0</td>\n",
       "      <td>100.0</td>\n",
       "    </tr>\n",
       "    <tr>\n",
       "      <th>120</th>\n",
       "      <td>2000-12-18</td>\n",
       "      <td>Billy Idol</td>\n",
       "      <td>\"I\" LADS</td>\n",
       "      <td>This punk rock hitmaker heard here has had numerous hits on both sides of the Atlantic</td>\n",
       "      <td>Jeopardy!</td>\n",
       "      <td>3751</td>\n",
       "      <td>200.0</td>\n",
       "      <td>100.0</td>\n",
       "    </tr>\n",
       "    <tr>\n",
       "      <th>121</th>\n",
       "      <td>2000-12-18</td>\n",
       "      <td>Heart of Darkness</td>\n",
       "      <td>FOREWORDS</td>\n",
       "      <td>\"Conrad begins (and ends) Marlow's journey... on the Thames, on the yawl, Nellie\", says the foreword to this novel</td>\n",
       "      <td>Jeopardy!</td>\n",
       "      <td>3751</td>\n",
       "      <td>200.0</td>\n",
       "      <td>100.0</td>\n",
       "    </tr>\n",
       "  </tbody>\n",
       "</table>\n",
       "</div>"
      ],
      "text/plain": [
       "      air_date             answer                category  \\\n",
       "117 2000-12-18     Princess Diana  ROYAL FEMALE NICKNAMES   \n",
       "118 2000-12-18      The West Wing       TV ACTORS & ROLES   \n",
       "119 2000-12-18              Tokyo        TRAVEL & TOURISM   \n",
       "120 2000-12-18         Billy Idol                \"I\" LADS   \n",
       "121 2000-12-18  Heart of Darkness               FOREWORDS   \n",
       "\n",
       "                                                                                                               question  \\\n",
       "117                                                        Prime Minister Tony Blair dubbed her \"The People's Princess\"   \n",
       "118     Once Tommy Mullaney on \"L.A. Law\", John Spencer now plays White House chief of staff Leo McGarry on this series   \n",
       "119                                   The Cinderella Castle Mystery Tour is a highlight of this Asian city's Disneyland   \n",
       "120                              This punk rock hitmaker heard here has had numerous hits on both sides of the Atlantic   \n",
       "121  \"Conrad begins (and ends) Marlow's journey... on the Thames, on the yawl, Nellie\", says the foreword to this novel   \n",
       "\n",
       "         round  show_number  value  value_original  \n",
       "117  Jeopardy!         3751  200.0           100.0  \n",
       "118  Jeopardy!         3751  200.0           100.0  \n",
       "119  Jeopardy!         3751  200.0           100.0  \n",
       "120  Jeopardy!         3751  200.0           100.0  \n",
       "121  Jeopardy!         3751  200.0           100.0  "
      ]
     },
     "execution_count": 28,
     "metadata": {},
     "output_type": "execute_result"
    }
   ],
   "source": [
    "# Check work. Original_value and value should differ by a factor of two.\n",
    "df[df['air_date']<\"2001-11-26\"].head()"
   ]
  },
  {
   "cell_type": "markdown",
   "metadata": {
    "deletable": true,
    "editable": true
   },
   "source": [
    "It looks like the doubling worked. Let's visualize this by zooming in on the dollar amounts most affected -- the range between \\$0 and \\$2000."
   ]
  },
  {
   "cell_type": "code",
   "execution_count": 29,
   "metadata": {
    "collapsed": false,
    "deletable": true,
    "editable": true
   },
   "outputs": [
    {
     "data": {
      "image/png": "[encoded data removed]",
      "text/plain": [
       "<matplotlib.figure.Figure at 0x12b723150>"
      ]
     },
     "metadata": {},
     "output_type": "display_data"
    }
   ],
   "source": [
    "fig, ax = plt.subplots(2,1,figsize=(14,8),sharex=True)\n",
    "df.plot(x='air_date', y='value_original',  style = '.', alpha = 0.005,\n",
    "        legend = False,ax=ax[0], fontsize = 15);\n",
    "df.plot(x='air_date', y='value', style = '.', alpha = 0.005, \n",
    "        legend = False, ax=ax[1], fontsize = 15);\n",
    "\n",
    "ymin = 0.0\n",
    "ymax = 2100.0\n",
    "ax[0].set_title('BEFORE Doubling Dollar Values',fontsize = 20);\n",
    "ax[0].set_ylim(ymin,ymax);\n",
    "ax[1].set_title('AFTER Doubling Dollar Values',fontsize = 20);\n",
    "ax[1].set_ylim(ymin,ymax)\n",
    "plt.xlabel(\"Air Date\",fontsize = 20);\n",
    "plt.xlabel(\"Dollar Values\",fontsize = 20);"
   ]
  },
  {
   "cell_type": "markdown",
   "metadata": {
    "deletable": true,
    "editable": true
   },
   "source": [
    "That looks good! Notice that in the \"BEFORE plot,\" the most common values under \\$500 before 2001 are \\$100, \\$200, \\$300, \\$400, and \\$500. Compare this to the \"AFTER plot\" which has common values of \\$200 and \\$400 at all times. The doubling looks successful!"
   ]
  },
  {
   "cell_type": "markdown",
   "metadata": {
    "deletable": true,
    "editable": true
   },
   "source": [
    "## Is the data well-sampled?"
   ]
  },
  {
   "cell_type": "markdown",
   "metadata": {
    "deletable": true,
    "editable": true
   },
   "source": [
    "The previous plot shows that the data wasn't sampled very evenly in time. Before around 1997, the data looks sparse.\n",
    "\n",
    "How many questions *should* there be every year? Assuming all questions are viewed in every game, what is the maximum number of questions viewed per year? There are 30 questions per round plus the Final Jeopardy question, so there are at most 61 questions per game. Then assuming 52 weeks per year and 5 games per week, there should be *at most* 15860 questions per year.\n",
    "\n",
    "$ (61 \\textrm{ questions/game})  \\times (5 \\textrm{  games/week})  \\times (52  \\textrm{  weeks/year})    = 15860 \\textrm{ questions/year   } $\n",
    "\n",
    "Now let's see how that compares with the data we have."
   ]
  },
  {
   "cell_type": "code",
   "execution_count": 30,
   "metadata": {
    "collapsed": false,
    "deletable": true,
    "editable": true
   },
   "outputs": [
    {
     "data": {
      "text/html": [
       "<div>\n",
       "<table border=\"1\" class=\"dataframe\">\n",
       "  <thead>\n",
       "    <tr style=\"text-align: right;\">\n",
       "      <th></th>\n",
       "      <th>question</th>\n",
       "    </tr>\n",
       "    <tr>\n",
       "      <th>air_date</th>\n",
       "      <th></th>\n",
       "    </tr>\n",
       "  </thead>\n",
       "  <tbody>\n",
       "    <tr>\n",
       "      <th>1984-12-31</th>\n",
       "      <td>1179</td>\n",
       "    </tr>\n",
       "    <tr>\n",
       "      <th>1985-12-31</th>\n",
       "      <td>888</td>\n",
       "    </tr>\n",
       "    <tr>\n",
       "      <th>1986-12-31</th>\n",
       "      <td>1409</td>\n",
       "    </tr>\n",
       "    <tr>\n",
       "      <th>1987-12-31</th>\n",
       "      <td>1275</td>\n",
       "    </tr>\n",
       "    <tr>\n",
       "      <th>1988-12-31</th>\n",
       "      <td>1290</td>\n",
       "    </tr>\n",
       "  </tbody>\n",
       "</table>\n",
       "</div>"
      ],
      "text/plain": [
       "            question\n",
       "air_date            \n",
       "1984-12-31      1179\n",
       "1985-12-31       888\n",
       "1986-12-31      1409\n",
       "1987-12-31      1275\n",
       "1988-12-31      1290"
      ]
     },
     "execution_count": 30,
     "metadata": {},
     "output_type": "execute_result"
    }
   ],
   "source": [
    "# Resample the data yearly, \"A\" and then count it up.\n",
    "resample_df = df.resample('A', on='air_date')['question'].count()\n",
    "resample_df = pd.DataFrame(resample_df)\n",
    "resample_df.head()"
   ]
  },
  {
   "cell_type": "code",
   "execution_count": 31,
   "metadata": {
    "collapsed": false,
    "deletable": true,
    "editable": true
   },
   "outputs": [
    {
     "data": {
      "image/png": "[encoded data removed]",
      "text/plain": [
       "<matplotlib.figure.Figure at 0x12c61aed0>"
      ]
     },
     "metadata": {},
     "output_type": "display_data"
    }
   ],
   "source": [
    "# Now plot it.\n",
    "ax = resample_df.plot.bar(legend = False, figsize=(18,4), fontsize = 15)\n",
    "ax.set_xlabel(\"Air Date\",fontsize = 20)\n",
    "ax.set_ylabel(\"Counts\",fontsize = 20);"
   ]
  },
  {
   "cell_type": "code",
   "execution_count": 32,
   "metadata": {
    "collapsed": false,
    "deletable": true,
    "editable": true
   },
   "outputs": [],
   "source": [
    "# Those x axis labels are pretty awful. Let's clean them up.\n",
    "resample_df['year'] = resample_df.index.year\n",
    "resample_df = resample_df.set_index('year')"
   ]
  },
  {
   "cell_type": "code",
   "execution_count": 33,
   "metadata": {
    "collapsed": false,
    "deletable": true,
    "editable": true,
    "scrolled": true
   },
   "outputs": [
    {
     "data": {
      "image/png": "[encoded data removed]",
      "text/plain": [
       "<matplotlib.figure.Figure at 0x1340a9050>"
      ]
     },
     "metadata": {},
     "output_type": "display_data"
    }
   ],
   "source": [
    "ax = resample_df['question'].plot.bar(figsize=(18,4), fontsize = 15)\n",
    "ax.set_xlabel(\"Air Date\",fontsize = 20)\n",
    "\n",
    "ax.set_ylabel(\"Counts\",fontsize = 20);"
   ]
  },
  {
   "cell_type": "markdown",
   "metadata": {
    "deletable": true,
    "editable": true
   },
   "source": [
    "Yes, it looks like the dataset was not sampled evenly. "
   ]
  },
  {
   "cell_type": "code",
   "execution_count": 34,
   "metadata": {
    "collapsed": false,
    "deletable": true,
    "editable": true
   },
   "outputs": [
    {
     "data": {
      "text/plain": [
       "question    14036\n",
       "dtype: int64"
      ]
     },
     "execution_count": 34,
     "metadata": {},
     "output_type": "execute_result"
    }
   ],
   "source": [
    "# What is the maximum number of questions in a year?\n",
    "resample_df.max()"
   ]
  },
  {
   "cell_type": "markdown",
   "metadata": {
    "deletable": true,
    "editable": true
   },
   "source": [
    "Remember, there should be at most about 15,000 questions per year. The maximum value is just over 14,000, which makes sense because not all questions are always viewed in each round of Jeopardy. \n",
    "\n",
    "Sometimes a whole column will go unrevealed, which is about 10% of the questions (or 6/61). \n",
    "If I assume that some questions aren't revealed and that some years will have fewer game days, then I will only use years within 20% of the maximum value of 15860. \n",
    "\n"
   ]
  },
  {
   "cell_type": "code",
   "execution_count": 35,
   "metadata": {
    "collapsed": false,
    "deletable": true,
    "editable": true
   },
   "outputs": [
    {
     "data": {
      "text/plain": [
       "12688.0"
      ]
     },
     "execution_count": 35,
     "metadata": {},
     "output_type": "execute_result"
    }
   ],
   "source": [
    "0.8*15860"
   ]
  },
  {
   "cell_type": "code",
   "execution_count": 36,
   "metadata": {
    "collapsed": false,
    "deletable": true,
    "editable": true
   },
   "outputs": [
    {
     "data": {
      "text/html": [
       "<div>\n",
       "<table border=\"1\" class=\"dataframe\">\n",
       "  <thead>\n",
       "    <tr style=\"text-align: right;\">\n",
       "      <th></th>\n",
       "      <th>question</th>\n",
       "    </tr>\n",
       "    <tr>\n",
       "      <th>year</th>\n",
       "      <th></th>\n",
       "    </tr>\n",
       "  </thead>\n",
       "  <tbody>\n",
       "    <tr>\n",
       "      <th>1997</th>\n",
       "      <td>13099</td>\n",
       "    </tr>\n",
       "    <tr>\n",
       "      <th>1998</th>\n",
       "      <td>13143</td>\n",
       "    </tr>\n",
       "    <tr>\n",
       "      <th>1999</th>\n",
       "      <td>13540</td>\n",
       "    </tr>\n",
       "    <tr>\n",
       "      <th>2000</th>\n",
       "      <td>13439</td>\n",
       "    </tr>\n",
       "    <tr>\n",
       "      <th>2004</th>\n",
       "      <td>13190</td>\n",
       "    </tr>\n",
       "    <tr>\n",
       "      <th>2005</th>\n",
       "      <td>13560</td>\n",
       "    </tr>\n",
       "    <tr>\n",
       "      <th>2006</th>\n",
       "      <td>13726</td>\n",
       "    </tr>\n",
       "    <tr>\n",
       "      <th>2007</th>\n",
       "      <td>13940</td>\n",
       "    </tr>\n",
       "    <tr>\n",
       "      <th>2008</th>\n",
       "      <td>14036</td>\n",
       "    </tr>\n",
       "    <tr>\n",
       "      <th>2009</th>\n",
       "      <td>13579</td>\n",
       "    </tr>\n",
       "    <tr>\n",
       "      <th>2010</th>\n",
       "      <td>13756</td>\n",
       "    </tr>\n",
       "    <tr>\n",
       "      <th>2011</th>\n",
       "      <td>13376</td>\n",
       "    </tr>\n",
       "  </tbody>\n",
       "</table>\n",
       "</div>"
      ],
      "text/plain": [
       "      question\n",
       "year          \n",
       "1997     13099\n",
       "1998     13143\n",
       "1999     13540\n",
       "2000     13439\n",
       "2004     13190\n",
       "2005     13560\n",
       "2006     13726\n",
       "2007     13940\n",
       "2008     14036\n",
       "2009     13579\n",
       "2010     13756\n",
       "2011     13376"
      ]
     },
     "execution_count": 36,
     "metadata": {},
     "output_type": "execute_result"
    }
   ],
   "source": [
    "resample_df[resample_df['question'] >= 12688]"
   ]
  },
  {
   "cell_type": "markdown",
   "metadata": {
    "deletable": true,
    "editable": true
   },
   "source": [
    "It looks like the years 1997-2000 and 2004-2011 are well-sampled. "
   ]
  },
  {
   "cell_type": "markdown",
   "metadata": {
    "deletable": true,
    "editable": true
   },
   "source": [
    "## Done, for now."
   ]
  },
  {
   "cell_type": "markdown",
   "metadata": {
    "deletable": true,
    "editable": true
   },
   "source": [
    "In order to work with this cleaned dataset later, let's output it to another JSON file that pandas can read. This way I can start with this cleaned dataset next time."
   ]
  },
  {
   "cell_type": "code",
   "execution_count": 37,
   "metadata": {
    "collapsed": false,
    "deletable": true,
    "editable": true
   },
   "outputs": [],
   "source": [
    "# First remove unnecessary column.\n",
    "del df['value_original']\n",
    "# Now output the dataframe to a JSON file.\n",
    "pd.DataFrame.to_json(df, 'JEOPARDY_QUESTIONS1_cleaned.json', date_format='iso') # Output date/times as strings."
   ]
  },
  {
   "cell_type": "markdown",
   "metadata": {
    "deletable": true,
    "editable": true
   },
   "source": [
    " "
   ]
  }
 ],
 "metadata": {
  "kernelspec": {
   "display_name": "Python 2",
   "language": "python",
   "name": "python2"
  },
  "language_info": {
   "codemirror_mode": {
    "name": "ipython",
    "version": 2
   },
   "file_extension": ".py",
   "mimetype": "text/x-python",
   "name": "python",
   "nbconvert_exporter": "python",
   "pygments_lexer": "ipython2",
   "version": "2.7.13"
  }
 },
 "nbformat": 4,
 "nbformat_minor": 0
}
