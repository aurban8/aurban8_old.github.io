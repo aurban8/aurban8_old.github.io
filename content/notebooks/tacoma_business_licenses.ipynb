{
 "cells": [
  {
   "cell_type": "markdown",
   "metadata": {},
   "source": [
    "I recently moved to the Pacific Northwest from Texas and I've noticed a few differences between the regions. The big one is all the WATER. There is so much water here! It falls from the sky everyday. It causes moss to grow on rooftops. And then there's the ocean, ahem, I mean the bay. \n",
    "\n",
    "Another difference I've noticed is in the industry. I live in Tacoma which has a fairly active port. There is more train and truck traffic than I experienced in Texas. All those goods need to be transported from the Port to points east and south. This got me thinking about what the industry and business scene is like in Tacoma. \n",
    "\n",
    "The city of Tacoma has a really nice [website](https://data.cityoftacoma.org/) devoted to its public data. You can download the data directly or use some of the tools provided by [Socrata](https://socrata.com/). I decided to take a look at [Tacoma's list of business licenses](https://data.cityoftacoma.org/Business/TACOMA-BUSINESS-LICENSE/29fz-3eiz). It was last updated April 17, 2017 and has over 32,000 rows of data. That means that over 32,000 [business licenses](https://www.cityoftacoma.org/government/city_departments/finance/tax_and_license/business_license_faqs) have been issued to businesses operating in Tacoma. These businesses include lessors that [rent or lease out their property](http://www.cityoftacoma.org/government/city_departments/finance/tax_and_license/rental_business_license/) in Tacoma, as well as drivers who [drive for a ride-share company like uber or lyft](http://www.cityoftacoma.org/government/city_departments/finance/tax_and_license/For_Hire_Transportation_Service__service_companies/).\n",
    "\n",
    "I'm curious how Tacoma's industry landscape has changed over time. Let's take a look at the data."
   ]
  },
  {
   "cell_type": "code",
   "execution_count": 1,
   "metadata": {
    "collapsed": true
   },
   "outputs": [],
   "source": [
    "# Load packages.\n",
    "import numpy as np\n",
    "import pandas as pd\n",
    "import datetime\n",
    "import matplotlib.pyplot as plt   \n",
    "%matplotlib inline  "
   ]
  },
  {
   "cell_type": "code",
   "execution_count": 2,
   "metadata": {
    "collapsed": true
   },
   "outputs": [],
   "source": [
    "# Read data into pandas dataframe.\n",
    "bl = pd.read_csv('TACOMA_BUSINESS_LICENSE.csv')"
   ]
  },
  {
   "cell_type": "code",
   "execution_count": 3,
   "metadata": {
    "collapsed": false
   },
   "outputs": [
    {
     "data": {
      "text/plain": [
       "(32349, 13)"
      ]
     },
     "execution_count": 3,
     "metadata": {},
     "output_type": "execute_result"
    }
   ],
   "source": [
    "# How big is the dataset?\n",
    "bl.shape"
   ]
  },
  {
   "cell_type": "code",
   "execution_count": 4,
   "metadata": {
    "collapsed": false
   },
   "outputs": [
    {
     "data": {
      "text/html": [
       "<div>\n",
       "<table border=\"1\" class=\"dataframe\">\n",
       "  <thead>\n",
       "    <tr style=\"text-align: right;\">\n",
       "      <th></th>\n",
       "      <th>LICENSE NUMBER</th>\n",
       "      <th>BUSINESS NAME</th>\n",
       "      <th>OWNER NAME</th>\n",
       "      <th>HOUSE NUMBER AND STREET NAME</th>\n",
       "      <th>UNIT NUMBER</th>\n",
       "      <th>P.O. BOX</th>\n",
       "      <th>CITY</th>\n",
       "      <th>STATE</th>\n",
       "      <th>ZIP CODE</th>\n",
       "      <th>NAICS CODE</th>\n",
       "      <th>NAICS CODE DESCRIPTION</th>\n",
       "      <th>BUSINESS OPEN DATE</th>\n",
       "      <th>Location 1</th>\n",
       "    </tr>\n",
       "  </thead>\n",
       "  <tbody>\n",
       "    <tr>\n",
       "      <th>0</th>\n",
       "      <td>500006886</td>\n",
       "      <td>CH2M HILL INC</td>\n",
       "      <td>CH2M HILL INC</td>\n",
       "      <td>1100 112TH AVE NE</td>\n",
       "      <td>500</td>\n",
       "      <td>NaN</td>\n",
       "      <td>BELLEVUE</td>\n",
       "      <td>WA</td>\n",
       "      <td>98004</td>\n",
       "      <td>541330.0</td>\n",
       "      <td>Engineering Services   (ES 0200 0225    08)</td>\n",
       "      <td>01/01/1994</td>\n",
       "      <td>1100 112TH AVE NE\\nBELLEVUE, WA 98004\\n(47.620...</td>\n",
       "    </tr>\n",
       "    <tr>\n",
       "      <th>1</th>\n",
       "      <td>500110805</td>\n",
       "      <td>MONARCH MUSIC &amp; ENTERTAINMENT</td>\n",
       "      <td>MONARCH MUSIC &amp; ENTERTAINMENT</td>\n",
       "      <td>3910 N 24TH ST</td>\n",
       "      <td>NaN</td>\n",
       "      <td>NaN</td>\n",
       "      <td>TACOMA</td>\n",
       "      <td>WA</td>\n",
       "      <td>98406</td>\n",
       "      <td>611610.0</td>\n",
       "      <td>Fine Arts Schools   (ES 0200 0225    08)</td>\n",
       "      <td>04/16/2016</td>\n",
       "      <td>3910 N 24TH ST\\nTACOMA, WA 98406\\n(47.269197, ...</td>\n",
       "    </tr>\n",
       "    <tr>\n",
       "      <th>2</th>\n",
       "      <td>500092547</td>\n",
       "      <td>MARY BAKER</td>\n",
       "      <td>CARL E BAKER</td>\n",
       "      <td>4501 ALAMEDA AVE</td>\n",
       "      <td>NaN</td>\n",
       "      <td>NaN</td>\n",
       "      <td>UNIVERSITY PLACE</td>\n",
       "      <td>WA</td>\n",
       "      <td>98466-6314</td>\n",
       "      <td>531110.0</td>\n",
       "      <td>Lessors of Residential Buildings and Dwellings</td>\n",
       "      <td>01/01/2007</td>\n",
       "      <td>4501 ALAMEDA AVE\\nUNIVERSITY PLACE, WA 98466-6...</td>\n",
       "    </tr>\n",
       "    <tr>\n",
       "      <th>3</th>\n",
       "      <td>500115952</td>\n",
       "      <td>GAMETIME</td>\n",
       "      <td>PLAYCORE WISCONSIN INC</td>\n",
       "      <td>401 CHESTNUT ST</td>\n",
       "      <td>STE 410</td>\n",
       "      <td>NaN</td>\n",
       "      <td>CHATTANOOGA</td>\n",
       "      <td>TN</td>\n",
       "      <td>37402</td>\n",
       "      <td>451110.0</td>\n",
       "      <td>Sporting Goods Stores</td>\n",
       "      <td>12/01/2005</td>\n",
       "      <td>401 CHESTNUT ST\\nCHATTANOOGA, TN 37402\\n(35.05...</td>\n",
       "    </tr>\n",
       "    <tr>\n",
       "      <th>4</th>\n",
       "      <td>500091065</td>\n",
       "      <td>FRANK RICHMOND SECURITY</td>\n",
       "      <td>FRANK RICHMOND</td>\n",
       "      <td>3702 64TH AVENUE CT NW</td>\n",
       "      <td>NaN</td>\n",
       "      <td>NaN</td>\n",
       "      <td>GIG HARBOR</td>\n",
       "      <td>WA</td>\n",
       "      <td>98335-7236</td>\n",
       "      <td>561612.0</td>\n",
       "      <td>Security Guards and Patrol Services</td>\n",
       "      <td>02/06/2015</td>\n",
       "      <td>3702 64TH AVENUE CT NW\\nGIG HARBOR, WA 98335-7...</td>\n",
       "    </tr>\n",
       "  </tbody>\n",
       "</table>\n",
       "</div>"
      ],
      "text/plain": [
       "   LICENSE NUMBER                  BUSINESS NAME  \\\n",
       "0       500006886                  CH2M HILL INC   \n",
       "1       500110805  MONARCH MUSIC & ENTERTAINMENT   \n",
       "2       500092547                     MARY BAKER   \n",
       "3       500115952                       GAMETIME   \n",
       "4       500091065        FRANK RICHMOND SECURITY   \n",
       "\n",
       "                      OWNER NAME HOUSE NUMBER AND STREET NAME UNIT NUMBER  \\\n",
       "0                  CH2M HILL INC            1100 112TH AVE NE         500   \n",
       "1  MONARCH MUSIC & ENTERTAINMENT               3910 N 24TH ST         NaN   \n",
       "2                   CARL E BAKER             4501 ALAMEDA AVE         NaN   \n",
       "3         PLAYCORE WISCONSIN INC              401 CHESTNUT ST     STE 410   \n",
       "4                 FRANK RICHMOND       3702 64TH AVENUE CT NW         NaN   \n",
       "\n",
       "   P.O. BOX              CITY STATE    ZIP CODE  NAICS CODE  \\\n",
       "0       NaN          BELLEVUE    WA       98004    541330.0   \n",
       "1       NaN            TACOMA    WA       98406    611610.0   \n",
       "2       NaN  UNIVERSITY PLACE    WA  98466-6314    531110.0   \n",
       "3       NaN       CHATTANOOGA    TN       37402    451110.0   \n",
       "4       NaN        GIG HARBOR    WA  98335-7236    561612.0   \n",
       "\n",
       "                           NAICS CODE DESCRIPTION BUSINESS OPEN DATE  \\\n",
       "0     Engineering Services   (ES 0200 0225    08)         01/01/1994   \n",
       "1        Fine Arts Schools   (ES 0200 0225    08)         04/16/2016   \n",
       "2  Lessors of Residential Buildings and Dwellings         01/01/2007   \n",
       "3                           Sporting Goods Stores         12/01/2005   \n",
       "4             Security Guards and Patrol Services         02/06/2015   \n",
       "\n",
       "                                          Location 1  \n",
       "0  1100 112TH AVE NE\\nBELLEVUE, WA 98004\\n(47.620...  \n",
       "1  3910 N 24TH ST\\nTACOMA, WA 98406\\n(47.269197, ...  \n",
       "2  4501 ALAMEDA AVE\\nUNIVERSITY PLACE, WA 98466-6...  \n",
       "3  401 CHESTNUT ST\\nCHATTANOOGA, TN 37402\\n(35.05...  \n",
       "4  3702 64TH AVENUE CT NW\\nGIG HARBOR, WA 98335-7...  "
      ]
     },
     "execution_count": 4,
     "metadata": {},
     "output_type": "execute_result"
    }
   ],
   "source": [
    "# View the dataset\n",
    "bl.head()"
   ]
  },
  {
   "cell_type": "markdown",
   "metadata": {},
   "source": [
    "Most of the columns are pretty self-explanatory. The `ZIP CODE` and `STATE` columns tell me where the owner of the business is located. Also the `BUSINESS OPEN DATE` might be useful too.  The columns labeled `NAICS CODE` and `NAICS CODE DESCRIPTION` give an idea of the industry of the business. NAICS (North American Industry Classification System) codes are like the [Dewey Decimal System](https://en.wikipedia.org/wiki/Dewey_Decimal_Classification) numbers that you can see marked on library books. "
   ]
  },
  {
   "cell_type": "markdown",
   "metadata": {},
   "source": [
    "For NAICS codes, the longer the number the more precise the classification. For example, if a business is classified as part of business sector `61`, then it provides educational services. However, it is classified as `611512`, then it is a flight training school. \n",
    "\n",
    "Here's a listing of the description of the first two digits of the NAICS code."
   ]
  },
  {
   "cell_type": "markdown",
   "metadata": {},
   "source": [
    "There are about 20 generally defined sectors of business. It would interesting to see how these sectors have changed in Tacoma over time using the `BUSINESS OPEN DATE` to track that. \n",
    "\n",
    "However, before I get ahead of myself, let me clean the data up a bit."
   ]
  },
  {
   "cell_type": "code",
   "execution_count": 5,
   "metadata": {
    "collapsed": false,
    "format": "row"
   },
   "outputs": [
    {
     "data": {
      "text/plain": [
       "LICENSE NUMBER                    int64\n",
       "BUSINESS NAME                    object\n",
       "OWNER NAME                       object\n",
       "HOUSE NUMBER AND STREET NAME     object\n",
       "UNIT NUMBER                      object\n",
       "P.O. BOX                        float64\n",
       "CITY                             object\n",
       "STATE                            object\n",
       "ZIP CODE                         object\n",
       "NAICS CODE                      float64\n",
       "NAICS CODE DESCRIPTION           object\n",
       "BUSINESS OPEN DATE               object\n",
       "Location 1                       object\n",
       "dtype: object"
      ]
     },
     "execution_count": 5,
     "metadata": {},
     "output_type": "execute_result"
    }
   ],
   "source": [
    "# Check the data types\n",
    "bl.dtypes"
   ]
  },
  {
   "cell_type": "code",
   "execution_count": 6,
   "metadata": {
    "collapsed": true
   },
   "outputs": [],
   "source": [
    "# Convert date to datetime format.\n",
    "bl['BUSINESS OPEN DATE'] = pd.to_datetime(bl['BUSINESS OPEN DATE'])"
   ]
  },
  {
   "cell_type": "markdown",
   "metadata": {},
   "source": [
    "## History of businesses in Tacoma\n",
    "\n",
    "Now that the data is cleaned up, let's take a look at the oldest and the newest businesses in Tacoma. "
   ]
  },
  {
   "cell_type": "code",
   "execution_count": 7,
   "metadata": {
    "collapsed": false
   },
   "outputs": [
    {
     "data": {
      "text/html": [
       "<div>\n",
       "<table border=\"1\" class=\"dataframe\">\n",
       "  <thead>\n",
       "    <tr style=\"text-align: right;\">\n",
       "      <th></th>\n",
       "      <th>BUSINESS NAME</th>\n",
       "      <th>NAICS CODE DESCRIPTION</th>\n",
       "      <th>BUSINESS OPEN DATE</th>\n",
       "    </tr>\n",
       "  </thead>\n",
       "  <tbody>\n",
       "    <tr>\n",
       "      <th>21176</th>\n",
       "      <td>THE SALVATION ARMY</td>\n",
       "      <td>Used Merchandise Stores (ES 0200 0225    08)</td>\n",
       "      <td>1888-01-01 00:00:00</td>\n",
       "    </tr>\n",
       "    <tr>\n",
       "      <th>31196</th>\n",
       "      <td>OTIS ELEVATOR COMPANY</td>\n",
       "      <td>Industrial Machinery/Equipment Merch Whlslrs (...</td>\n",
       "      <td>1920-01-01</td>\n",
       "    </tr>\n",
       "    <tr>\n",
       "      <th>30013</th>\n",
       "      <td>TRINITY PRESBYTERIAN CHURCH OF TACO</td>\n",
       "      <td>Religious Organizations</td>\n",
       "      <td>1922-01-01</td>\n",
       "    </tr>\n",
       "    <tr>\n",
       "      <th>7139</th>\n",
       "      <td>TACOMA GOODWILL INDUSTRIES</td>\n",
       "      <td>Used Merchandise Stores (ES 0200 0225    08)</td>\n",
       "      <td>1922-04-01</td>\n",
       "    </tr>\n",
       "    <tr>\n",
       "      <th>13503</th>\n",
       "      <td>LOOMIS ARMORED US LLC</td>\n",
       "      <td>Armored Car Services   (ES 0200 0225    08)</td>\n",
       "      <td>1936-01-01</td>\n",
       "    </tr>\n",
       "    <tr>\n",
       "      <th>25824</th>\n",
       "      <td>CASCADE POLE &amp; LUMBER CO</td>\n",
       "      <td>Other Commercial and Industrial Machinery and ...</td>\n",
       "      <td>1936-01-01</td>\n",
       "    </tr>\n",
       "    <tr>\n",
       "      <th>30559</th>\n",
       "      <td>TITUS-WILL FORD INC</td>\n",
       "      <td>New Car Dealers  (ES 0200 0225    08)</td>\n",
       "      <td>1938-01-01</td>\n",
       "    </tr>\n",
       "    <tr>\n",
       "      <th>24526</th>\n",
       "      <td>MCKESSON CORPORATION</td>\n",
       "      <td>Drugs and Druggists' Sundries Merchant Wholesa...</td>\n",
       "      <td>1938-01-01</td>\n",
       "    </tr>\n",
       "    <tr>\n",
       "      <th>3137</th>\n",
       "      <td>DARRELL WITTE</td>\n",
       "      <td>Lessors of Residential Buildings and Dwellings</td>\n",
       "      <td>1942-07-01</td>\n",
       "    </tr>\n",
       "    <tr>\n",
       "      <th>32249</th>\n",
       "      <td>KBR CREDIT UNION</td>\n",
       "      <td>Credit Unions   (ES 0200 0225    08)</td>\n",
       "      <td>1949-07-01</td>\n",
       "    </tr>\n",
       "  </tbody>\n",
       "</table>\n",
       "</div>"
      ],
      "text/plain": [
       "                             BUSINESS NAME  \\\n",
       "21176                   THE SALVATION ARMY   \n",
       "31196                OTIS ELEVATOR COMPANY   \n",
       "30013  TRINITY PRESBYTERIAN CHURCH OF TACO   \n",
       "7139            TACOMA GOODWILL INDUSTRIES   \n",
       "13503                LOOMIS ARMORED US LLC   \n",
       "25824             CASCADE POLE & LUMBER CO   \n",
       "30559                  TITUS-WILL FORD INC   \n",
       "24526                 MCKESSON CORPORATION   \n",
       "3137                         DARRELL WITTE   \n",
       "32249                     KBR CREDIT UNION   \n",
       "\n",
       "                                  NAICS CODE DESCRIPTION  BUSINESS OPEN DATE  \n",
       "21176       Used Merchandise Stores (ES 0200 0225    08) 1888-01-01 00:00:00  \n",
       "31196  Industrial Machinery/Equipment Merch Whlslrs (...          1920-01-01  \n",
       "30013                            Religious Organizations          1922-01-01  \n",
       "7139        Used Merchandise Stores (ES 0200 0225    08)          1922-04-01  \n",
       "13503        Armored Car Services   (ES 0200 0225    08)          1936-01-01  \n",
       "25824  Other Commercial and Industrial Machinery and ...          1936-01-01  \n",
       "30559              New Car Dealers  (ES 0200 0225    08)          1938-01-01  \n",
       "24526  Drugs and Druggists' Sundries Merchant Wholesa...          1938-01-01  \n",
       "3137      Lessors of Residential Buildings and Dwellings          1942-07-01  \n",
       "32249               Credit Unions   (ES 0200 0225    08)          1949-07-01  "
      ]
     },
     "execution_count": 7,
     "metadata": {},
     "output_type": "execute_result"
    }
   ],
   "source": [
    "# Sort businesses by open date.\n",
    "sorted = bl.sort_values(by = 'BUSINESS OPEN DATE')\n",
    "# Oldest businesses\n",
    "sorted[['BUSINESS NAME','NAICS CODE DESCRIPTION', 'BUSINESS OPEN DATE']].head(10)"
   ]
  },
  {
   "cell_type": "markdown",
   "metadata": {},
   "source": [
    "Interesting! The oldest company in Tacoma is the Salvation Army which opened in 1888. The city of Tacoma was incorporated in 1875 and there must have been businesses then. I haven't been able to figure out when Tacoma started issuing business licenses. However, the description of the dataset describes it as a list of \"active accounts.\" So perhaps these are the oldest companies in Tacoma that are still around. \n",
    "\n",
    "Now let's take a look at the most recent businesses."
   ]
  },
  {
   "cell_type": "code",
   "execution_count": 8,
   "metadata": {
    "collapsed": false
   },
   "outputs": [
    {
     "data": {
      "text/html": [
       "<div>\n",
       "<table border=\"1\" class=\"dataframe\">\n",
       "  <thead>\n",
       "    <tr style=\"text-align: right;\">\n",
       "      <th></th>\n",
       "      <th>BUSINESS NAME</th>\n",
       "      <th>NAICS CODE DESCRIPTION</th>\n",
       "      <th>BUSINESS OPEN DATE</th>\n",
       "    </tr>\n",
       "  </thead>\n",
       "  <tbody>\n",
       "    <tr>\n",
       "      <th>32251</th>\n",
       "      <td>NICE GIRL JEWELRY AND REPAIR</td>\n",
       "      <td>Other Direct Selling Establishments  (ES 0200 ...</td>\n",
       "      <td>2017-08-05</td>\n",
       "    </tr>\n",
       "    <tr>\n",
       "      <th>21934</th>\n",
       "      <td>WORD OF MOUTH CONCRETE</td>\n",
       "      <td>Commercial and Institutional Building Construc...</td>\n",
       "      <td>2017-08-16</td>\n",
       "    </tr>\n",
       "    <tr>\n",
       "      <th>22432</th>\n",
       "      <td>MAVERICK</td>\n",
       "      <td>Painting and Wall Covering Contractors   (ES 0...</td>\n",
       "      <td>2017-09-01</td>\n",
       "    </tr>\n",
       "    <tr>\n",
       "      <th>6024</th>\n",
       "      <td>REBEL JUNK</td>\n",
       "      <td>NaN</td>\n",
       "      <td>2017-09-23</td>\n",
       "    </tr>\n",
       "    <tr>\n",
       "      <th>23531</th>\n",
       "      <td>TNC - UBER</td>\n",
       "      <td>Taxi Service</td>\n",
       "      <td>2017-10-01</td>\n",
       "    </tr>\n",
       "    <tr>\n",
       "      <th>24916</th>\n",
       "      <td>GOSHEN ADULT FAMILY HOME LLC</td>\n",
       "      <td>Services for the Elderly and Persons with Disa...</td>\n",
       "      <td>2017-12-01</td>\n",
       "    </tr>\n",
       "    <tr>\n",
       "      <th>17342</th>\n",
       "      <td>TNC</td>\n",
       "      <td>Taxi Service</td>\n",
       "      <td>2018-02-16</td>\n",
       "    </tr>\n",
       "    <tr>\n",
       "      <th>21947</th>\n",
       "      <td>JESSE M REEVES</td>\n",
       "      <td>Lessors of Residential Buildings and Dwellings</td>\n",
       "      <td>2018-07-01</td>\n",
       "    </tr>\n",
       "    <tr>\n",
       "      <th>26494</th>\n",
       "      <td>HALLS HAULING LLC</td>\n",
       "      <td>General Freight Trucking Local  (ES 0200 0225 ...</td>\n",
       "      <td>2200-01-01</td>\n",
       "    </tr>\n",
       "    <tr>\n",
       "      <th>10913</th>\n",
       "      <td>UBER - TNC</td>\n",
       "      <td>Taxi Service</td>\n",
       "      <td>2201-01-09</td>\n",
       "    </tr>\n",
       "    <tr>\n",
       "      <th>24478</th>\n",
       "      <td>UBER / LYFT TNC</td>\n",
       "      <td>Taxi Service</td>\n",
       "      <td>2201-03-30</td>\n",
       "    </tr>\n",
       "    <tr>\n",
       "      <th>22833</th>\n",
       "      <td>ANNALEE ROTHENBERG</td>\n",
       "      <td>Lessors of Residential Buildings and Dwellings</td>\n",
       "      <td>2201-08-01</td>\n",
       "    </tr>\n",
       "    <tr>\n",
       "      <th>20585</th>\n",
       "      <td>LINDA D SMITH</td>\n",
       "      <td>Lessors of Residential Buildings and Dwellings</td>\n",
       "      <td>2201-08-27</td>\n",
       "    </tr>\n",
       "    <tr>\n",
       "      <th>15985</th>\n",
       "      <td>PR BARBERSHOP</td>\n",
       "      <td>Barber Shops  (ES 0200 0225    08)</td>\n",
       "      <td>2215-02-12</td>\n",
       "    </tr>\n",
       "    <tr>\n",
       "      <th>3946</th>\n",
       "      <td>UBER - TNC</td>\n",
       "      <td>Taxi Service</td>\n",
       "      <td>2216-09-21</td>\n",
       "    </tr>\n",
       "  </tbody>\n",
       "</table>\n",
       "</div>"
      ],
      "text/plain": [
       "                      BUSINESS NAME  \\\n",
       "32251  NICE GIRL JEWELRY AND REPAIR   \n",
       "21934        WORD OF MOUTH CONCRETE   \n",
       "22432                      MAVERICK   \n",
       "6024                     REBEL JUNK   \n",
       "23531                    TNC - UBER   \n",
       "24916  GOSHEN ADULT FAMILY HOME LLC   \n",
       "17342                           TNC   \n",
       "21947                JESSE M REEVES   \n",
       "26494             HALLS HAULING LLC   \n",
       "10913                    UBER - TNC   \n",
       "24478               UBER / LYFT TNC   \n",
       "22833            ANNALEE ROTHENBERG   \n",
       "20585                 LINDA D SMITH   \n",
       "15985                 PR BARBERSHOP   \n",
       "3946                     UBER - TNC   \n",
       "\n",
       "                                  NAICS CODE DESCRIPTION BUSINESS OPEN DATE  \n",
       "32251  Other Direct Selling Establishments  (ES 0200 ...         2017-08-05  \n",
       "21934  Commercial and Institutional Building Construc...         2017-08-16  \n",
       "22432  Painting and Wall Covering Contractors   (ES 0...         2017-09-01  \n",
       "6024                                                 NaN         2017-09-23  \n",
       "23531                                       Taxi Service         2017-10-01  \n",
       "24916  Services for the Elderly and Persons with Disa...         2017-12-01  \n",
       "17342                                       Taxi Service         2018-02-16  \n",
       "21947     Lessors of Residential Buildings and Dwellings         2018-07-01  \n",
       "26494  General Freight Trucking Local  (ES 0200 0225 ...         2200-01-01  \n",
       "10913                                       Taxi Service         2201-01-09  \n",
       "24478                                       Taxi Service         2201-03-30  \n",
       "22833     Lessors of Residential Buildings and Dwellings         2201-08-01  \n",
       "20585     Lessors of Residential Buildings and Dwellings         2201-08-27  \n",
       "15985                 Barber Shops  (ES 0200 0225    08)         2215-02-12  \n",
       "3946                                        Taxi Service         2216-09-21  "
      ]
     },
     "execution_count": 8,
     "metadata": {},
     "output_type": "execute_result"
    }
   ],
   "source": [
    "# Newest businesses\n",
    "sorted[['BUSINESS NAME','NAICS CODE DESCRIPTION', 'BUSINESS OPEN DATE']].tail(15)"
   ]
  },
  {
   "cell_type": "markdown",
   "metadata": {},
   "source": [
    "What's with `BUSINESS OPEN DATE = 2216-09-21`?\n",
    "\n",
    "That's odd. Some of these businesses have open dates that are far in the future. I don't think that's right. I'm going to remove businesses that have opening dates after today."
   ]
  },
  {
   "cell_type": "code",
   "execution_count": 9,
   "metadata": {
    "collapsed": false
   },
   "outputs": [
    {
     "data": {
      "text/html": [
       "<div>\n",
       "<table border=\"1\" class=\"dataframe\">\n",
       "  <thead>\n",
       "    <tr style=\"text-align: right;\">\n",
       "      <th></th>\n",
       "      <th>BUSINESS NAME</th>\n",
       "      <th>NAICS CODE DESCRIPTION</th>\n",
       "      <th>BUSINESS OPEN DATE</th>\n",
       "    </tr>\n",
       "  </thead>\n",
       "  <tbody>\n",
       "    <tr>\n",
       "      <th>8089</th>\n",
       "      <td>GRIT CITY FARM</td>\n",
       "      <td>Fruit and Vegetable Markets</td>\n",
       "      <td>2017-05-01</td>\n",
       "    </tr>\n",
       "    <tr>\n",
       "      <th>12670</th>\n",
       "      <td>LYMANS VALET</td>\n",
       "      <td>All Other Business Support Services</td>\n",
       "      <td>2017-05-01</td>\n",
       "    </tr>\n",
       "    <tr>\n",
       "      <th>31128</th>\n",
       "      <td>NEA D MOYER</td>\n",
       "      <td>Lessors of Residential Buildings and Dwellings</td>\n",
       "      <td>2017-05-01</td>\n",
       "    </tr>\n",
       "    <tr>\n",
       "      <th>7387</th>\n",
       "      <td>UBER - TNC</td>\n",
       "      <td>Taxi Service</td>\n",
       "      <td>2017-05-01</td>\n",
       "    </tr>\n",
       "    <tr>\n",
       "      <th>12782</th>\n",
       "      <td>BAKER CONCRETE CONSTRUCTION INC</td>\n",
       "      <td>Poured Concrete Foundation/Structure Contracto...</td>\n",
       "      <td>2017-05-01</td>\n",
       "    </tr>\n",
       "    <tr>\n",
       "      <th>30650</th>\n",
       "      <td>CMP CONSTRUCTION LLC</td>\n",
       "      <td>All Other Specialty Trade Contractors (ES 0200...</td>\n",
       "      <td>2017-05-01</td>\n",
       "    </tr>\n",
       "    <tr>\n",
       "      <th>3643</th>\n",
       "      <td>T U P A C</td>\n",
       "      <td>Dance Companies</td>\n",
       "      <td>2017-05-01</td>\n",
       "    </tr>\n",
       "    <tr>\n",
       "      <th>5312</th>\n",
       "      <td>CAROLINAS SALON</td>\n",
       "      <td>Other Personal Care Services   (ES 0200 0225  ...</td>\n",
       "      <td>2017-05-01</td>\n",
       "    </tr>\n",
       "    <tr>\n",
       "      <th>17923</th>\n",
       "      <td>FERMENTATION INITIATIVE LLC</td>\n",
       "      <td>All Othr Miscll Store Retailers (ex Tobacco St...</td>\n",
       "      <td>2017-05-01</td>\n",
       "    </tr>\n",
       "    <tr>\n",
       "      <th>21497</th>\n",
       "      <td>TT HAIR SALON AND SUPPLIES</td>\n",
       "      <td>Beauty Salons  (ES 0200 0225    08)</td>\n",
       "      <td>2017-05-01</td>\n",
       "    </tr>\n",
       "  </tbody>\n",
       "</table>\n",
       "</div>"
      ],
      "text/plain": [
       "                         BUSINESS NAME  \\\n",
       "8089                    GRIT CITY FARM   \n",
       "12670                     LYMANS VALET   \n",
       "31128                      NEA D MOYER   \n",
       "7387                        UBER - TNC   \n",
       "12782  BAKER CONCRETE CONSTRUCTION INC   \n",
       "30650             CMP CONSTRUCTION LLC   \n",
       "3643                         T U P A C   \n",
       "5312                   CAROLINAS SALON   \n",
       "17923      FERMENTATION INITIATIVE LLC   \n",
       "21497       TT HAIR SALON AND SUPPLIES   \n",
       "\n",
       "                                  NAICS CODE DESCRIPTION BUSINESS OPEN DATE  \n",
       "8089                         Fruit and Vegetable Markets         2017-05-01  \n",
       "12670                All Other Business Support Services         2017-05-01  \n",
       "31128     Lessors of Residential Buildings and Dwellings         2017-05-01  \n",
       "7387                                        Taxi Service         2017-05-01  \n",
       "12782  Poured Concrete Foundation/Structure Contracto...         2017-05-01  \n",
       "30650  All Other Specialty Trade Contractors (ES 0200...         2017-05-01  \n",
       "3643                                     Dance Companies         2017-05-01  \n",
       "5312   Other Personal Care Services   (ES 0200 0225  ...         2017-05-01  \n",
       "17923  All Othr Miscll Store Retailers (ex Tobacco St...         2017-05-01  \n",
       "21497                Beauty Salons  (ES 0200 0225    08)         2017-05-01  "
      ]
     },
     "execution_count": 9,
     "metadata": {},
     "output_type": "execute_result"
    }
   ],
   "source": [
    "# Remove businesses with open date after \"today\".\n",
    "bl = bl[bl['BUSINESS OPEN DATE'] <='2017-05-04']\n",
    "# Check work\n",
    "sorted = bl.sort_values(by = 'BUSINESS OPEN DATE')\n",
    "sorted[['BUSINESS NAME','NAICS CODE DESCRIPTION', 'BUSINESS OPEN DATE']].tail(10)"
   ]
  },
  {
   "cell_type": "markdown",
   "metadata": {},
   "source": [
    "That looks better!"
   ]
  },
  {
   "cell_type": "markdown",
   "metadata": {},
   "source": [
    "## What are the top businesses in Tacoma?\n",
    "Looking at the business descriptions of these most recent businesses there is quite a lot of diversity. I wonder what are the top industries in Tacoma."
   ]
  },
  {
   "cell_type": "code",
   "execution_count": 10,
   "metadata": {
    "collapsed": false
   },
   "outputs": [
    {
     "data": {
      "text/plain": [
       "NAICS CODE DESCRIPTION\n",
       "Janitorial Services  (ES 0200 0225  06)                          414\n",
       "Beauty Salons  (ES 0200 0225    08)                              414\n",
       "Plumbing/Heating/Air-Conditioning Contractors (ES 0200 0225      536\n",
       "New Single-Family Housing Constn (ex Operative Bldrs) (ES 02     541\n",
       "Residential Remodelers  (ES 0200 0225  08)                       560\n",
       "Landscaping Services                                             574\n",
       "Lessors of Nonresidential Bildngs (ex Miniwrhss) (ES 0200 02     682\n",
       "Electrical Contractors   (ES 0200 0225    06)                    754\n",
       "Taxi Service                                                    3564\n",
       "Lessors of Residential Buildings and Dwellings                  6827\n",
       "Name: BUSINESS NAME, dtype: int64"
      ]
     },
     "execution_count": 10,
     "metadata": {},
     "output_type": "execute_result"
    }
   ],
   "source": [
    "# Let's take a look at the different types of business in Tacoma that have a business license.\n",
    "bl_groupedbynaics = bl.groupby('NAICS CODE DESCRIPTION')['BUSINESS NAME'].count()\n",
    "sorted = bl_groupedbynaics.sort_values()\n",
    "sorted.tail(10)"
   ]
  },
  {
   "cell_type": "markdown",
   "metadata": {},
   "source": [
    "Whoa! Taxi services and rental properties are big business in Tacoma! What if I divide this up by zip code? What's the top business for each zip code operating in Tacoma?"
   ]
  },
  {
   "cell_type": "markdown",
   "metadata": {},
   "source": [
    "## Zip Codes: Downtown Tacoma and the Port of Tacoma are different from the rest of Tacoma."
   ]
  },
  {
   "cell_type": "code",
   "execution_count": 11,
   "metadata": {
    "collapsed": false
   },
   "outputs": [
    {
     "name": "stdout",
     "output_type": "stream",
     "text": [
      "12\n"
     ]
    }
   ],
   "source": [
    "# Find top industry in each of Tacoma's major zip code areas. \n",
    "# http://www.zipmap.net/Washington/Pierce_County/Tacoma.htm\n",
    "tacoma_zip_codes = [98402, 98403, 98404,  98405, 98406, 98407, \n",
    "                    98408, 98409, 98418, 98421, 98422, 98465]\n",
    "print len(tacoma_zip_codes)"
   ]
  },
  {
   "cell_type": "code",
   "execution_count": 12,
   "metadata": {
    "collapsed": false
   },
   "outputs": [],
   "source": [
    "# Clean up Zip code data.\n",
    "# Remove extra numbers after first 5 digits and remove non-numeric zip codes.\n",
    "bl['ZIP CODE 5 string'] = bl['ZIP CODE'].str[:5]\n",
    "# If zip code contains any characters, replace it with 00000\n",
    "bl.loc[bl['ZIP CODE 5 string'].str.contains('[a-zA-Z]'), 'ZIP CODE 5 string']  = '00000' \n",
    "# Create another zip code column that has integer format.\n",
    "bl['ZIP CODE 5 int'] = bl['ZIP CODE 5 string'].astype(int)"
   ]
  },
  {
   "cell_type": "code",
   "execution_count": 13,
   "metadata": {
    "collapsed": false
   },
   "outputs": [
    {
     "name": "stdout",
     "output_type": "stream",
     "text": [
      "98402  #1  Offices of Lawyers\n",
      "98402  #2  Beauty Salons  (ES 0200 0225    08)\n",
      "98402  #3  Lessors of Residential Buildings and Dwellings\n",
      "----\n",
      "98403  #1  Lessors of Residential Buildings and Dwellings\n",
      "98403  #2  Taxi Service\n",
      "98403  #3  Beauty Salons  (ES 0200 0225    08)\n",
      "----\n",
      "98404  #1  Lessors of Residential Buildings and Dwellings\n",
      "98404  #2  Taxi Service\n",
      "98404  #3  Landscaping Services\n",
      "----\n",
      "98405  #1  Lessors of Residential Buildings and Dwellings\n",
      "98405  #2  Taxi Service\n",
      "98405  #3  Offices of Physicians (ex Mental Health Specialists) (ES 020\n",
      "----\n",
      "98406  #1  Lessors of Residential Buildings and Dwellings\n",
      "98406  #2  Beauty Salons  (ES 0200 0225    08)\n",
      "98406  #3  Taxi Service\n",
      "----\n",
      "98407  #1  Lessors of Residential Buildings and Dwellings\n",
      "98407  #2  Offices of Real Estate Agents and Brokers   (ES 0200 0225\n",
      "98407  #3  Taxi Service\n",
      "----\n",
      "98408  #1  Lessors of Residential Buildings and Dwellings\n",
      "98408  #2  Taxi Service\n",
      "98408  #3  Beauty Salons  (ES 0200 0225    08)\n",
      "----\n",
      "98409  #1  Lessors of Residential Buildings and Dwellings\n",
      "98409  #2  Taxi Service\n",
      "98409  #3  Security Guards and Patrol Services\n",
      "----\n",
      "98418  #1  Lessors of Residential Buildings and Dwellings\n",
      "98418  #2  Taxi Service\n",
      "98418  #3  Other Personal Care Services   (ES 0200 0225    08)\n",
      "----\n",
      "98421  #1  Lessors of Nonresidential Bildngs (ex Miniwrhss) (ES 0200 02\n",
      "98421  #2  General Freight Trucking/Long-Distance/Truckload (ES 0200 02\n",
      "98421  #3  Lessors of Residential Buildings and Dwellings\n",
      "----\n",
      "98422  #1  Lessors of Residential Buildings and Dwellings\n",
      "98422  #2  Taxi Service\n",
      "98422  #3  Administrative Management and General Management Consulting\n",
      "----\n",
      "98465  #1  Lessors of Residential Buildings and Dwellings\n",
      "98465  #2  Taxi Service\n",
      "98465  #3  Other Personal Care Services   (ES 0200 0225    08)\n",
      "----\n"
     ]
    }
   ],
   "source": [
    "# Print top three NAICS codes in each zip code.\n",
    "for zip in tacoma_zip_codes:\n",
    "    bl_zipsort = bl[bl['ZIP CODE 5 int']== zip]\n",
    "    bl_zipsort = bl_zipsort.groupby('NAICS CODE DESCRIPTION')['BUSINESS NAME'].count()\n",
    "    sorted = bl_zipsort.sort_values()\n",
    "    print zip, ' #1 ', sorted.keys()[-1]\n",
    "    print zip, ' #2 ', sorted.keys()[-2]\n",
    "    print zip, ' #3 ', sorted.keys()[-3]\n",
    "    print '----'"
   ]
  },
  {
   "cell_type": "markdown",
   "metadata": {},
   "source": [
    "It looks like folks renting out their homes and ride-share drivers are still the top industries if I divide Tacoma up by zip code. However, there are two zip code areas  that stand out as different. They are `98421` and `98402`, the zip codes where the Port of Tacoma and downtown Tacoma are located, respectively. The top two industries in the Port are warehouse rentals and long-haul trucking. In downtown Tacoma, there are more lawyer offices than ride-share drivers. "
   ]
  },
  {
   "cell_type": "markdown",
   "metadata": {},
   "source": [
    "## Taking a deeper look at the taxi and rental housing industry. \n",
    "\n",
    "Since leasing and taxi services are the top business licenses in Tacoma and the city's business license homepage specifically draws attention to these two industries I thought I'd look into them a bit more. [For-hire transportation business licenses](http://www.cityoftacoma.org/government/city_departments/finance/tax_and_license/For_Hire_Transportation_Service__service_companies/) were only recently required on January 1, 2014 and [licenses for lessors renting out their homes](http://www.cityoftacoma.org/government/city_departments/finance/tax_and_license/rental_business_license/) were required starting January 1, 2004. Let's see what the evolution in time looks like for these two types of businesses. But before I look specifically at taxi drivers and lessors, let me look at the different start dates for ALL businesses in Tacoma.\n",
    "\n"
   ]
  },
  {
   "cell_type": "code",
   "execution_count": 14,
   "metadata": {
    "collapsed": false
   },
   "outputs": [
    {
     "data": {
      "text/html": [
       "<div>\n",
       "<table border=\"1\" class=\"dataframe\">\n",
       "  <thead>\n",
       "    <tr style=\"text-align: right;\">\n",
       "      <th></th>\n",
       "      <th>Count</th>\n",
       "    </tr>\n",
       "    <tr>\n",
       "      <th>BUSINESS OPEN YEAR</th>\n",
       "      <th></th>\n",
       "    </tr>\n",
       "  </thead>\n",
       "  <tbody>\n",
       "    <tr>\n",
       "      <th>1888</th>\n",
       "      <td>1</td>\n",
       "    </tr>\n",
       "    <tr>\n",
       "      <th>1889</th>\n",
       "      <td>0</td>\n",
       "    </tr>\n",
       "    <tr>\n",
       "      <th>1890</th>\n",
       "      <td>0</td>\n",
       "    </tr>\n",
       "    <tr>\n",
       "      <th>1891</th>\n",
       "      <td>0</td>\n",
       "    </tr>\n",
       "    <tr>\n",
       "      <th>1892</th>\n",
       "      <td>0</td>\n",
       "    </tr>\n",
       "  </tbody>\n",
       "</table>\n",
       "</div>"
      ],
      "text/plain": [
       "                    Count\n",
       "BUSINESS OPEN YEAR       \n",
       "1888                    1\n",
       "1889                    0\n",
       "1890                    0\n",
       "1891                    0\n",
       "1892                    0"
      ]
     },
     "execution_count": 14,
     "metadata": {},
     "output_type": "execute_result"
    }
   ],
   "source": [
    "# Count up the number of businesses that opened each year.\n",
    "bl_resampled = bl.resample('AS', on='BUSINESS OPEN DATE')['BUSINESS NAME'].count()\n",
    "bl_resampled = pd.DataFrame(bl_resampled)\n",
    "bl_resampled['BUSINESS OPEN YEAR'] = bl_resampled.index.year\n",
    "bl_resampled = bl_resampled.set_index('BUSINESS OPEN YEAR')\n",
    "bl_resampled = bl_resampled.rename(columns = {'BUSINESS NAME':'Count'})\n",
    "# Show count for the oldest businesses\n",
    "bl_resampled.head()"
   ]
  },
  {
   "cell_type": "code",
   "execution_count": 15,
   "metadata": {
    "collapsed": false
   },
   "outputs": [
    {
     "data": {
      "text/html": [
       "<div>\n",
       "<table border=\"1\" class=\"dataframe\">\n",
       "  <thead>\n",
       "    <tr style=\"text-align: right;\">\n",
       "      <th></th>\n",
       "      <th>Count</th>\n",
       "    </tr>\n",
       "    <tr>\n",
       "      <th>BUSINESS OPEN YEAR</th>\n",
       "      <th></th>\n",
       "    </tr>\n",
       "  </thead>\n",
       "  <tbody>\n",
       "    <tr>\n",
       "      <th>2013</th>\n",
       "      <td>2088</td>\n",
       "    </tr>\n",
       "    <tr>\n",
       "      <th>2014</th>\n",
       "      <td>2315</td>\n",
       "    </tr>\n",
       "    <tr>\n",
       "      <th>2015</th>\n",
       "      <td>3395</td>\n",
       "    </tr>\n",
       "    <tr>\n",
       "      <th>2016</th>\n",
       "      <td>4459</td>\n",
       "    </tr>\n",
       "    <tr>\n",
       "      <th>2017</th>\n",
       "      <td>1639</td>\n",
       "    </tr>\n",
       "  </tbody>\n",
       "</table>\n",
       "</div>"
      ],
      "text/plain": [
       "                    Count\n",
       "BUSINESS OPEN YEAR       \n",
       "2013                 2088\n",
       "2014                 2315\n",
       "2015                 3395\n",
       "2016                 4459\n",
       "2017                 1639"
      ]
     },
     "execution_count": 15,
     "metadata": {},
     "output_type": "execute_result"
    }
   ],
   "source": [
    "# Show the count for recent years.\n",
    "bl_resampled.tail()"
   ]
  },
  {
   "cell_type": "code",
   "execution_count": 16,
   "metadata": {
    "collapsed": false
   },
   "outputs": [
    {
     "data": {
      "image/png": "[encoded data removed]",
      "text/plain": [
       "<matplotlib.figure.Figure at 0x1214cb190>"
      ]
     },
     "metadata": {},
     "output_type": "display_data"
    }
   ],
   "source": [
    "# Let's plot it.\n",
    "%matplotlib inline  \n",
    "ax = bl_resampled.plot.bar(figsize=(15,8), fontsize = 8, legend = False);\n",
    "ax.set_xlabel('Business Open Year', fontsize = 20)\n",
    "ax.set_ylabel('Count', fontsize = 20);"
   ]
  },
  {
   "cell_type": "markdown",
   "metadata": {},
   "source": [
    "Whoa! Look at that jump in 2004! Is this due to the new business license requirement for lessors?   There should be only about 1000 new business licenses. Instead there are 3000! There's about 2000 extra business licenses for 2004. Let's take a deeper look at lessor business licenses."
   ]
  },
  {
   "cell_type": "code",
   "execution_count": null,
   "metadata": {
    "collapsed": false
   },
   "outputs": [],
   "source": [
    "# Lessor business license grouped yearly\n",
    "bl_lessor = bl[bl['NAICS CODE DESCRIPTION']=='Lessors of Residential Buildings and Dwellings']\n",
    "bl_lessor = bl_lessor.resample('AS', on='BUSINESS OPEN DATE')['BUSINESS NAME'].count()\n",
    "bl_lessor = pd.DataFrame(bl_lessor)\n",
    "bl_lessor['BUSINESS OPEN DATE'] = bl_lessor.index.year\n",
    "bl_lessor = bl_lessor.set_index('BUSINESS OPEN DATE')\n",
    "bl_lessor=bl_lessor.rename(columns = {'BUSINESS NAME':'Count_Lessor'})\n",
    "# Plot it.\n",
    "ax = bl_lessor.plot.bar(figsize=(20,4), fontsize = 10, legend = False);\n",
    "ax.set_xlabel('Business Open Year', fontsize = 20)\n",
    "ax.set_ylabel('Count', fontsize = 20);"
   ]
  },
  {
   "cell_type": "markdown",
   "metadata": {},
   "source": [
    "It looks like lessor business licenses *are* the cause of the overall jump in 2004. Interesting!\n",
    "\n",
    "Let's also take a look at the taxi business. Did it experience a jump in the number of business licenses as well due to the new requirement in 2014?"
   ]
  },
  {
   "cell_type": "code",
   "execution_count": null,
   "metadata": {
    "collapsed": true
   },
   "outputs": [],
   "source": [
    "# Lessor business license grouped yearly\n",
    "bl_lessor = bl[bl['NAICS CODE DESCRIPTION']=='Taxi Service']\n",
    "bl_lessor = bl_lessor.resample('AS', on='BUSINESS OPEN DATE')['BUSINESS NAME'].count()\n",
    "bl_lessor = pd.DataFrame(bl_lessor)\n",
    "bl_lessor['BUSINESS OPEN DATE'] = bl_lessor.index.year\n",
    "bl_lessor = bl_lessor.set_index('BUSINESS OPEN DATE')\n",
    "bl_lessor=bl_lessor.rename(columns = {'BUSINESS NAME':'Count_Lessor'})\n",
    "# Plot it.\n",
    "ax = bl_lessor.plot.bar(figsize=(20,4), fontsize = 10, legend = False);\n",
    "ax.set_xlabel('Business Open Year', fontsize = 20)\n",
    "ax.set_ylabel('Count', fontsize = 20);"
   ]
  },
  {
   "cell_type": "markdown",
   "metadata": {},
   "source": [
    "## Finding groups with similar features in the dataset using K-modes clustering\n",
    "\n",
    "This analysis of lessors and taxi drivers gave me an idea to explore the data using clustering. When looking at the plot showing the number of new business licenses every year I was led to investigate an underlying feature of the dataset -- the jump in licenses in 2004 for lessors. I wonder if there are other features of the dataset that I can pull out. One way of doing this is using a machine learning technique called *clustering* which sorts through each data point (in our case, each business license) and groups it with other similar data points. For example, business licenses with opening dates around 2004 in the leasing industry might  be grouped together.  \n",
    "\n",
    "I'll be using a version of k-means clustering that allows for categorical data called [k-modes clustering](http://arbor.ee.ntu.edu.tw/~chyun/dmpaper/huanet98.pdf). The basic steps of k-means clustering using numerical data are as follows. \n",
    "\n",
    "* Randomly select the centers of the clusters.\n",
    "* Find the distance between the centers and each data point.\n",
    "* Assign each data point to the cluster center that is closest.\n",
    "* Calculate the new center of the cluster using its cluster members.\n",
    "* Repeat process until cluster center doesn't change a significant amount.\n",
    "\n",
    "Another way to say this is that the k-means clustering algorithm minimizes the sum of the squared differences between the cluster members and cluster center.\n",
    "\n",
    "Since the business license dataset contains a few columns containing categorical, rather than numerical data, I'll use a modified version of k-means clustering called k-modes clustering. Rather than minimizing the sum of the squared differences, this technique minimizes the *dissimilarity* measure which is defined as \n",
    "\n",
    "$ \\Sigma_{\\textrm{all }j}{\\delta(x_j, y_j)}$\n",
    "\n",
    "The dissimilarity measure is the sum over all of the categorical features $j$ in the dataset. Each business license is represented by $x$ and $y$. The function $\\delta$ is the delta function, i.e., $\\delta = 0$ when $x$ and $y$ are in the same category and $\\delta = 1$ when they are in different categories. \n",
    "\n",
    "Another difference between the k-modes method and the k-means method is the use of the mode rather than the mean to find the center of the cluster.\n",
    "\n",
    "A [python implementation of this technique](https://github.com/nicodv/kmodes) has been written. It also includes `k-prototypes` which allows for a mix of categorical and numerical data in a single data set. I'll be using that."
   ]
  },
  {
   "cell_type": "markdown",
   "metadata": {},
   "source": [
    "### Feature selection\n",
    "Before plugging my dataset into the algorithm, let me choose the \"features\" to be used. Based on my previous experiments with the lessors and the most common businesses in each zip code, I think some useful features will be the opening year of the business, the NAICS code, and the zip code. However, rather than using the entire NAICS code, I'll only use the first two digits. These give the broad category of each business which is what I am interested in here. "
   ]
  },
  {
   "cell_type": "code",
   "execution_count": 19,
   "metadata": {
    "collapsed": false
   },
   "outputs": [],
   "source": [
    "# Create new column which contains only first two digits of NAICS CODE.\n",
    "bl['NAICS CODE FIRST TWO'] = bl['NAICS CODE'].fillna('00')\n",
    "bl['NAICS CODE FIRST TWO'] = bl['NAICS CODE FIRST TWO'].astype(str)\n",
    "bl['NAICS CODE FIRST TWO'] = bl['NAICS CODE FIRST TWO'].str[:2]"
   ]
  },
  {
   "cell_type": "code",
   "execution_count": 20,
   "metadata": {
    "collapsed": false
   },
   "outputs": [
    {
     "data": {
      "text/plain": [
       "NAICS CODE FIRST TWO\n",
       "48    4062\n",
       "23    4495\n",
       "53    8544\n",
       "Name: BUSINESS NAME, dtype: int64"
      ]
     },
     "execution_count": 20,
     "metadata": {},
     "output_type": "execute_result"
    }
   ],
   "source": [
    "# Count up the number of licenses for each NAICS CODE 2 digit grouping.\n",
    "bl_groupedbynaicsfirst2 = bl.groupby('NAICS CODE FIRST TWO')['BUSINESS NAME'].count()\n",
    "sorted = bl_groupedbynaicsfirst2.sort_values()\n",
    "sorted.tail(3)"
   ]
  },
  {
   "cell_type": "markdown",
   "metadata": {},
   "source": [
    "If I only use the first two digits of the NAICS code, then the top business types are \"Real Estate and Rental and Leasing,\" \"Construction,\" and \"Transportation and Warehousing.\""
   ]
  },
  {
   "cell_type": "code",
   "execution_count": 21,
   "metadata": {
    "collapsed": false
   },
   "outputs": [
    {
     "data": {
      "text/plain": [
       "25"
      ]
     },
     "execution_count": 21,
     "metadata": {},
     "output_type": "execute_result"
    }
   ],
   "source": [
    "# How many unique NAICS 2 digits codes are there in this dataset?\n",
    "naics_keys = sorted.keys()\n",
    "len(naics_keys)"
   ]
  },
  {
   "cell_type": "code",
   "execution_count": 22,
   "metadata": {
    "collapsed": false
   },
   "outputs": [
    {
     "data": {
      "text/html": [
       "<div>\n",
       "<table border=\"1\" class=\"dataframe\">\n",
       "  <thead>\n",
       "    <tr style=\"text-align: right;\">\n",
       "      <th></th>\n",
       "      <th>NAICS CODE FIRST TWO</th>\n",
       "      <th>BUSINESS OPEN YEAR</th>\n",
       "      <th>ZIP CODE 5 string</th>\n",
       "    </tr>\n",
       "  </thead>\n",
       "  <tbody>\n",
       "    <tr>\n",
       "      <th>0</th>\n",
       "      <td>54</td>\n",
       "      <td>1994</td>\n",
       "      <td>98004</td>\n",
       "    </tr>\n",
       "    <tr>\n",
       "      <th>1</th>\n",
       "      <td>61</td>\n",
       "      <td>2016</td>\n",
       "      <td>98406</td>\n",
       "    </tr>\n",
       "    <tr>\n",
       "      <th>2</th>\n",
       "      <td>53</td>\n",
       "      <td>2007</td>\n",
       "      <td>98466</td>\n",
       "    </tr>\n",
       "    <tr>\n",
       "      <th>3</th>\n",
       "      <td>45</td>\n",
       "      <td>2005</td>\n",
       "      <td>37402</td>\n",
       "    </tr>\n",
       "    <tr>\n",
       "      <th>4</th>\n",
       "      <td>56</td>\n",
       "      <td>2015</td>\n",
       "      <td>98335</td>\n",
       "    </tr>\n",
       "  </tbody>\n",
       "</table>\n",
       "</div>"
      ],
      "text/plain": [
       "  NAICS CODE FIRST TWO  BUSINESS OPEN YEAR ZIP CODE 5 string\n",
       "0                   54                1994             98004\n",
       "1                   61                2016             98406\n",
       "2                   53                2007             98466\n",
       "3                   45                2005             37402\n",
       "4                   56                2015             98335"
      ]
     },
     "execution_count": 22,
     "metadata": {},
     "output_type": "execute_result"
    }
   ],
   "source": [
    "# Create the dataset to be used in the k-modes clustering algorithm\n",
    "# Create new column with open year.\n",
    "bl['BUSINESS OPEN YEAR'] = bl['BUSINESS OPEN DATE'].dt.year\n",
    "# Create a dataframe that contains the data to be used for clustering.\n",
    "df_kmodes = bl[['NAICS CODE FIRST TWO', 'BUSINESS OPEN YEAR','ZIP CODE 5 string']].copy()\n",
    "df_kmodes.head()"
   ]
  },
  {
   "cell_type": "code",
   "execution_count": 23,
   "metadata": {
    "collapsed": false
   },
   "outputs": [
    {
     "data": {
      "text/plain": [
       "NAICS CODE FIRST TWO    object\n",
       "BUSINESS OPEN YEAR       int64\n",
       "ZIP CODE 5 string       object\n",
       "dtype: object"
      ]
     },
     "execution_count": 23,
     "metadata": {},
     "output_type": "execute_result"
    }
   ],
   "source": [
    "df_kmodes.dtypes"
   ]
  },
  {
   "cell_type": "code",
   "execution_count": 24,
   "metadata": {
    "collapsed": false
   },
   "outputs": [
    {
     "name": "stdout",
     "output_type": "stream",
     "text": [
      "[['54' 1994 '98004']\n",
      " ['61' 2016 '98406']\n",
      " ['53' 2007 '98466']\n",
      " ..., \n",
      " ['71' 2009 '98405']\n",
      " ['53' 2004 '98109']\n",
      " ['23' 2001 '98370']]\n"
     ]
    }
   ],
   "source": [
    "# Import kprototypes module from kmodes\n",
    "# https://github.com/nicodv/kmodes\n",
    "from kmodes import kprototypes\n",
    "# Convert dataframe to numpy array.\n",
    "X = pd.DataFrame.as_matrix(df_kmodes)\n",
    "print X"
   ]
  },
  {
   "cell_type": "markdown",
   "metadata": {},
   "source": [
    "A common question that is often asked when trying to cluster data is \"How many clusters should I have?\" Usually it's a good idea to plot the data to try to figure this out. This is a bit difficult to do when dealing with three features, but let's see what we find."
   ]
  },
  {
   "cell_type": "code",
   "execution_count": 26,
   "metadata": {
    "collapsed": false
   },
   "outputs": [
    {
     "data": {
      "image/png": "[encoded data removed]",
      "text/plain": [
       "<matplotlib.figure.Figure at 0x122eac350>"
      ]
     },
     "metadata": {},
     "output_type": "display_data"
    }
   ],
   "source": [
    "# Zip code vs business open year\n",
    "ax = bl.plot.scatter(x=\"BUSINESS OPEN YEAR\", y = \"ZIP CODE 5 int\", figsize=(20,8), fontsize = 15, legend = False);\n",
    "ax.set_xlabel('Business Open Year', fontsize = 15)\n",
    "ax.set_ylabel('ZIP CODE 5', fontsize = 15);"
   ]
  },
  {
   "cell_type": "code",
   "execution_count": 27,
   "metadata": {
    "collapsed": false
   },
   "outputs": [
    {
     "data": {
      "image/png": "[encoded data removed]",
      "text/plain": [
       "<matplotlib.figure.Figure at 0x12484bcd0>"
      ]
     },
     "metadata": {},
     "output_type": "display_data"
    }
   ],
   "source": [
    "# First two digits of NAICS code vs business open year\n",
    "bl['NAICS CODE FIRST TWO INT'] = bl['NAICS CODE FIRST TWO'].astype(int)\n",
    "ax = bl.plot.scatter(x=\"BUSINESS OPEN YEAR\", y = \"NAICS CODE FIRST TWO INT\", figsize=(20,8), fontsize = 15, legend = False);\n",
    "ax.set_xlabel('Business Open Year', fontsize = 15)\n",
    "ax.set_ylabel('NAICS CODE First Two Digits', fontsize = 15);"
   ]
  },
  {
   "cell_type": "markdown",
   "metadata": {},
   "source": [
    "I'm not seeing any obvious groupings of the data. So, that wasn't really helpful in trying to figure out the number of clusters.  That's ok, there's another way. For the k-means algorithm, a common technique is to find the \"elbow point.\" The first step is to run the k-means algorithm for a few different values of $k$ (the number of clusters). Then plot the average distance of each point to its cluster's center against the number of clusters. For only two clusters, the average distance will be large. But as the number of clusters increases, the average distance decreases until it bottoms out. The point where the curve goes from steep to flat is the \"elbow point.\" More clusters the right of the the \"elbow point\" are likely to be subjected to overfitting. If the number of clusters equals the number of datapoints, then each point has its own cluster and that's not very useful.\n"
   ]
  },
  {
   "cell_type": "markdown",
   "metadata": {},
   "source": [
    "Let's give the elbow method a try and see what happens. I'll try between 2 and 25 clusters. The maximum number of NAICS codes is 25. I think the clusters might start to be grouped by NAICS codes if I let there be that many. Let's see. Let's go!"
   ]
  },
  {
   "cell_type": "code",
   "execution_count": 28,
   "metadata": {
    "collapsed": true
   },
   "outputs": [],
   "source": [
    "# Create dictionaries to store the data from the k-modes algorithm.\n",
    "cluster_dict = {}\n",
    "kproto_dict = {}"
   ]
  },
  {
   "cell_type": "markdown",
   "metadata": {},
   "source": [
    "WARNING!  The following loop takes awhile (> 1 hour) to run on my ~2010 Macbook Air. If you'd like to play with the data it creates, but would rather not run this loop yourself, then use the data that I have put in a [pickle file](https://wiki.python.org/moin/UsingPickle) for safe-keeping. I write to the pickle file after the loop runs. You should be able to find it [here]() as well."
   ]
  },
  {
   "cell_type": "code",
   "execution_count": 29,
   "metadata": {
    "collapsed": false
   },
   "outputs": [
    {
     "data": {
      "text/plain": [
       "datetime.datetime(2017, 5, 9, 13, 36, 34, 209481)"
      ]
     },
     "execution_count": 29,
     "metadata": {},
     "output_type": "execute_result"
    }
   ],
   "source": [
    "import datetime\n",
    "datetime.datetime.now()"
   ]
  },
  {
   "cell_type": "code",
   "execution_count": null,
   "metadata": {
    "collapsed": false
   },
   "outputs": [],
   "source": [
    "for i in range(2,26):\n",
    "    kproto_dict[i] = kprototypes.KPrototypes(n_clusters = i, init = 'Cao', verbose = 0) \n",
    "    cluster_dict[i]= kproto_dict[i].fit_predict(X, categorical=[0,2])"
   ]
  },
  {
   "cell_type": "code",
   "execution_count": null,
   "metadata": {
    "collapsed": true
   },
   "outputs": [],
   "source": [
    "datetime.datetime.now()"
   ]
  },
  {
   "cell_type": "code",
   "execution_count": null,
   "metadata": {
    "collapsed": false
   },
   "outputs": [],
   "source": [
    "# Create dictionary with cluster data. \n",
    "cluster_info = {}\n",
    "for i in range(2,26):\n",
    "    cluster_info[i]=[kproto_dict[i].cost_,\n",
    "                     kproto_dict[i].n_iter_, \n",
    "                     kproto_dict[i].cluster_centroids_,\n",
    "                     cluster_dict[i]]\n",
    "# Save data in a pickle file.\n",
    "import pickle   \n",
    "pickle.dump(cluster_info,open('cluster_data.p', 'wb'))"
   ]
  },
  {
   "cell_type": "code",
   "execution_count": null,
   "metadata": {
    "collapsed": false
   },
   "outputs": [],
   "source": [
    "# To use the data in the pickle file, read it in here.\n",
    "import pickle   \n",
    "cluster_info = pickle.load(open('cluster_data.p', 'rb'))"
   ]
  },
  {
   "cell_type": "markdown",
   "metadata": {},
   "source": [
    "Now that I have the data compiled for a range of `k` values, I can compare how the error (or \"Cost\") changes with `k`."
   ]
  },
  {
   "cell_type": "code",
   "execution_count": null,
   "metadata": {
    "collapsed": false
   },
   "outputs": [],
   "source": [
    "x = cluster_info.keys()\n",
    "cost = {}\n",
    "for k in cluster_info:\n",
    "    cost[k] = cluster_info[k][0]\n",
    "y = cost.values()\n",
    "plt.xlabel('k (number of clusters)', fontsize = 15)\n",
    "plt.ylabel('Cost', fontsize = 15)\n",
    "plt.scatter(x,y);"
   ]
  },
  {
   "cell_type": "markdown",
   "metadata": {},
   "source": [
    "It looks like the 'elbow' occurs around 10 and since 10 is a nice round number, I'll use that for my number of clusters. The next step is to see what I can learn about how the data is organized into these 10 clusters. What are the primary features of each cluster? One way of investigating this is by looking at the cluster centroids."
   ]
  },
  {
   "cell_type": "code",
   "execution_count": null,
   "metadata": {
    "collapsed": false
   },
   "outputs": [],
   "source": [
    "# Print cluster ID and cluster centroid: year, NAICS ID, and ZIP code\n",
    "year = cluster_info[10][2][0]\n",
    "IDZIP = cluster_info[10][2][1]\n",
    "for i in range(len(year)):\n",
    "    print \"Cluster\", i+1, ': ', int(year[i][0]), IDZIP[i][0], IDZIP[i][1]"
   ]
  },
  {
   "cell_type": "code",
   "execution_count": null,
   "metadata": {
    "collapsed": false
   },
   "outputs": [],
   "source": [
    "# The fact that the zip code 98409 is the 'center' of most of the clusters \n",
    "# makes sense because it is the most common zip code in the data set.\n",
    "bl_groupedbyZIP = bl.groupby('ZIP CODE')['BUSINESS NAME'].count()\n",
    "sorted = bl_groupedbyZIP.sort_values()\n",
    "sorted.tail(5)"
   ]
  },
  {
   "cell_type": "markdown",
   "metadata": {},
   "source": [
    "Another way of understanding the clusters is by visualizing them.\n"
   ]
  },
  {
   "cell_type": "code",
   "execution_count": null,
   "metadata": {
    "collapsed": false
   },
   "outputs": [],
   "source": [
    "# Assign each business in the dataframe to a cluster.\n",
    "bl['cluster_num'] = cluster_info[9]"
   ]
  },
  {
   "cell_type": "code",
   "execution_count": null,
   "metadata": {
    "collapsed": false
   },
   "outputs": [],
   "source": []
  },
  {
   "cell_type": "code",
   "execution_count": null,
   "metadata": {
    "collapsed": false,
    "scrolled": false
   },
   "outputs": [],
   "source": [
    "xaxisorderkeys = naics_keys\n",
    "xaxisorderyears = range(1922,2017)\n",
    "\n",
    "plt.figure(figsize = (15,20))  #w,h\n",
    "plt.ylabel('Count')\n",
    "plt.xlabel('year')\n",
    "plt.tight_layout()\n",
    "numplots = 10\n",
    "# Clusters arranged in approximate chronological order.\n",
    "plot_order = [4,8,0,6,9,3,7,2,1,5]  \n",
    "for i in range(numplots):\n",
    "    clustername = 'Cluster ' + str(i+1)\n",
    "    current_cluster = bl[bl['cluster_num']==plot_order[i]]\n",
    "    plt.subplot(numplots, 2, (i+1*i)+1)\n",
    "    plt.text(0.15, (4.52-0.46*i),clustername, horizontalalignment='center', \n",
    "             verticalalignment='center',transform=ax.transAxes)# clustername)#, fontdict=None, **kwargs)\n",
    "    current_cluster['NAICS CODE FIRST TWO'].value_counts().reindex(xaxisorderkeys).plot(\n",
    "        kind='bar')\n",
    "    plt.ylabel('Count')\n",
    "    plt.xlabel('First 2 digits of NAICS Code')\n",
    "    plt.subplot(numplots, 2, (i+1*i)+2)\n",
    "    plt.text(1.4, (4.52-0.46*i),clustername, horizontalalignment='center', \n",
    "             verticalalignment='center',transform=ax.transAxes)# clustername)#, fontdict=None, **kwargs)\n",
    "    current_cluster['BUSINESS OPEN YEAR'].value_counts().reindex(xaxisorderyears).plot(\n",
    "        kind='line')\n",
    "    plt.ylabel('Count')\n",
    "    plt.xlabel('Year')\n",
    "\n"
   ]
  },
  {
   "cell_type": "code",
   "execution_count": null,
   "metadata": {
    "collapsed": true
   },
   "outputs": [],
   "source": []
  },
  {
   "cell_type": "code",
   "execution_count": null,
   "metadata": {
    "collapsed": false
   },
   "outputs": [],
   "source": [
    "print naics_keys"
   ]
  },
  {
   "cell_type": "code",
   "execution_count": null,
   "metadata": {
    "collapsed": true
   },
   "outputs": [],
   "source": []
  },
  {
   "cell_type": "code",
   "execution_count": null,
   "metadata": {
    "collapsed": true
   },
   "outputs": [],
   "source": []
  },
  {
   "cell_type": "code",
   "execution_count": null,
   "metadata": {
    "collapsed": true
   },
   "outputs": [],
   "source": []
  },
  {
   "cell_type": "code",
   "execution_count": null,
   "metadata": {
    "collapsed": false
   },
   "outputs": [],
   "source": [
    "centers = cluster_info[4]\n",
    "year = centers[2][0]\n",
    "IDZIP = centers[2][1]\n",
    "for i in range(len(year)):\n",
    "    print 'Cluster', i,': ', year[i], IDZIP[i]"
   ]
  },
  {
   "cell_type": "code",
   "execution_count": null,
   "metadata": {
    "collapsed": true
   },
   "outputs": [],
   "source": [
    "# Read data into pandas dataframe.\n",
    "bl = pd.read_csv('df_10clusters_nostates.csv')"
   ]
  },
  {
   "cell_type": "code",
   "execution_count": null,
   "metadata": {
    "collapsed": false
   },
   "outputs": [],
   "source": [
    "# Print training statistics\n",
    "# Goal: minimize cost function\n",
    "cost_dict = {}\n",
    "for i in range(2,26):\n",
    "    print i, kproto_dict[i].cost_, kproto_dict[i].n_iter_\n",
    "    cost_dict[i]=kproto_dict[i].cost_"
   ]
  },
  {
   "cell_type": "code",
   "execution_count": null,
   "metadata": {
    "collapsed": false
   },
   "outputs": [],
   "source": [
    "x = cost_dict.keys()\n",
    "y = cost_dict.values()\n",
    "plt.scatter(x,y)\n"
   ]
  },
  {
   "cell_type": "code",
   "execution_count": null,
   "metadata": {
    "collapsed": true
   },
   "outputs": [],
   "source": []
  },
  {
   "cell_type": "code",
   "execution_count": null,
   "metadata": {
    "collapsed": false
   },
   "outputs": [],
   "source": [
    "# Count up the number of licenses for each NAICS CODE 2 digit grouping.\n",
    "bl_groupedbynaicsfirst2 = bl.groupby('NAICS CODE FIRST TWO')['BUSINESS NAME'].count()\n",
    "sorted = bl_groupedbynaicsfirst2.sort_values()\n",
    "sorted"
   ]
  },
  {
   "cell_type": "code",
   "execution_count": null,
   "metadata": {
    "collapsed": false
   },
   "outputs": [],
   "source": [
    "bl_resampled = bl.resample('AS', on='BUSINESS OPEN DATE')['BUSINESS NAME'].count()\n",
    "bl_resampled = pd.DataFrame(bl_resampled)\n",
    "bl_resampled['BUSINESS OPEN YEAR'] = bl_resampled.index.year\n",
    "bl_resampled = bl_resampled.set_index('BUSINESS OPEN YEAR')\n",
    "bl_resampled.head()"
   ]
  },
  {
   "cell_type": "code",
   "execution_count": null,
   "metadata": {
    "collapsed": false
   },
   "outputs": [],
   "source": [
    "ax = bl_resampled.plot.bar(figsize=(20,8), fontsize = 10, legend = False);\n",
    "ax.set_xlabel('Business Open Year', fontsize = 20)\n",
    "ax.set_ylabel('Count', fontsize = 20)"
   ]
  },
  {
   "cell_type": "code",
   "execution_count": null,
   "metadata": {
    "collapsed": false
   },
   "outputs": [],
   "source": [
    "plt.figure(figsize=(10,4))\n",
    "plt.xlim(1888,2020)\n",
    "plt.ylim(-5,100)\n",
    "plt.scatter(bl['BUSINESS OPEN YEAR'], bl['NAICS CODE FIRST TWO INT'],\n",
    "           c = bl['cluster_num'], alpha = 0.1)\n",
    "plt.xlabel('Business Open Year')\n",
    "plt.ylabel('NAICS CODE  - FIRST TWO DIGITS');"
   ]
  },
  {
   "cell_type": "code",
   "execution_count": null,
   "metadata": {
    "collapsed": false
   },
   "outputs": [],
   "source": [
    "plt.figure(figsize=(10,4))\n",
    "plt.xlim(1888,2020)\n",
    "plt.ylim(-5,100000)\n",
    "plt.scatter(bl['BUSINESS OPEN YEAR'], bl['ZIP CODE 5 INT'],\n",
    "           c = bl['cluster_num'], alpha = 0.1)\n",
    "plt.xlabel('Business Open Year')\n",
    "plt.ylabel('Zip Code');"
   ]
  },
  {
   "cell_type": "code",
   "execution_count": null,
   "metadata": {
    "collapsed": false
   },
   "outputs": [],
   "source": [
    "plt.figure(figsize=(10,4))\n",
    "plt.xlim(-5,100)\n",
    "plt.ylim(-5,100000)\n",
    "plt.scatter(bl['NAICS CODE FIRST TWO INT'], bl['ZIP CODE 5 INT'],\n",
    "           c = bl['cluster_num'], alpha = 0.1)\n",
    "plt.xlabel('NAICS CODE  - FIRST TWO DIGITS')\n",
    "plt.ylabel('Zip Code');"
   ]
  },
  {
   "cell_type": "code",
   "execution_count": null,
   "metadata": {
    "collapsed": false
   },
   "outputs": [],
   "source": []
  },
  {
   "cell_type": "code",
   "execution_count": null,
   "metadata": {
    "collapsed": true
   },
   "outputs": [],
   "source": []
  },
  {
   "cell_type": "code",
   "execution_count": null,
   "metadata": {
    "collapsed": true
   },
   "outputs": [],
   "source": []
  },
  {
   "cell_type": "code",
   "execution_count": null,
   "metadata": {
    "collapsed": true
   },
   "outputs": [],
   "source": []
  },
  {
   "cell_type": "code",
   "execution_count": null,
   "metadata": {
    "collapsed": true
   },
   "outputs": [],
   "source": []
  },
  {
   "cell_type": "code",
   "execution_count": null,
   "metadata": {
    "collapsed": false
   },
   "outputs": [],
   "source": [
    "fig, ax = plt.subplots()#nrows = 10, ncols =2, sharex = True)\n",
    "ax.set_title('Clusters')"
   ]
  },
  {
   "cell_type": "code",
   "execution_count": null,
   "metadata": {
    "collapsed": true
   },
   "outputs": [],
   "source": []
  },
  {
   "cell_type": "code",
   "execution_count": null,
   "metadata": {
    "collapsed": true
   },
   "outputs": [],
   "source": []
  },
  {
   "cell_type": "code",
   "execution_count": null,
   "metadata": {
    "collapsed": true
   },
   "outputs": [],
   "source": []
  },
  {
   "cell_type": "code",
   "execution_count": null,
   "metadata": {
    "collapsed": true
   },
   "outputs": [],
   "source": []
  },
  {
   "cell_type": "code",
   "execution_count": null,
   "metadata": {
    "collapsed": true
   },
   "outputs": [],
   "source": []
  },
  {
   "cell_type": "code",
   "execution_count": null,
   "metadata": {
    "collapsed": true
   },
   "outputs": [],
   "source": []
  },
  {
   "cell_type": "code",
   "execution_count": null,
   "metadata": {
    "collapsed": true
   },
   "outputs": [],
   "source": []
  },
  {
   "cell_type": "code",
   "execution_count": null,
   "metadata": {
    "collapsed": true
   },
   "outputs": [],
   "source": []
  },
  {
   "cell_type": "code",
   "execution_count": null,
   "metadata": {
    "collapsed": false
   },
   "outputs": [],
   "source": [
    "xaxisorder = range(1922,2017)\n",
    "plt.figure(figsize = (22,20))\n",
    "plt.ylabel('Count')\n",
    "plt.tight_layout()\n",
    "numplots = 10\n",
    "for i in range(numplots):\n",
    "    current_cluster = bl[bl['cluster_num']==i]\n",
    "    plt.subplot(10, 1, i+1)\n",
    "    current_cluster['BUSINESS OPEN YEAR'].value_counts().reindex(xaxisorder).plot(kind='bar')\n",
    "\n",
    "plt.xlabel('Business Open Year')\n"
   ]
  },
  {
   "cell_type": "code",
   "execution_count": null,
   "metadata": {
    "collapsed": true
   },
   "outputs": [],
   "source": []
  },
  {
   "cell_type": "code",
   "execution_count": null,
   "metadata": {
    "collapsed": true
   },
   "outputs": [],
   "source": []
  },
  {
   "cell_type": "code",
   "execution_count": null,
   "metadata": {
    "collapsed": true
   },
   "outputs": [],
   "source": []
  },
  {
   "cell_type": "code",
   "execution_count": null,
   "metadata": {
    "collapsed": true
   },
   "outputs": [],
   "source": []
  },
  {
   "cell_type": "code",
   "execution_count": null,
   "metadata": {
    "collapsed": true
   },
   "outputs": [],
   "source": []
  },
  {
   "cell_type": "code",
   "execution_count": null,
   "metadata": {
    "collapsed": true
   },
   "outputs": [],
   "source": []
  },
  {
   "cell_type": "code",
   "execution_count": null,
   "metadata": {
    "collapsed": false
   },
   "outputs": [],
   "source": [
    "xaxisorder = naics_keys\n",
    "current_cluster = bl[bl['cluster_num']==3]\n",
    "\n",
    "plt.figure(figsize = (8,4))\n",
    "plt.xlabel('NAICS CODE  - FIRST TWO DIGITS')\n",
    "plt.ylabel('Count')\n",
    "current_cluster['NAICS CODE FIRST TWO'].value_counts().reindex(xaxisorder).plot(kind='bar')\n",
    "\n",
    "current_cluster = bl[bl['cluster_num']==1]\n",
    "\n",
    "plt.figure(figsize = (8,4))\n",
    "plt.xlabel('NAICS CODE  - FIRST TWO DIGITS')\n",
    "plt.ylabel('Count')\n",
    "current_cluster['NAICS CODE FIRST TWO'].value_counts().reindex(xaxisorder).plot(kind='bar')\n",
    "\n",
    "#ax = current_cluster['NAICS CODE FIRST TWO'].value_counts().plot(kind='bar');\n"
   ]
  },
  {
   "cell_type": "code",
   "execution_count": null,
   "metadata": {
    "collapsed": true
   },
   "outputs": [],
   "source": []
  },
  {
   "cell_type": "code",
   "execution_count": null,
   "metadata": {
    "collapsed": true
   },
   "outputs": [],
   "source": []
  },
  {
   "cell_type": "code",
   "execution_count": null,
   "metadata": {
    "collapsed": true
   },
   "outputs": [],
   "source": []
  },
  {
   "cell_type": "code",
   "execution_count": null,
   "metadata": {
    "collapsed": false
   },
   "outputs": [],
   "source": [
    "#fig = plt.figure()\n",
    "#ax.set_xlabel('Business Open Year', fontsize = 20)\n",
    "#ax.set_ylabel('NAICS CODE FIRST TWO INT', fontsize = 20)\n",
    "#ax = bl.plot.scatter(x=\"BUSINESS OPEN YEAR\", \n",
    "#                     y = \"NAICS CODE FIRST TWO INT\",\n",
    "#                     c = 'cluster_num')#figsize=(20,8),\n",
    "ax = bl.plot.scatter(x=\"BUSINESS OPEN YEAR\", \n",
    "                y = \"NAICS CODE FIRST TWO INT\",\n",
    "                c = 'cluster_num')#figsize=(20,8),\n",
    "ax.set_xlabel('Business Open Year')\n",
    "ax.set_ylabel('NAICS CODE FIRST TWO INT  HII')\n",
    "\n",
    "#ax.set_ylim(0,100)\n",
    "#ax.set_xlim(1990, 2000)\n",
    "\n",
    "\n",
    "#                    alpha = 0.2, fontsize = 10, )#, \n",
    "#                     \n",
    "#                      legend = False, \n",
    "#                    cmap='Dark2');\n",
    "#ax.set_xlabel('Business Open Year', fontsize = 20)\n",
    "#ax.set_ylabel('NAICS CODE FIRST TWO INT', fontsize = 20)\n"
   ]
  },
  {
   "cell_type": "code",
   "execution_count": null,
   "metadata": {
    "collapsed": false
   },
   "outputs": [],
   "source": [
    "bl.plot.hexbin(x=\"BUSINESS OPEN YEAR\", \n",
    "                     y = \"NAICS CODE FIRST TWO INT\",gridsize = 25)"
   ]
  },
  {
   "cell_type": "code",
   "execution_count": null,
   "metadata": {
    "collapsed": true
   },
   "outputs": [],
   "source": []
  },
  {
   "cell_type": "code",
   "execution_count": null,
   "metadata": {
    "collapsed": true
   },
   "outputs": [],
   "source": []
  },
  {
   "cell_type": "code",
   "execution_count": null,
   "metadata": {
    "collapsed": true
   },
   "outputs": [],
   "source": []
  },
  {
   "cell_type": "code",
   "execution_count": null,
   "metadata": {
    "collapsed": true
   },
   "outputs": [],
   "source": []
  },
  {
   "cell_type": "code",
   "execution_count": null,
   "metadata": {
    "collapsed": true
   },
   "outputs": [],
   "source": []
  },
  {
   "cell_type": "code",
   "execution_count": null,
   "metadata": {
    "collapsed": true
   },
   "outputs": [],
   "source": []
  },
  {
   "cell_type": "code",
   "execution_count": null,
   "metadata": {
    "collapsed": true
   },
   "outputs": [],
   "source": []
  },
  {
   "cell_type": "code",
   "execution_count": null,
   "metadata": {
    "collapsed": true
   },
   "outputs": [],
   "source": []
  },
  {
   "cell_type": "code",
   "execution_count": null,
   "metadata": {
    "collapsed": true
   },
   "outputs": [],
   "source": []
  },
  {
   "cell_type": "code",
   "execution_count": null,
   "metadata": {
    "collapsed": true
   },
   "outputs": [],
   "source": []
  },
  {
   "cell_type": "code",
   "execution_count": null,
   "metadata": {
    "collapsed": false
   },
   "outputs": [],
   "source": [
    "plt.scatter(x=\"BUSINESS OPEN YEAR\", \n",
    "                     y = \"NAICS CODE FIRST TWO INT\", figsize=(20,8))#, \n",
    "#                     c = 'cluster_num', alpha = 0.2,\n",
    "#                     fontsize = 10, legend = False, \n",
    "#                    cmap='Dark2')"
   ]
  },
  {
   "cell_type": "code",
   "execution_count": null,
   "metadata": {
    "collapsed": true
   },
   "outputs": [],
   "source": [
    "ax = bl.plot.scatter(x=\"BUSINESS OPEN YEAR\", y = \"ZIP CODE 5 INT\", \n",
    "                     c = 'cluster_num', figsize=(20,4), fontsize = 10, legend = False, \n",
    "                    cmap='Dark2');\n",
    "ax.set_xlabel('Business Open Year')\n",
    "ax.set_ylabel('ZIP CODE 5 INT');"
   ]
  },
  {
   "cell_type": "code",
   "execution_count": null,
   "metadata": {
    "collapsed": false
   },
   "outputs": [],
   "source": [
    "# Output dictionary to CSV file.\n",
    "import csv\n",
    "\n",
    "with open('test.csv', 'w') as csvfile:\n",
    "    fieldnames = range(2,26)\n",
    "    writer = csv.DictWriter(csvfile, fieldnames=fieldnames)\n",
    "    writer.writeheader()\n",
    "    writer.writerow(cluster_info)"
   ]
  },
  {
   "cell_type": "code",
   "execution_count": null,
   "metadata": {
    "collapsed": false
   },
   "outputs": [],
   "source": [
    "# Import dictionary from CSV file\n",
    "with open('test.csv') as csvfile:\n",
    "    reader = csv.DictReader(csvfile)\n",
    "    for row in reader:\n",
    "        print row['5']"
   ]
  },
  {
   "cell_type": "code",
   "execution_count": null,
   "metadata": {
    "collapsed": true
   },
   "outputs": [],
   "source": []
  },
  {
   "cell_type": "code",
   "execution_count": null,
   "metadata": {
    "collapsed": false,
    "deletable": true,
    "editable": true
   },
   "outputs": [],
   "source": [
    "# Output dictionary to CSV file.\n",
    "import csv\n",
    "\n",
    "with open('cluster_dictionaries.csv', 'w') as csvfile:\n",
    "    fieldnames = range(2,26)\n",
    "    writer = csv.writer(csvfile)#, fieldnames = fieldnames)\n",
    "    for key, value in cluster_info.items():\n",
    "        writer.writerow([key, value])"
   ]
  },
  {
   "cell_type": "code",
   "execution_count": null,
   "metadata": {
    "collapsed": true,
    "deletable": true,
    "editable": true
   },
   "outputs": [],
   "source": [
    "# Import dictionary from CSV file\n",
    "import csv\n",
    "\n",
    "with open('cluster_dictionaries.csv', 'r') as csvfile:\n",
    "    reader = csv.reader(csvfile)\n",
    "    imported_dict = dict(reader)    "
   ]
  },
  {
   "cell_type": "code",
   "execution_count": null,
   "metadata": {
    "collapsed": false,
    "deletable": true,
    "editable": true,
    "scrolled": true
   },
   "outputs": [],
   "source": [
    "print cluster_info[4]"
   ]
  },
  {
   "cell_type": "code",
   "execution_count": null,
   "metadata": {
    "collapsed": false,
    "deletable": true,
    "editable": true,
    "scrolled": true
   },
   "outputs": [],
   "source": [
    "cluster_info = imported_dict\n",
    "cluster_info = {int(k):v for k,v in cluster_info.items()}\n",
    "print cluster_info[4]"
   ]
  },
  {
   "cell_type": "code",
   "execution_count": null,
   "metadata": {
    "collapsed": false,
    "deletable": true,
    "editable": true,
    "scrolled": true
   },
   "outputs": [],
   "source": [
    "centers1 = cluster_info[4]\n",
    "print centers1\n",
    "year = centers1[2][0][0]\n",
    "print year\n",
    "IDZIP = centers1[2][0][1]\n",
    "for i in range(len(year)):\n",
    "    print 'Cluster', i,': ', year[i], IDZIP[i]"
   ]
  },
  {
   "cell_type": "code",
   "execution_count": null,
   "metadata": {
    "collapsed": false,
    "deletable": true,
    "editable": true
   },
   "outputs": [],
   "source": [
    "centers2 = cluster_info[4]\n",
    "print centers2\n",
    "year = centers2[2][0][0]\n",
    "print year\n",
    "IDZIP = centers2[2][0][1]\n",
    "for i in range(len(year)):\n",
    "    print 'Cluster', i,': ', year[i], IDZIP[i]"
   ]
  }
 ],
 "metadata": {
  "kernelspec": {
   "display_name": "Python 2",
   "language": "python",
   "name": "python2"
  },
  "language_info": {
   "codemirror_mode": {
    "name": "ipython",
    "version": 2
   },
   "file_extension": ".py",
   "mimetype": "text/x-python",
   "name": "python",
   "nbconvert_exporter": "python",
   "pygments_lexer": "ipython2",
   "version": "2.7.13"
  }
 },
 "nbformat": 4,
 "nbformat_minor": 0
}
