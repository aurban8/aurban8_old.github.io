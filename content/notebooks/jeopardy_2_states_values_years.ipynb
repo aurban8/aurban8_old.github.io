{
 "cells": [
  {
   "cell_type": "markdown",
   "metadata": {
    "deletable": true,
    "editable": true
   },
   "source": [
    "## Get the data and check it"
   ]
  },
  {
   "cell_type": "code",
   "execution_count": 1,
   "metadata": {
    "collapsed": false,
    "deletable": true,
    "editable": true
   },
   "outputs": [],
   "source": [
    "# This command allows plots to appear in the jupyter notebook.\n",
    "%matplotlib inline  \n",
    "# Import the pandas package and load the cleaned json file into a dataframe called df.\n",
    "import pandas as pd\n",
    "df_input = pd.read_json('JEOPARDY_QUESTIONS1_cleaned.json')\n",
    "# Division is float division\n",
    "from __future__ import division"
   ]
  },
  {
   "cell_type": "code",
   "execution_count": 2,
   "metadata": {
    "collapsed": false,
    "deletable": true,
    "editable": true,
    "scrolled": true
   },
   "outputs": [
    {
     "data": {
      "text/html": [
       "<div>\n",
       "<table border=\"1\" class=\"dataframe\">\n",
       "  <thead>\n",
       "    <tr style=\"text-align: right;\">\n",
       "      <th></th>\n",
       "      <th>air_date</th>\n",
       "      <th>answer</th>\n",
       "      <th>category</th>\n",
       "      <th>question</th>\n",
       "      <th>round</th>\n",
       "      <th>show_number</th>\n",
       "      <th>value</th>\n",
       "    </tr>\n",
       "  </thead>\n",
       "  <tbody>\n",
       "    <tr>\n",
       "      <th>0</th>\n",
       "      <td>2004-12-31T00:00:00.000Z</td>\n",
       "      <td>Copernicus</td>\n",
       "      <td>HISTORY</td>\n",
       "      <td>For the last 8 years of his life, Galileo was under house arrest for espousing this man's theory</td>\n",
       "      <td>Jeopardy!</td>\n",
       "      <td>4680</td>\n",
       "      <td>200.0</td>\n",
       "    </tr>\n",
       "    <tr>\n",
       "      <th>1</th>\n",
       "      <td>2004-12-31T00:00:00.000Z</td>\n",
       "      <td>Jim Thorpe</td>\n",
       "      <td>ESPN's TOP 10 ALL-TIME ATHLETES</td>\n",
       "      <td>No. 2: 1912 Olympian; football star at Carlisle Indian School; 6 MLB seasons with the Reds, Giants &amp; Braves</td>\n",
       "      <td>Jeopardy!</td>\n",
       "      <td>4680</td>\n",
       "      <td>200.0</td>\n",
       "    </tr>\n",
       "    <tr>\n",
       "      <th>10</th>\n",
       "      <td>2004-12-31T00:00:00.000Z</td>\n",
       "      <td>Jackie Gleason</td>\n",
       "      <td>EPITAPHS &amp; TRIBUTES</td>\n",
       "      <td>\"And away we go\"</td>\n",
       "      <td>Jeopardy!</td>\n",
       "      <td>4680</td>\n",
       "      <td>400.0</td>\n",
       "    </tr>\n",
       "    <tr>\n",
       "      <th>100</th>\n",
       "      <td>2010-07-06T00:00:00.000Z</td>\n",
       "      <td>a German Shepherd</td>\n",
       "      <td>JUST THE FACTS</td>\n",
       "      <td>This dog breed seen here is a loyal and protective companion</td>\n",
       "      <td>Double Jeopardy!</td>\n",
       "      <td>5957</td>\n",
       "      <td>1200.0</td>\n",
       "    </tr>\n",
       "    <tr>\n",
       "      <th>1000</th>\n",
       "      <td>2000-05-04T00:00:00.000Z</td>\n",
       "      <td>Vanessa Williams</td>\n",
       "      <td>MR. OR MS. WILLIAMS</td>\n",
       "      <td>This devoted mom has been called the most famous Miss America of all time</td>\n",
       "      <td>Double Jeopardy!</td>\n",
       "      <td>3619</td>\n",
       "      <td>2000.0</td>\n",
       "    </tr>\n",
       "  </tbody>\n",
       "</table>\n",
       "</div>"
      ],
      "text/plain": [
       "                      air_date             answer  \\\n",
       "0     2004-12-31T00:00:00.000Z         Copernicus   \n",
       "1     2004-12-31T00:00:00.000Z         Jim Thorpe   \n",
       "10    2004-12-31T00:00:00.000Z     Jackie Gleason   \n",
       "100   2010-07-06T00:00:00.000Z  a German Shepherd   \n",
       "1000  2000-05-04T00:00:00.000Z   Vanessa Williams   \n",
       "\n",
       "                             category  \\\n",
       "0                             HISTORY   \n",
       "1     ESPN's TOP 10 ALL-TIME ATHLETES   \n",
       "10                EPITAPHS & TRIBUTES   \n",
       "100                    JUST THE FACTS   \n",
       "1000              MR. OR MS. WILLIAMS   \n",
       "\n",
       "                                                                                                         question  \\\n",
       "0                For the last 8 years of his life, Galileo was under house arrest for espousing this man's theory   \n",
       "1     No. 2: 1912 Olympian; football star at Carlisle Indian School; 6 MLB seasons with the Reds, Giants & Braves   \n",
       "10                                                                                               \"And away we go\"   \n",
       "100                                                  This dog breed seen here is a loyal and protective companion   \n",
       "1000                                    This devoted mom has been called the most famous Miss America of all time   \n",
       "\n",
       "                 round  show_number   value  \n",
       "0            Jeopardy!         4680   200.0  \n",
       "1            Jeopardy!         4680   200.0  \n",
       "10           Jeopardy!         4680   400.0  \n",
       "100   Double Jeopardy!         5957  1200.0  \n",
       "1000  Double Jeopardy!         3619  2000.0  "
      ]
     },
     "execution_count": 2,
     "metadata": {},
     "output_type": "execute_result"
    }
   ],
   "source": [
    "# Check on the dataframe.\n",
    "pd.set_option('max_colwidth', 300)\n",
    "df_input.head()"
   ]
  },
  {
   "cell_type": "markdown",
   "metadata": {
    "deletable": true,
    "editable": true
   },
   "source": [
    "(Notice the fourth question about German Shepherd. This is the question that helped me find the regular expression error in my previous post.)"
   ]
  },
  {
   "cell_type": "code",
   "execution_count": 3,
   "metadata": {
    "collapsed": false,
    "deletable": true,
    "editable": true
   },
   "outputs": [
    {
     "data": {
      "text/plain": [
       "air_date        object\n",
       "answer          object\n",
       "category        object\n",
       "question        object\n",
       "round           object\n",
       "show_number      int64\n",
       "value          float64\n",
       "dtype: object"
      ]
     },
     "execution_count": 3,
     "metadata": {},
     "output_type": "execute_result"
    }
   ],
   "source": [
    "# Check the data types\n",
    "df_input.dtypes"
   ]
  },
  {
   "cell_type": "code",
   "execution_count": 4,
   "metadata": {
    "collapsed": true,
    "deletable": true,
    "editable": true
   },
   "outputs": [],
   "source": [
    "# Let's convert air_date to date/time, rather than a string.\n",
    "df_input['air_date'] = pd.to_datetime(df_input['air_date'], yearfirst= True)"
   ]
  },
  {
   "cell_type": "code",
   "execution_count": 5,
   "metadata": {
    "collapsed": false,
    "deletable": true,
    "editable": true
   },
   "outputs": [
    {
     "data": {
      "text/plain": [
       "air_date       datetime64[ns]\n",
       "answer                 object\n",
       "category               object\n",
       "question               object\n",
       "round                  object\n",
       "show_number             int64\n",
       "value                 float64\n",
       "dtype: object"
      ]
     },
     "execution_count": 5,
     "metadata": {},
     "output_type": "execute_result"
    }
   ],
   "source": [
    "# Check data types again.\n",
    "df_input.dtypes"
   ]
  },
  {
   "cell_type": "code",
   "execution_count": 6,
   "metadata": {
    "collapsed": false,
    "deletable": true,
    "editable": true
   },
   "outputs": [
    {
     "data": {
      "text/plain": [
       "air_date       216930\n",
       "answer         216930\n",
       "category       216930\n",
       "question       216930\n",
       "round          216930\n",
       "show_number    216930\n",
       "value          213296\n",
       "dtype: int64"
      ]
     },
     "execution_count": 6,
     "metadata": {},
     "output_type": "execute_result"
    }
   ],
   "source": [
    "# Make sure all the data is still there.\n",
    "df_input.count()"
   ]
  },
  {
   "cell_type": "code",
   "execution_count": 7,
   "metadata": {
    "collapsed": true,
    "deletable": true,
    "editable": true
   },
   "outputs": [],
   "source": [
    "# Let's only look at the years where the data is well-sampled.\n",
    "df1 = df_input[(df_input['air_date'] >= '01-01-1997') & (df_input['air_date'] <= '12-31-2000')]\n",
    "df2 = df_input[(df_input['air_date'] >= '01-01-2004') & (df_input['air_date'] <= '12-31-2011')]\n",
    "df = pd.concat([df1, df2])"
   ]
  },
  {
   "cell_type": "markdown",
   "metadata": {
    "deletable": true,
    "editable": true
   },
   "source": [
    "## State of Jeopardy"
   ]
  },
  {
   "cell_type": "markdown",
   "metadata": {
    "deletable": true,
    "editable": true
   },
   "source": [
    "One thing I noticed when looking at the categories is that *geography* seems to be a recurring topic. Is there a way I can find a common theme among the geography questions? Since geography is a large topic, I decided to narrow my focus and only look at questions where the answer was a U.S. state."
   ]
  },
  {
   "cell_type": "code",
   "execution_count": 8,
   "metadata": {
    "collapsed": false,
    "deletable": true,
    "editable": true
   },
   "outputs": [
    {
     "data": {
      "text/plain": [
       "BEFORE & AFTER             413\n",
       "SCIENCE                    276\n",
       "LITERATURE                 257\n",
       "AMERICAN HISTORY           255\n",
       "WORD ORIGINS               252\n",
       "POTPOURRI                  236\n",
       "COLLEGES & UNIVERSITIES    224\n",
       "BODIES OF WATER            220\n",
       "AMERICANA                  214\n",
       "U.S. CITIES                207\n",
       "WORLD CAPITALS             206\n",
       "STUPID ANSWERS             205\n",
       "RHYME TIME                 199\n",
       "WORLD HISTORY              199\n",
       "COMMON BONDS               192\n",
       "Name: category, dtype: int64"
      ]
     },
     "execution_count": 8,
     "metadata": {},
     "output_type": "execute_result"
    }
   ],
   "source": [
    "# Geography is a common theme for Jeopardy categories.\n",
    "# What are the top categories?\n",
    "category_counts = df['category'].value_counts() \n",
    "category_counts[:15]"
   ]
  },
  {
   "cell_type": "code",
   "execution_count": 9,
   "metadata": {
    "collapsed": false,
    "deletable": true,
    "editable": true
   },
   "outputs": [
    {
     "name": "stdout",
     "output_type": "stream",
     "text": [
      "Total : 162384\n",
      "Before and After: 413\n",
      "Percentage: 0.00254335402503\n"
     ]
    }
   ],
   "source": [
    "# How many questions are in the most popular category \"BEFORE & AFTER\"?\n",
    "a = df['question'].count()\n",
    "b = df[df['category']=='BEFORE & AFTER']['question'].count()\n",
    "print \"Total :\", a\n",
    "print \"Before and After:\", b\n",
    "print \"Percentage:\", float(b)/float(a)"
   ]
  },
  {
   "cell_type": "markdown",
   "metadata": {
    "deletable": true,
    "editable": true
   },
   "source": [
    "About 0.25% of the questions in the dataset are from the BEFORE & AFTER category. How does this compare to the number of questions with a U.S. state as an answer? First, let's create a dataframe with only U.S. states as answers."
   ]
  },
  {
   "cell_type": "code",
   "execution_count": 10,
   "metadata": {
    "collapsed": false,
    "deletable": true,
    "editable": true
   },
   "outputs": [
    {
     "data": {
      "text/plain": [
       "50"
      ]
     },
     "execution_count": 10,
     "metadata": {},
     "output_type": "execute_result"
    }
   ],
   "source": [
    "list_of_states = ['Alabama','Alaska','Arizona','Arkansas','California', \n",
    "                  'Colorado','Connecticut', 'Delaware', 'Florida','Georgia',\n",
    "                  'Hawaii','Idaho','Illinois','Indiana', 'Iowa', 'Kansas',\n",
    "                  'Kentucky', 'Louisiana', 'Maine', 'Maryland', 'Massachusetts',\n",
    "                  'Michigan','Minnesota','Mississippi', 'Missouri','Montana','Nebraska', \n",
    "                  'Nevada','New Hampshire', 'New Jersey','New Mexico', 'New York',\n",
    "                  'North Carolina', 'North Dakota','Ohio','Oklahoma', 'Oregon',\n",
    "                  'Pennsylvania', 'Rhode Island','South Carolina', 'South Dakota',\n",
    "                  'Tennessee','Texas','Utah','Vermont', 'Virginia', 'Washington', \n",
    "                  'West Virginia', 'Wisconsin', 'Wyoming']\n",
    "len(list_of_states)"
   ]
  },
  {
   "cell_type": "code",
   "execution_count": 11,
   "metadata": {
    "collapsed": false,
    "deletable": true,
    "editable": true
   },
   "outputs": [],
   "source": [
    "# Create new dataframe with only states as answers.\n",
    "state_answers = df[df['answer'].isin(list_of_states)]"
   ]
  },
  {
   "cell_type": "code",
   "execution_count": 12,
   "metadata": {
    "collapsed": false,
    "deletable": true,
    "editable": true
   },
   "outputs": [
    {
     "name": "stdout",
     "output_type": "stream",
     "text": [
      "Total : 162384\n",
      "States: 2887\n",
      "Percentage: 0.0177788452064\n"
     ]
    }
   ],
   "source": [
    "# How many of the data set questions have U.S. states as an answer?\n",
    "c = state_answers['question'].count()\n",
    "print \"Total :\", a\n",
    "print \"States:\", c\n",
    "print \"Percentage:\", float(c)/float(a)"
   ]
  },
  {
   "cell_type": "markdown",
   "metadata": {
    "deletable": true,
    "editable": true
   },
   "source": [
    "The top category, BEFORE & AFTER, contains 0.25% of all the questions in the dataset. Questions about U.S. states are actually more popular, making up 1.8% of answers in the dataset."
   ]
  },
  {
   "cell_type": "code",
   "execution_count": 13,
   "metadata": {
    "collapsed": false,
    "deletable": true,
    "editable": true
   },
   "outputs": [
    {
     "data": {
      "text/html": [
       "<div>\n",
       "<table border=\"1\" class=\"dataframe\">\n",
       "  <thead>\n",
       "    <tr style=\"text-align: right;\">\n",
       "      <th></th>\n",
       "      <th>air_date</th>\n",
       "      <th>answer</th>\n",
       "      <th>category</th>\n",
       "      <th>question</th>\n",
       "      <th>round</th>\n",
       "      <th>show_number</th>\n",
       "      <th>value</th>\n",
       "    </tr>\n",
       "  </thead>\n",
       "  <tbody>\n",
       "    <tr>\n",
       "      <th>1001</th>\n",
       "      <td>2000-05-04</td>\n",
       "      <td>Tennessee</td>\n",
       "      <td>AIN'T THAT AMERICA</td>\n",
       "      <td>From 1784 to 1788 the eastern part of this state was a separate state called Franklin</td>\n",
       "      <td>Double Jeopardy!</td>\n",
       "      <td>3619</td>\n",
       "      <td>2000.0</td>\n",
       "    </tr>\n",
       "    <tr>\n",
       "      <th>100165</th>\n",
       "      <td>1999-01-04</td>\n",
       "      <td>Hawaii</td>\n",
       "      <td>CLOTHES MAKE THE LAND</td>\n",
       "      <td>It's the U.S. state where you'll find the native skirts seen here (grass skirts)</td>\n",
       "      <td>Jeopardy!</td>\n",
       "      <td>3301</td>\n",
       "      <td>200.0</td>\n",
       "    </tr>\n",
       "    <tr>\n",
       "      <th>100950</th>\n",
       "      <td>1999-01-15</td>\n",
       "      <td>Georgia</td>\n",
       "      <td>NATIONAL MONUMENTS</td>\n",
       "      <td>Ocmulgee National Monument at Macon in this state preserves some prehistoric &amp; historic Indian villages</td>\n",
       "      <td>Double Jeopardy!</td>\n",
       "      <td>3310</td>\n",
       "      <td>800.0</td>\n",
       "    </tr>\n",
       "    <tr>\n",
       "      <th>100962</th>\n",
       "      <td>1999-01-15</td>\n",
       "      <td>Arizona</td>\n",
       "      <td>NATIONAL MONUMENTS</td>\n",
       "      <td>Organ Pipe Cactus National Monument is the largest of the 13 national monuments in this SW state</td>\n",
       "      <td>Double Jeopardy!</td>\n",
       "      <td>3310</td>\n",
       "      <td>1600.0</td>\n",
       "    </tr>\n",
       "    <tr>\n",
       "      <th>101390</th>\n",
       "      <td>1997-07-18</td>\n",
       "      <td>Virginia</td>\n",
       "      <td>AMERICANA</td>\n",
       "      <td>Shoppers, take note:  the Potomac Mills discount mall is this state's No. 1 tourist destination</td>\n",
       "      <td>Jeopardy!</td>\n",
       "      <td>2985</td>\n",
       "      <td>200.0</td>\n",
       "    </tr>\n",
       "  </tbody>\n",
       "</table>\n",
       "</div>"
      ],
      "text/plain": [
       "         air_date     answer               category  \\\n",
       "1001   2000-05-04  Tennessee     AIN'T THAT AMERICA   \n",
       "100165 1999-01-04     Hawaii  CLOTHES MAKE THE LAND   \n",
       "100950 1999-01-15    Georgia     NATIONAL MONUMENTS   \n",
       "100962 1999-01-15    Arizona     NATIONAL MONUMENTS   \n",
       "101390 1997-07-18   Virginia              AMERICANA   \n",
       "\n",
       "                                                                                                       question  \\\n",
       "1001                      From 1784 to 1788 the eastern part of this state was a separate state called Franklin   \n",
       "100165                         It's the U.S. state where you'll find the native skirts seen here (grass skirts)   \n",
       "100950  Ocmulgee National Monument at Macon in this state preserves some prehistoric & historic Indian villages   \n",
       "100962         Organ Pipe Cactus National Monument is the largest of the 13 national monuments in this SW state   \n",
       "101390          Shoppers, take note:  the Potomac Mills discount mall is this state's No. 1 tourist destination   \n",
       "\n",
       "                   round  show_number   value  \n",
       "1001    Double Jeopardy!         3619  2000.0  \n",
       "100165         Jeopardy!         3301   200.0  \n",
       "100950  Double Jeopardy!         3310   800.0  \n",
       "100962  Double Jeopardy!         3310  1600.0  \n",
       "101390         Jeopardy!         2985   200.0  "
      ]
     },
     "execution_count": 13,
     "metadata": {},
     "output_type": "execute_result"
    }
   ],
   "source": [
    "# Let's take a look at some of these questions.\n",
    "state_answers.head()"
   ]
  },
  {
   "cell_type": "markdown",
   "metadata": {
    "deletable": true,
    "editable": true
   },
   "source": [
    "## California is the most popular U.S. state\n",
    "\n",
    "What is the most popular state? Are some states more popular than others? If so, how much more popular?"
   ]
  },
  {
   "cell_type": "code",
   "execution_count": 14,
   "metadata": {
    "collapsed": false,
    "deletable": true,
    "editable": true
   },
   "outputs": [
    {
     "data": {
      "text/plain": [
       "Florida       113\n",
       "Alaska        115\n",
       "Texas         116\n",
       "Hawaii        116\n",
       "California    133\n",
       "Name: answer, dtype: int64"
      ]
     },
     "execution_count": 14,
     "metadata": {},
     "output_type": "execute_result"
    }
   ],
   "source": [
    "# Count up how many answers there are for each state. \n",
    "# Sort them and print last few.\n",
    "count_state_answers = state_answers.answer.value_counts()\n",
    "count_state_answers.sort_values().tail()"
   ]
  },
  {
   "cell_type": "code",
   "execution_count": 15,
   "metadata": {
    "collapsed": false,
    "deletable": true,
    "editable": true
   },
   "outputs": [
    {
     "data": {
      "image/png": "[encoded data removed]",
      "text/plain": [
       "<matplotlib.figure.Figure at 0x136162490>"
      ]
     },
     "metadata": {},
     "output_type": "display_data"
    }
   ],
   "source": [
    "# Let's plot the counts too.\n",
    "ax = count_state_answers.plot(kind='bar', figsize=(16,6), fontsize = 15)\n",
    "ax.set_xlabel(\"State\",fontsize = 20)\n",
    "ax.set_ylabel(\"Number of Appearances\",fontsize = 20);"
   ]
  },
  {
   "cell_type": "markdown",
   "metadata": {
    "deletable": true,
    "editable": true
   },
   "source": [
    "Certain states seem to appear more frequently than other states. Why is that? \n",
    "\n",
    "My first thought was that it's somehow related to [population](https://en.wikipedia.org/wiki/List_of_U.S._states_and_territories_by_population). The most populous states in the U.S. are California, Texas, and Florida. But, Alaska and Hawaii are the 11th and 3rd *least* populous states. So, population doesn't appear to track with a state's popularity on Jeopardy, but it seems somewhat related. I want to look into this metric in more detail, but before I get ahead of myself, let's make sure that the numbers I am seeing are significant.\n",
    "\n",
    "I'll test this with the  [\"goodness-of-fit test\"](https://cnx.org/contents/MBiUQmmY@18.54:0kBuhjul@5/Goodness-of-Fit-Test). This will let me compare the observed and expected values. I'll use the expected values to be a flat distribution. This means that the null hypothesis is that every state is equally likely to appear on Jeopardy. The alternative hypothesis is that they are not equally popular. Here is the definition of the statistic $\\chi ^2$\n",
    "\n",
    "$ \\chi ^2 = \\sum \\frac{(O-E)^2}{E}$\n",
    "\n",
    "where $O$ is the observed value and $E$ is the expected value. Luckily the [scipy package has a function for calculating this](https://docs.scipy.org/doc/scipy/reference/generated/scipy.stats.chisquare.html)."
   ]
  },
  {
   "cell_type": "code",
   "execution_count": 16,
   "metadata": {
    "collapsed": false,
    "deletable": true,
    "editable": true
   },
   "outputs": [
    {
     "name": "stdout",
     "output_type": "stream",
     "text": [
      "Chisquare =  552.608590232\n",
      "p =  2.05724197003e-86\n"
     ]
    }
   ],
   "source": [
    "from scipy.stats import chisquare\n",
    "chisq, p = chisquare(count_state_answers)\n",
    "print 'Chisquare = ', chisq\n",
    "print 'p = ', p"
   ]
  },
  {
   "cell_type": "markdown",
   "metadata": {
    "deletable": true,
    "editable": true
   },
   "source": [
    "With such a low p-value, we can reject the null hypothesis that the distribution of U.S. states is flat. The trend we see with state popularity is real. "
   ]
  },
  {
   "cell_type": "markdown",
   "metadata": {
    "deletable": true,
    "editable": true
   },
   "source": [
    "## Money Money Money!"
   ]
  },
  {
   "cell_type": "markdown",
   "metadata": {
    "deletable": true,
    "editable": true
   },
   "source": [
    "The point of Jeopardy is to answer questions correctly in order to collect the most money. Let's look at how learning about the states can help you earn that money! "
   ]
  },
  {
   "cell_type": "markdown",
   "metadata": {},
   "source": [
    "Let's break it down.\n",
    "\n",
    "* Should a contestant study the states that appear the most frequently because they are more likely to appear? \n",
    "\n",
    "    OR\n",
    "\n",
    "\n",
    "* Should a contestant study the states that appear less frequently because their dollar amounts are possibly higher than the more popular states?\n",
    "\n",
    "Let me first look into the relationship between a state's popularity and its average dollar amount. Is there a relationship?\n",
    "\n",
    "To answer this question, I'll create a new dataframe (`state_data`) that contains information about each state's questions, as opposed to the dataframe I'm using now (`state_answers`) which is organized by question."
   ]
  },
  {
   "cell_type": "code",
   "execution_count": 17,
   "metadata": {
    "collapsed": false,
    "deletable": true,
    "editable": true
   },
   "outputs": [
    {
     "data": {
      "text/html": [
       "<div>\n",
       "<table border=\"1\" class=\"dataframe\">\n",
       "  <thead>\n",
       "    <tr style=\"text-align: right;\">\n",
       "      <th></th>\n",
       "      <th>total_count</th>\n",
       "      <th>value_avg</th>\n",
       "    </tr>\n",
       "  </thead>\n",
       "  <tbody>\n",
       "    <tr>\n",
       "      <th>Alabama</th>\n",
       "      <td>37</td>\n",
       "      <td>837.837838</td>\n",
       "    </tr>\n",
       "    <tr>\n",
       "      <th>Alaska</th>\n",
       "      <td>115</td>\n",
       "      <td>699.122807</td>\n",
       "    </tr>\n",
       "    <tr>\n",
       "      <th>Arizona</th>\n",
       "      <td>63</td>\n",
       "      <td>952.380952</td>\n",
       "    </tr>\n",
       "    <tr>\n",
       "      <th>Arkansas</th>\n",
       "      <td>34</td>\n",
       "      <td>750.000000</td>\n",
       "    </tr>\n",
       "    <tr>\n",
       "      <th>California</th>\n",
       "      <td>133</td>\n",
       "      <td>589.473684</td>\n",
       "    </tr>\n",
       "  </tbody>\n",
       "</table>\n",
       "</div>"
      ],
      "text/plain": [
       "            total_count   value_avg\n",
       "Alabama              37  837.837838\n",
       "Alaska              115  699.122807\n",
       "Arizona              63  952.380952\n",
       "Arkansas             34  750.000000\n",
       "California          133  589.473684"
      ]
     },
     "execution_count": 17,
     "metadata": {},
     "output_type": "execute_result"
    }
   ],
   "source": [
    "# Group the questions about states by their dollar values and find the mean.\n",
    "avg_values = state_answers.groupby('answer')['value'].mean()\n",
    "# Put state data together in a single dataframe.\n",
    "state_data = pd.concat([count_state_answers, avg_values], axis = 1)\n",
    "state_data.columns = ['total_count', 'value_avg']\n",
    "state_data.head()"
   ]
  },
  {
   "cell_type": "code",
   "execution_count": 18,
   "metadata": {
    "collapsed": false,
    "deletable": true,
    "editable": true
   },
   "outputs": [
    {
     "data": {
      "image/png": "[encoded data removed]",
      "text/plain": [
       "<matplotlib.figure.Figure at 0x136d9c7d0>"
      ]
     },
     "metadata": {},
     "output_type": "display_data"
    }
   ],
   "source": [
    "# Plot the relationship between average dollar value \n",
    "# and total number of appearances on Jeopardy for each U.S. state.\n",
    "ax = state_data.plot(x='value_avg', y='total_count',  kind = 'scatter', fontsize = 15)\n",
    "ax.set_xlabel(\"Average Dollar Value\", fontsize = 15)\n",
    "ax.set_ylabel(\"Total Count\", fontsize = 15);"
   ]
  },
  {
   "cell_type": "markdown",
   "metadata": {
    "deletable": true,
    "editable": true
   },
   "source": [
    "The plot seems to show a negative correlation between popularity and dollar amount for U.S. states. Let's [investigate how good of a correlation](https://cnx.org/contents/MBiUQmmY@18.54:DVUc4Pk0@3/Testing-the-Significance-of-th) it is using the [Pearson correlation coefficient](https://en.wikipedia.org/wiki/Pearson_correlation_coefficient), $r$, with the function [scipy.stats.pearsonr](https://docs.scipy.org/doc/scipy/reference/generated/scipy.stats.pearsonr.html)."
   ]
  },
  {
   "cell_type": "code",
   "execution_count": 19,
   "metadata": {
    "collapsed": false,
    "deletable": true,
    "editable": true
   },
   "outputs": [
    {
     "name": "stdout",
     "output_type": "stream",
     "text": [
      "p =  0.00149233948007\n",
      "r =  -0.437379909823\n"
     ]
    }
   ],
   "source": [
    "from scipy.stats import pearsonr\n",
    "r, pvalue = pearsonr(state_data['value_avg'], state_data['total_count'])\n",
    "print \"p = \", pvalue\n",
    "print \"r = \", r"
   ]
  },
  {
   "cell_type": "markdown",
   "metadata": {
    "deletable": true,
    "editable": true
   },
   "source": [
    "Let's take a look at what these $r$ and $p$ values mean. The null hypothesis states that there is no relationship between the variables. However since $p$ is less than 0.05, I'll reject this hypothesis. \n",
    "\n",
    "The value of $r$ can range from -1 to +1. A value of 0 indicates that there is no correlation. Negative and positive values indicate negative and positive correlations. In our case, $r$ is negative which agrees with the negative correlation seen in the plot. The value of $r$ indicates the strength of the correlation. As it approaches +1 or -1, the correlation gets stronger. My value of $r$ is not very indicative of a strong correlation."
   ]
  },
  {
   "cell_type": "markdown",
   "metadata": {
    "deletable": true,
    "editable": true
   },
   "source": [
    "## When all else fails, fit a line!"
   ]
  },
  {
   "cell_type": "markdown",
   "metadata": {
    "deletable": true,
    "editable": true
   },
   "source": [
    "I can also investigate the relationship between the average value and the total number of appearances for U.S. states using [linear regression](https://cnx.org/contents/MBiUQmmY@18.54:dGVONwOD@4/Introduction). Although, since I don't have a very strong correlation, I would be hesitant to use this model to make any confident predictions. Let's go through the steps anyway to see what we get. \n",
    "[Scikit-learn](http://scikit-learn.org/stable/index.html) has a [useful tool](http://scikit-learn.org/stable/modules/generated/sklearn.linear_model.LinearRegression.html) for performing this operation."
   ]
  },
  {
   "cell_type": "code",
   "execution_count": 20,
   "metadata": {
    "collapsed": false,
    "deletable": true,
    "editable": true
   },
   "outputs": [
    {
     "data": {
      "text/plain": [
       "LinearRegression(copy_X=True, fit_intercept=True, n_jobs=1, normalize=False)"
      ]
     },
     "execution_count": 20,
     "metadata": {},
     "output_type": "execute_result"
    }
   ],
   "source": [
    "# Calculate the parameters of the model.\n",
    "from sklearn.linear_model import LinearRegression\n",
    "x = state_data['value_avg']\n",
    "y = state_data['total_count']\n",
    "x = x.values.reshape(-1,1)\n",
    "y = y.values.reshape(-1,1)\n",
    "model = LinearRegression()\n",
    "model.fit(x,y)"
   ]
  },
  {
   "cell_type": "code",
   "execution_count": 21,
   "metadata": {
    "collapsed": false,
    "deletable": true,
    "editable": true
   },
   "outputs": [
    {
     "data": {
      "image/png": "[encoded data removed]",
      "text/plain": [
       "<matplotlib.figure.Figure at 0x1395f8790>"
      ]
     },
     "metadata": {},
     "output_type": "display_data"
    }
   ],
   "source": [
    "# Plot the best fit line.\n",
    "import matplotlib.pyplot as plt\n",
    "plt.scatter(x,y)\n",
    "plt.plot(x, model.predict(x))\n",
    "plt.xticks(fontsize = 15)\n",
    "plt.yticks(fontsize = 15)\n",
    "plt.xlabel(\"Average Dollar Value\", fontsize = 15)\n",
    "plt.ylabel(\"Total Count\", fontsize = 15);"
   ]
  },
  {
   "cell_type": "code",
   "execution_count": 22,
   "metadata": {
    "collapsed": false,
    "deletable": true,
    "editable": true
   },
   "outputs": [
    {
     "name": "stdout",
     "output_type": "stream",
     "text": [
      "y =  -0.090933237871 x +  135.258479027\n"
     ]
    }
   ],
   "source": [
    "# Print the equation of the line.\n",
    "m = (model.predict(1000) - model.predict(500))/500\n",
    "m=float(m[0])\n",
    "b = model.predict(1000)-m*1000\n",
    "b = float(b[0])\n",
    "print \"y = \", m, \"x + \", b"
   ]
  },
  {
   "cell_type": "code",
   "execution_count": 23,
   "metadata": {
    "collapsed": false,
    "deletable": true,
    "editable": true
   },
   "outputs": [
    {
     "name": "stdout",
     "output_type": "stream",
     "text": [
      "Linear Regression r^2 =  0.191301185517\n",
      "Pearson           r^2 =  0.191301185517\n"
     ]
    }
   ],
   "source": [
    "# Use LinearRegression to get statistics also.\n",
    "coefdeter = model.score(x,y)\n",
    "print \"Linear Regression r^2 = \", coefdeter\n",
    "print \"Pearson           r^2 = \", r*r"
   ]
  },
  {
   "cell_type": "markdown",
   "metadata": {
    "collapsed": false,
    "deletable": true,
    "editable": true
   },
   "source": [
    "It's pretty nice that `LinearRegression` will calculate the square of the Pearson $r$ for us. Notice that it agrees with the value calculated previously by `pearsonr`."
   ]
  },
  {
   "cell_type": "markdown",
   "metadata": {
    "deletable": true,
    "editable": true
   },
   "source": [
    "## I fit a line. Now what?"
   ]
  },
  {
   "cell_type": "markdown",
   "metadata": {
    "collapsed": true,
    "deletable": true,
    "editable": true
   },
   "source": [
    "Although the fit between the popularity of a state and its average dollar amount is not as tight as I'd like it to be, I'm going to use it anyway to answer the question of whether it's a good idea to focus on studying the *more lucrative, less popular* states, or if it's better to study *less lucrative but more popular* states.\n",
    "\n",
    "Looking back at the figure above, if you squint, you can see that I have a probability distribution function. For a given average dollar value, I have a predicted number of questions. If I randomly pick a question about a U.S. state, it is more likely to have a lower dollar amount.\n",
    "\n",
    "Probability distribution function $= mx+b$\n",
    "\n",
    "where $x$ = dollar amount.\n",
    "\n",
    "Let's assume this holds for dollar amounts in the range I found for average dollar amounts ~\\$600 to ~\\$1100, the actual dollar range on Jeopardy.\n",
    "\n",
    "What if we conduct an experiment? Let's sample from our probability distribution function (PDF) as if we were on Jeopardy. Are we going to make more money if we correctly answer the popular, lower-dollar amount questions or if we correctly answer the rare, higher-dollar value questions right?\n",
    "\n",
    "I'm going to need to randomly sample from my given probability distribution function. To do that, first I'll have to normalize it. Then I'll calculate the cumulative distribution function (CDF), which I then have to invert. Once I have the inverted CDF, I can use a random number generator to give me numbers between 0 and 1. Finally, I'll plug these random numbers into my inverted CDF and I'll get random numbers that sample my PDF. ([Here's](https://www.comsol.com/blogs/sampling-random-numbers-from-probability-distribution-functions/) a nice explanation of this procedure.)\n",
    "\n",
    "To investigate this, first I'll normalize this function."
   ]
  },
  {
   "cell_type": "markdown",
   "metadata": {
    "deletable": true,
    "editable": true
   },
   "source": [
    "$ A \\int^{1100}_{600} (mx+b) dx = 1$\n",
    "\n",
    "$A (\\frac{mx^2}{2} + bx) ]^{x=2000}_{x=200}  =1$\n",
    "\n",
    "$A [(m/2 \\cdot 1100^2  + b \\cdot 1100) - (m/2 \\cdot 600^2 + b \\cdot 600)] = 1$\n",
    "\n",
    "$ A  = 1/ [(m/2 \\cdot 1100^2  + b \\cdot 1100) - (m/2 \\cdot 600^2 + b \\cdot 600)]$ \n",
    "\n",
    "Geesh, that's ugly. Let's have the computer deal with this ugliness."
   ]
  },
  {
   "cell_type": "code",
   "execution_count": 24,
   "metadata": {
    "collapsed": false,
    "deletable": true,
    "editable": true
   },
   "outputs": [
    {
     "name": "stdout",
     "output_type": "stream",
     "text": [
      "3.4503444723e-05\n"
     ]
    }
   ],
   "source": [
    "# Normalize the function\n",
    "upper = 1100.\n",
    "lower = 600.\n",
    "A = (  ((m*0.5*upper*upper) + (b*upper))-((m*0.5*lower*lower) + (b*lower))   )\n",
    "A = 1./A\n",
    "print A"
   ]
  },
  {
   "cell_type": "markdown",
   "metadata": {
    "deletable": true,
    "editable": true
   },
   "source": [
    "The cumulative probability distribution function is just the integral of the PDF.\n",
    "\n",
    "$PDF = A (mx + b)$\n",
    "\n",
    " $CDF = \\int{PDF = \\int^{x'=x}_{x'=$600}A (mx'+ b)}dx' $\n",
    "\n",
    "Once we have the CDF, it will be in the form $ y = f(x)$. I'll need to invert it so that it is $x = f(y)$. This will let me plug a random value from 0 to 1 and will output the dollar value which follows my derived PDF.\n",
    "\n",
    "After some integration, I get the following for the CDF. \n",
    "\n",
    "$l =$ \\$600\n",
    "\n",
    "$CDF = A \\cdot [0.5 m \\cdot x^2 + bx - 0.5 m \\cdot l^2 - bl)$\n",
    "\n"
   ]
  },
  {
   "cell_type": "code",
   "execution_count": 25,
   "metadata": {
    "collapsed": false,
    "deletable": true,
    "editable": true
   },
   "outputs": [
    {
     "data": {
      "image/png": "[encoded data removed]",
      "text/plain": [
       "<matplotlib.figure.Figure at 0x10aee7fd0>"
      ]
     },
     "metadata": {},
     "output_type": "display_data"
    }
   ],
   "source": [
    "# Plot CDF.\n",
    "# Input x\n",
    "x = range(int(lower), int(upper), 50)\n",
    "# Output y\n",
    "y = [(0.5*m*float(xx)*float(xx) + b*float(xx) - 0.5*m*lower*lower - b*lower)*A for xx in x]\n",
    "plt.scatter(x,y)\n",
    "plt.xticks(fontsize = 15)\n",
    "plt.yticks(fontsize = 15)\n",
    "plt.xlabel(\"x: Dollar amount\", fontsize = 15)\n",
    "plt.ylabel(\"y: CDF\", fontsize = 15);"
   ]
  },
  {
   "cell_type": "markdown",
   "metadata": {
    "deletable": true,
    "editable": true
   },
   "source": [
    "The next step is to invert the CDF, i.e., solve for $x$. Now, you might have noticed that the CDF is a quadratic function. Awesome! To solve for $x$, I'll need to [complete the squares](https://www.khanacademy.org/math/algebra/quadratics/solving-quadratics-by-completing-the-square/a/completing-the-square-review). Fun! "
   ]
  },
  {
   "cell_type": "markdown",
   "metadata": {
    "deletable": true,
    "editable": true
   },
   "source": [
    "Eventually, I end up with...\n",
    "\n",
    "$ x = \\pm \\sqrt{(\\frac{b^2}{2m} - Q)2/m} -b/m$\n",
    "\n",
    "where $Q = -y/A - 0.5ml^2 -bl$\n",
    "\n",
    "Now, I'm pretty confident in my math skills, but not confident enough to move forward without double checking them. So, I plotted the inverted CDF to make sure it matches the original CDF. "
   ]
  },
  {
   "cell_type": "code",
   "execution_count": 26,
   "metadata": {
    "collapsed": false,
    "deletable": true,
    "editable": true
   },
   "outputs": [
    {
     "data": {
      "image/png": "[encoded data removed]",
      "text/plain": [
       "<matplotlib.figure.Figure at 0x1371853d0>"
      ]
     },
     "metadata": {},
     "output_type": "display_data"
    }
   ],
   "source": [
    "# Plot inverted CDF in order to check MATH.  Plot should look the same as previous plot.\n",
    "# Plotting will also determine that using the negative sign is the way to go.\n",
    "# Input y\n",
    "yy = [0.1,0.2, 0.4,0.5, 0.6, 0.7,0.8,0.9,1.]\n",
    "# Output x\n",
    "QQ = [-y/A -0.5*m*lower*lower -b*lower for y in yy]\n",
    "x = [((((b*b/2./m -Q)*2./m)**(0.5))*-1.)-(b/m) for Q in QQ]\n",
    "plt.scatter(x,yy)\n",
    "plt.xticks(fontsize = 15)\n",
    "plt.yticks(fontsize = 15)\n",
    "plt.xlabel(\"x: Dollar amount\", fontsize = 15)\n",
    "plt.ylabel(\"y: CDF\", fontsize = 15);"
   ]
  },
  {
   "cell_type": "markdown",
   "metadata": {
    "deletable": true,
    "editable": true
   },
   "source": [
    "The plot looks good. Let's go ahead and define a function that will calculate the inverse of the CDF."
   ]
  },
  {
   "cell_type": "code",
   "execution_count": 27,
   "metadata": {
    "collapsed": false,
    "deletable": true,
    "editable": true
   },
   "outputs": [],
   "source": [
    "# Function calculates the inverse of the CDF. yy is the input vector. x is the output vector. \n",
    "# A, b,m, and lower are all parameters\n",
    "def CDF(yy,x,A, b,m, lower):\n",
    "    QQ = [-y/A -0.5*m*lower*lower -b*lower  for y in yy]\n",
    "    x = [((((b*b/2./m -Q)*2./m)**(0.5))*-1.)-(b/m) for Q in QQ]\n",
    "    return x"
   ]
  },
  {
   "cell_type": "markdown",
   "metadata": {
    "deletable": true,
    "editable": true
   },
   "source": [
    "## Sampling the Distribution Function\n",
    "\n",
    "Great! Now we can get to the fun part. With the inverted CDF, I can now give it random numbers between 0 and 1 and it will output samples from my original probability distribution function. Let's give it a try."
   ]
  },
  {
   "cell_type": "code",
   "execution_count": 28,
   "metadata": {
    "collapsed": true,
    "deletable": true,
    "editable": true
   },
   "outputs": [],
   "source": [
    "# Import random number generators\n",
    "import numpy as np\n",
    "from numpy.random import random"
   ]
  },
  {
   "cell_type": "code",
   "execution_count": 29,
   "metadata": {
    "collapsed": false,
    "deletable": true,
    "editable": true
   },
   "outputs": [
    {
     "name": "stdout",
     "output_type": "stream",
     "text": [
      "Random numbers between 0 and 1\n",
      "[ 0.02650412  0.46988939  0.72293803  0.69477467  0.68352009]\n",
      "Dollar amounts sampled from our PDF\n",
      "[609.57047256063424, 788.85377918101028, 915.84627344772923, 900.35242846369624, 894.27397854394462]\n"
     ]
    }
   ],
   "source": [
    "# Let's start with 5 samples and see the dollar amounts we end up with.\n",
    "number_of_samples = 5\n",
    "random0to1 = np.random.uniform(0,1, number_of_samples)\n",
    "print 'Random numbers between 0 and 1'\n",
    "print random0to1\n",
    "y= CDF(random0to1,x,A,b,m,lower)\n",
    "print 'Dollar amounts sampled from our PDF'\n",
    "print y\n"
   ]
  },
  {
   "cell_type": "markdown",
   "metadata": {
    "deletable": true,
    "editable": true
   },
   "source": [
    "Awesome! Now back to my main question. Is it better to study states that may appear less frequently but yield a higher per question dollar amount or study more frequently appearing, but less lucrative states? \n",
    "\n",
    "I'm going to sample my probability distribution 5 times which represents 5 U.S. state clues per game. For each game, I'll calculate how much money a contestant would earn if she got only all of the high dollar questions correct. Then I'll calculate how much money should would earn if she got only all of the low dollar questions correct. I'll assume one of her other opponents answered the other U.S. states correctly. Of the U.S. state questions offered in a Jeopardy game, how much more money will she have compared to her opponent?"
   ]
  },
  {
   "cell_type": "code",
   "execution_count": 30,
   "metadata": {
    "collapsed": false,
    "deletable": true,
    "editable": true
   },
   "outputs": [],
   "source": [
    "number_of_clues = 5\n",
    "number_of_games = 300\n",
    "# Mid way dollar amount. Divides high dollar from low dollar questions.\n",
    "high_low = (upper-lower)/2.0+lower\n",
    "bigmoneylist=[]\n",
    "smallmoneylist=[]\n",
    "difflist = []\n",
    "for i in range(number_of_games):\n",
    "    random0to1 = np.random.uniform(0,1, number_of_clues)\n",
    "    y= CDF(random0to1,x,A,b,m,lower)\n",
    "# Sum up total possible money to be earned in 1 game.\n",
    "    totalmoney = sum(y)\n",
    "# Sum up low popularity, high dollar amount clues\n",
    "    bigmoney = 0\n",
    "# Sum up high popularity, low dollar amount clues\n",
    "    smallmoney = 0\n",
    "    for num in y:\n",
    "        if num >= high_low:\n",
    "            bigmoney += num \n",
    "        else:\n",
    "            smallmoney += num\n",
    "    bigmoneylist.append(bigmoney)\n",
    "    smallmoneylist.append(smallmoney)\n",
    "    difflist.append((smallmoney-bigmoney)/totalmoney*100)"
   ]
  },
  {
   "cell_type": "code",
   "execution_count": 31,
   "metadata": {
    "collapsed": false,
    "deletable": true,
    "editable": true
   },
   "outputs": [],
   "source": [
    "# Number of bins in histogram\n",
    "binnum = 5"
   ]
  },
  {
   "cell_type": "code",
   "execution_count": 32,
   "metadata": {
    "collapsed": false,
    "deletable": true,
    "editable": true
   },
   "outputs": [
    {
     "data": {
      "image/png": "[encoded data removed]",
      "text/plain": [
       "<matplotlib.figure.Figure at 0x12382e250>"
      ]
     },
     "metadata": {},
     "output_type": "display_data"
    }
   ],
   "source": [
    "plt.hist(difflist, normed=True, bins=binnum)\n",
    "plt.xticks(fontsize = 15)\n",
    "plt.yticks(fontsize = 8)\n",
    "plt.title('% Difference between Small and Large Value Clues', fontsize = 15)\n",
    "plt.xlabel(\"Percentage Difference\", fontsize = 15)\n",
    "plt.ylabel('Probability', fontsize = 15);"
   ]
  },
  {
   "cell_type": "markdown",
   "metadata": {
    "deletable": true,
    "editable": true
   },
   "source": [
    "Let me take a minute to think about this plot. In the positive region from 0-100%, in a single game the Jeopardy player is getting all of the small value clues correctly and her opponent is making money off of the large value clues. In the negative region, our contestant is answering all of the large value clues correctly. So, it looks like the distribution is pretty even. Let's look into the details of this. What is the average? What is the median?"
   ]
  },
  {
   "cell_type": "code",
   "execution_count": 33,
   "metadata": {
    "collapsed": false,
    "deletable": true,
    "editable": true
   },
   "outputs": [
    {
     "name": "stdout",
     "output_type": "stream",
     "text": [
      "Average:   8.83056980337\n",
      "Median :   6.71609281371\n"
     ]
    }
   ],
   "source": [
    "print 'Average:  ', np.mean(difflist)\n",
    "print 'Median :  ', np.median(difflist)"
   ]
  },
  {
   "cell_type": "markdown",
   "metadata": {
    "deletable": true,
    "editable": true
   },
   "source": [
    "Hmm... that's about what I expected from looking at my histogram. Our contestant will earn about 8% more money than her opponent if she studies the popular Jeopardy states and gets all her questions right. I'm guessing that being able to push the buzzer before your opponent who might also know the answer to the popular state questions will probably wash away this 8% bump you might get by your extra studying.  But who knows, it might make the extra difference."
   ]
  },
  {
   "cell_type": "markdown",
   "metadata": {
    "deletable": true,
    "editable": true
   },
   "source": []
  }
 ],
 "metadata": {
  "kernelspec": {
   "display_name": "Python 2",
   "language": "python",
   "name": "python2"
  },
  "language_info": {
   "codemirror_mode": {
    "name": "ipython",
    "version": 2
   },
   "file_extension": ".py",
   "mimetype": "text/x-python",
   "name": "python",
   "nbconvert_exporter": "python",
   "pygments_lexer": "ipython2",
   "version": "2.7.13"
  }
 },
 "nbformat": 4,
 "nbformat_minor": 0
}
