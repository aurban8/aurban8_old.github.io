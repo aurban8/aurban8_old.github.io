{
 "cells": [
  {
   "cell_type": "markdown",
   "metadata": {
    "deletable": true,
    "editable": true
   },
   "source": [
    "Last time, I explored the relationship between Jeopardy answers that were U.S. states and their values and appearance by year. I didn't find much of a relationship. Here, I want to investigate whether the frequency of a state's appearance is related to its *popularity*. I'm going to use wikipedia article word counts and wikipedia views as a way of quantifying popularity.\n",
    "\n",
    "Here's a reminder of the [Jeopardy data set](https://www.reddit.com/r/datasets/comments/1uyd0t/200000_jeopardy_questions_in_a_json_file/) \n",
    "\n",
    "File format:\n",
    "> The json file is an unordered list of questions where each question has\n",
    "\n",
    ">'category' : the question category, e.g. \"HISTORY\"\n",
    "\n",
    ">'value' : Dollar value of the question as string, e.g. \"$200\"\n",
    "Note: This is \"None\" for Final Jeopardy! and Tiebreaker questions\n",
    "\n",
    ">'question' : text of question\n",
    "Note: This sometimes contains hyperlinks and other things messy text such as when there's a picture or video question\n",
    "\n",
    ">'answer' : text of answer\n",
    "\n",
    ">'round' : one of \"Jeopardy!\",\"Double Jeopardy!\",\"Final Jeopardy!\" or \"Tiebreaker\"\n",
    "Note: Tiebreaker questions do happen but they're very rare (like once every 20 years)\n",
    "\n",
    ">'show_number' : string of show number, e.g '4680'\n",
    "\n",
    ">'air_date' : the show air date in format YYYY-MM-DD\n",
    "\n",
    "## Let's load in the data and limit the time period."
   ]
  },
  {
   "cell_type": "code",
   "execution_count": 1,
   "metadata": {
    "collapsed": false,
    "deletable": true,
    "editable": true
   },
   "outputs": [],
   "source": [
    "# This command allows plots to appear in the jupyter notebook.\n",
    "%matplotlib inline   \n",
    "import pandas as pd\n",
    "pd.set_option('max_colwidth', 300)  # Show more text in dataframe.\n",
    "# First import the pandas package and load the cleaned json file into a dataframe called df.\n",
    "df = pd.read_json('JEOPARDY_QUESTIONS1_cleaned.json')\n",
    "# Let's convert air_date to date/time, rather than a string.\n",
    "df['air_date'] = pd.to_datetime(df['air_date'], yearfirst= True)\n",
    "# Only consider data from well-sampled years.\n",
    "df = df[(df['air_date']>='2004-01-01') & (df['air_date']<='2011-12-31')]"
   ]
  },
  {
   "cell_type": "code",
   "execution_count": 2,
   "metadata": {
    "collapsed": false,
    "deletable": true,
    "editable": true
   },
   "outputs": [],
   "source": [
    "list_of_states = ['Alabama','Alaska','Arizona','Arkansas','California', \n",
    "                  'Colorado','Connecticut', 'Delaware', 'Florida','Georgia',\n",
    "                  'Hawaii','Idaho','Illinois','Indiana', 'Iowa', 'Kansas',\n",
    "                  'Kentucky', 'Louisiana', 'Maine', 'Maryland', 'Massachusetts',\n",
    "                  'Michigan','Minnesota','Mississippi', 'Missouri','Montana','Nebraska', \n",
    "                  'Nevada','New Hampshire', 'New Jersey','New Mexico', 'New York',\n",
    "                  'North Carolina', 'North Dakota','Ohio','Oklahoma', 'Oregon',\n",
    "                  'Pennsylvania', 'Rhode Island','South Carolina', 'South Dakota',\n",
    "                  'Tennessee','Texas','Utah','Vermont', 'Virginia', 'Washington', \n",
    "                  'West Virginia', 'Wisconsin', 'Wyoming']"
   ]
  },
  {
   "cell_type": "code",
   "execution_count": 3,
   "metadata": {
    "collapsed": false
   },
   "outputs": [
    {
     "data": {
      "text/html": [
       "<div>\n",
       "<table border=\"1\" class=\"dataframe\">\n",
       "  <thead>\n",
       "    <tr style=\"text-align: right;\">\n",
       "      <th></th>\n",
       "      <th>total_count</th>\n",
       "    </tr>\n",
       "  </thead>\n",
       "  <tbody>\n",
       "    <tr>\n",
       "      <th>California</th>\n",
       "      <td>92</td>\n",
       "    </tr>\n",
       "    <tr>\n",
       "      <th>Florida</th>\n",
       "      <td>81</td>\n",
       "    </tr>\n",
       "    <tr>\n",
       "      <th>Alaska</th>\n",
       "      <td>75</td>\n",
       "    </tr>\n",
       "    <tr>\n",
       "      <th>Hawaii</th>\n",
       "      <td>74</td>\n",
       "    </tr>\n",
       "    <tr>\n",
       "      <th>Texas</th>\n",
       "      <td>73</td>\n",
       "    </tr>\n",
       "  </tbody>\n",
       "</table>\n",
       "</div>"
      ],
      "text/plain": [
       "            total_count\n",
       "California           92\n",
       "Florida              81\n",
       "Alaska               75\n",
       "Hawaii               74\n",
       "Texas                73"
      ]
     },
     "execution_count": 3,
     "metadata": {},
     "output_type": "execute_result"
    }
   ],
   "source": [
    "# Create new dataframe with only states as answers.\n",
    "state_answers = df[df['answer'].isin(list_of_states)]\n",
    "count_state_answers = state_answers.answer.value_counts()\n",
    "state_data = pd.DataFrame(count_state_answers)\n",
    "state_data.columns = ['total_count']\n",
    "state_data.head()"
   ]
  },
  {
   "cell_type": "markdown",
   "metadata": {
    "deletable": true,
    "editable": true
   },
   "source": [
    "## Wikipedia article word counts don't trace Jeopardy popularity.\n",
    "In order to answer the question of why some states appear as Jeopardy answers more frequently than others I decided to use wikipedia as a proxy for popularity. I first tried looking into word counts on a state's wikipedia article. I was thinking that possibly state's that are more popular or more interesting will have longer articles written about them. Let's see what that shows."
   ]
  },
  {
   "cell_type": "markdown",
   "metadata": {
    "deletable": true,
    "editable": true
   },
   "source": [
    "To investigate wikipedia articles, I used a [python wrapper for the wikipedia API](https://wikipedia.readthedocs.io/en/latest/) using the command `pip install wikipedia` to install it."
   ]
  },
  {
   "cell_type": "code",
   "execution_count": 4,
   "metadata": {
    "collapsed": false,
    "deletable": true,
    "editable": true
   },
   "outputs": [
    {
     "name": "stdout",
     "output_type": "stream",
     "text": [
      "[u'California', u'California City, California', u'Baja California Peninsula', u'Northern California', u'Spanish missions in California', u'Governor of California', u'California Gold Rush', u'Outline of California', u'History of California', u'California English']\n"
     ]
    }
   ],
   "source": [
    "import wikipedia\n",
    "print wikipedia.search(\"California\")"
   ]
  },
  {
   "cell_type": "code",
   "execution_count": 5,
   "metadata": {
    "collapsed": false,
    "deletable": true,
    "editable": true
   },
   "outputs": [
    {
     "name": "stdout",
     "output_type": "stream",
     "text": [
      "California (/ˌkælᵻˈfɔːrnjə, -ni.ə/ KAL-ə-FORN-yə, KAL-ə-FORN-ee-ə) is the most populous state in the United States and the third most extensive by are\n"
     ]
    }
   ],
   "source": [
    "print wikipedia.summary(\"California\")[0:150]"
   ]
  },
  {
   "cell_type": "code",
   "execution_count": 6,
   "metadata": {
    "collapsed": false,
    "deletable": true,
    "editable": true
   },
   "outputs": [
    {
     "name": "stdout",
     "output_type": "stream",
     "text": [
      "[u'Georgia', u'Georgia (country)', u'University of Georgia', u'President of Georgia', u'Kingdom of Georgia', u'History of Georgia (country)', u'Georgia (U.S. state)', u'Province of Georgia', u'Georgia Dome', u'Georgia Southern\\u2013Georgia State rivalry']\n"
     ]
    }
   ],
   "source": [
    "print wikipedia.search(\"Georgia\")"
   ]
  },
  {
   "cell_type": "code",
   "execution_count": 7,
   "metadata": {
    "collapsed": false,
    "deletable": true,
    "editable": true
   },
   "outputs": [],
   "source": [
    "# The following line gives an error because of ambiguity between \n",
    "# Georgia-the U.S. state, Georgia-the country, and others.\n",
    "# print wikipedia.summary(\"Georgia\")[0:150]"
   ]
  },
  {
   "cell_type": "markdown",
   "metadata": {
    "deletable": true,
    "editable": true
   },
   "source": [
    "Georgia, Washington, New York will possibly an error. \n",
    "I used the [links to states on wikipedia](https://en.wikipedia.org/wiki/List_of_states_and_territories_of_the_United_States) to figure out which states could cause problems.\n",
    "    "
   ]
  },
  {
   "cell_type": "code",
   "execution_count": 8,
   "metadata": {
    "collapsed": true,
    "deletable": true,
    "editable": true
   },
   "outputs": [],
   "source": [
    "# Make a copy of the the original list of states and create a list `list_of_states_wiki` to use to search wikipedia.\n",
    "list_of_states_wiki = list(list_of_states)\n",
    "list_of_states_wiki.remove('Georgia')\n",
    "list_of_states_wiki.append('Georgia (U.S. state)')\n",
    "list_of_states_wiki.remove('New York')\n",
    "list_of_states_wiki.append('New York (state)')\n",
    "list_of_states_wiki.remove('Washington')\n",
    "list_of_states_wiki.append('Washington (state)')"
   ]
  },
  {
   "cell_type": "code",
   "execution_count": 9,
   "metadata": {
    "collapsed": false,
    "deletable": true,
    "editable": true
   },
   "outputs": [
    {
     "data": {
      "text/plain": [
       "['Alabama',\n",
       " 'Alaska',\n",
       " 'Arizona',\n",
       " 'Arkansas',\n",
       " 'California',\n",
       " 'Colorado',\n",
       " 'Connecticut',\n",
       " 'Delaware',\n",
       " 'Florida',\n",
       " 'Georgia (U.S. state)']"
      ]
     },
     "execution_count": 9,
     "metadata": {},
     "output_type": "execute_result"
    }
   ],
   "source": [
    "list_of_states_wiki.sort()\n",
    "list_of_states_wiki[0:10]"
   ]
  },
  {
   "cell_type": "code",
   "execution_count": 10,
   "metadata": {
    "collapsed": false,
    "deletable": true,
    "editable": true
   },
   "outputs": [
    {
     "name": "stdout",
     "output_type": "stream",
     "text": [
      "Check state: Hawaii\n"
     ]
    }
   ],
   "source": [
    "# Grab all wikipedia state articles and count the number of words in the article. \n",
    "# Make sure the word \"state\" is in the summary.\n",
    "state_summary = {}\n",
    "state_word_count = {}\n",
    "for state in list_of_states_wiki:\n",
    "    summary = wikipedia.summary(state)[0:200]\n",
    "    state_summary[state] = summary\n",
    "    if 'state' not in summary: print \"Check state:\", state\n",
    "    statepage = wikipedia.WikipediaPage(state)\n",
    "    state_word_count[state] = len(statepage.content.split(' '))"
   ]
  },
  {
   "cell_type": "code",
   "execution_count": 11,
   "metadata": {
    "collapsed": false,
    "deletable": true,
    "editable": true
   },
   "outputs": [
    {
     "name": "stdout",
     "output_type": "stream",
     "text": [
      "[u'Hawaii', u'Hawaii County, Hawaii', u'Flag of Hawaii', u'Territory of Hawaii', u'Hawaii (island)', u'Outline of Hawaii', u'Kingdom of Hawaii', u'Sugar plantations in Hawaii', u'University of Hawaii', u'Native Hawaiians']\n"
     ]
    }
   ],
   "source": [
    "# Something is wrong with Hawaii. \n",
    "print wikipedia.search(\"Hawaii\")"
   ]
  },
  {
   "cell_type": "code",
   "execution_count": 12,
   "metadata": {
    "collapsed": false,
    "deletable": true,
    "editable": true
   },
   "outputs": [
    {
     "name": "stdout",
     "output_type": "stream",
     "text": [
      "\n",
      "1\n"
     ]
    }
   ],
   "source": [
    "# Search seems fine. What about the summary and word count?\n",
    "print state_summary['Hawaii']\n",
    "print state_word_count['Hawaii']"
   ]
  },
  {
   "cell_type": "code",
   "execution_count": 13,
   "metadata": {
    "collapsed": false,
    "deletable": true,
    "editable": true
   },
   "outputs": [
    {
     "name": "stdout",
     "output_type": "stream",
     "text": [
      "Arizona (/ɛərᵻˈzoʊnə, ærᵻ-/) (Navajo: Hoozdo Hahoodzo [xòːztò xɑ̀xòːtsò]; O'odham: Alĭ ṣonak [ˡaɺi ˡʃonak]) is a state in the southwestern region of the United States. It is also part of the Western U\n",
      "9386\n"
     ]
    }
   ],
   "source": [
    "# Let's check another state to make sure other states are working ok.\n",
    "print state_summary['Arizona']\n",
    "print state_word_count['Arizona']"
   ]
  },
  {
   "cell_type": "markdown",
   "metadata": {
    "deletable": true,
    "editable": true
   },
   "source": [
    "Something is odd about Hawaii's wikipedia. I don't know enough about wikipedia formatting to figure this out. For now, I'll just enter Hawaii's word count by hand. "
   ]
  },
  {
   "cell_type": "code",
   "execution_count": 14,
   "metadata": {
    "collapsed": false,
    "deletable": true,
    "editable": true
   },
   "outputs": [],
   "source": [
    "state_word_count['Hawaii'] = 12878"
   ]
  },
  {
   "cell_type": "code",
   "execution_count": 15,
   "metadata": {
    "collapsed": false,
    "deletable": true,
    "editable": true
   },
   "outputs": [],
   "source": [
    "# Change state names back to original to combine with the `state_data` dataframe.\n",
    "state_word_count['Washington'] = state_word_count.pop(\"Washington (state)\")\n",
    "state_word_count['Georgia'] = state_word_count.pop(\"Georgia (U.S. state)\")\n",
    "state_word_count['New York'] = state_word_count.pop(\"New York (state)\")"
   ]
  },
  {
   "cell_type": "code",
   "execution_count": 16,
   "metadata": {
    "collapsed": true,
    "deletable": true,
    "editable": true
   },
   "outputs": [],
   "source": [
    "# Create new dataframe to combine with `state_data` dataframe.\n",
    "df_state_word_count = pd.DataFrame.from_dict(state_word_count, orient = 'index', dtype = float)\n",
    "df_state_word_count.columns = ['wiki_word_count']\n",
    "# Combine word counts to `state_data` dataframe.\n",
    "state_data = state_data.join(df_state_word_count, how = 'outer')"
   ]
  },
  {
   "cell_type": "markdown",
   "metadata": {
    "collapsed": false,
    "deletable": true,
    "editable": true
   },
   "source": [
    "Let's plot the number of words in a wikipedia article and the number of times a state has appeared on Jeopardy to see if there's a relationship."
   ]
  },
  {
   "cell_type": "code",
   "execution_count": 17,
   "metadata": {
    "collapsed": false,
    "deletable": true,
    "editable": true
   },
   "outputs": [
    {
     "data": {
      "image/png": "[encoded data removed]",
      "text/plain": [
       "<matplotlib.figure.Figure at 0x1315ed190>"
      ]
     },
     "metadata": {},
     "output_type": "display_data"
    }
   ],
   "source": [
    "state_data.plot(x = 'total_count', y = 'wiki_word_count', kind = 'scatter', ylim= (0, 16000));"
   ]
  },
  {
   "cell_type": "markdown",
   "metadata": {
    "collapsed": true,
    "deletable": true,
    "editable": true
   },
   "source": [
    "Hmmm... This is not as useful as I'd like it to be.  Low wikipedia word count articles seem to go with a low likelihood of appearing on Jeopardy. However, if an article has many words, it's difficult to determine how likely it is to appear on Jeopardy. In summary, don't study states with a low wikipedia article word count. "
   ]
  },
  {
   "cell_type": "markdown",
   "metadata": {},
   "source": [
    "## Wikipedia page views is a good tracer of Jeopardy popularity.\n",
    "Rather than wikipedia word count, perhaps an alternative indicator of popularity is *wikipedia page views*. Luckily there is [another python tool which uses wikipedia's API to get page views](https://github.com/mediawiki-utilities/python-mwviews\n",
    "). To install it, use `pip install mwviews`"
   ]
  },
  {
   "cell_type": "code",
   "execution_count": 18,
   "metadata": {
    "collapsed": true,
    "deletable": true,
    "editable": true
   },
   "outputs": [],
   "source": [
    "# Import the wikipedia tool\n",
    "from mwviews.api import PageviewsClient\n",
    "p = PageviewsClient()"
   ]
  },
  {
   "cell_type": "code",
   "execution_count": 19,
   "metadata": {
    "collapsed": false,
    "deletable": true,
    "editable": true
   },
   "outputs": [
    {
     "data": {
      "text/plain": [
       "[{u'article': u'Main_Page', u'rank': 1, u'views': 22740466},\n",
       " {u'article': u'Special:Search', u'rank': 2, u'views': 2196670},\n",
       " {u'article': u'Chuck_Berry', u'rank': 3, u'views': 912869},\n",
       " {u'article': u'Special:Book', u'rank': 4, u'views': 365141},\n",
       " {u'article': u'Iron_Fist_(comics)', u'rank': 5, u'views': 343979},\n",
       " {u'article': u'Yogi_Adityanath', u'rank': 6, u'views': 329172},\n",
       " {u'article': u'Iron_Fist_(TV_series)', u'rank': 7, u'views': 299507},\n",
       " {u'article': u'Beauty_and_the_Beast_(2017_film)',\n",
       "  u'rank': 8,\n",
       "  u'views': 282150},\n",
       " {u'article': u'More_Life', u'rank': 9, u'views': 241612},\n",
       " {u'article': u'Hans_Oster', u'rank': 10, u'views': 194937}]"
      ]
     },
     "execution_count": 19,
     "metadata": {},
     "output_type": "execute_result"
    }
   ],
   "source": [
    "# Here's a fun command that let's you track the current trends on wikipedia.\n",
    "# If you leave off year, month, and day, the returned result will be for `today`.\n",
    "p.top_articles('en.wikipedia', year = 2017, month = 03, day = 19, limit=10)"
   ]
  },
  {
   "cell_type": "markdown",
   "metadata": {
    "collapsed": false,
    "deletable": true,
    "editable": true
   },
   "source": [
    "Since I found in my previous post that the distribution of state appearances doesn't seem to vary much from year to year, I'll use the most recent year, 2016, to look at the page views on wikipedia over the course of a year."
   ]
  },
  {
   "cell_type": "code",
   "execution_count": 20,
   "metadata": {
    "collapsed": false,
    "deletable": true,
    "editable": true
   },
   "outputs": [
    {
     "data": {
      "text/plain": [
       "{datetime.datetime(2016, 1, 1, 0, 0): {'Arizona': 131409},\n",
       " datetime.datetime(2016, 2, 1, 0, 0): {'Arizona': 125917},\n",
       " datetime.datetime(2016, 3, 1, 0, 0): {'Arizona': 151741},\n",
       " datetime.datetime(2016, 4, 1, 0, 0): {'Arizona': 174710},\n",
       " datetime.datetime(2016, 5, 1, 0, 0): {'Arizona': 123279},\n",
       " datetime.datetime(2016, 6, 1, 0, 0): {'Arizona': 112169},\n",
       " datetime.datetime(2016, 7, 1, 0, 0): {'Arizona': 101361},\n",
       " datetime.datetime(2016, 8, 1, 0, 0): {'Arizona': 106251},\n",
       " datetime.datetime(2016, 9, 1, 0, 0): {'Arizona': 112453},\n",
       " datetime.datetime(2016, 10, 1, 0, 0): {'Arizona': 120101},\n",
       " datetime.datetime(2016, 11, 1, 0, 0): {'Arizona': 137877},\n",
       " datetime.datetime(2016, 12, 1, 0, 0): {'Arizona': 114489}}"
      ]
     },
     "execution_count": 20,
     "metadata": {},
     "output_type": "execute_result"
    }
   ],
   "source": [
    "# Here are the results for Arizona for 2016. \n",
    "p.article_views('en.wikipedia', ['Arizona'], \n",
    "                granularity='monthly', start='2016010100', end='2016123100')"
   ]
  },
  {
   "cell_type": "code",
   "execution_count": 21,
   "metadata": {
    "collapsed": false,
    "deletable": true,
    "editable": true
   },
   "outputs": [],
   "source": [
    "# The wikipedia tool doesn't automatically calculate page views annually. \n",
    "# Instead I'll just sum up the data for each month to get the results for a year.\n",
    "state_views = {}\n",
    "for state in list_of_states_wiki:\n",
    "    views = p.article_views('en.wikipedia', [state], \n",
    "                        granularity='monthly', start='2016010100', end='2016123100')\n",
    "    total_views = 0\n",
    "    for view in views:\n",
    "        key_state_name = views[view].keys()\n",
    "        total_views +=views[view][key_state_name[0]]\n",
    "    state_views[state] = total_views"
   ]
  },
  {
   "cell_type": "code",
   "execution_count": 22,
   "metadata": {
    "collapsed": false,
    "deletable": true,
    "editable": true
   },
   "outputs": [],
   "source": [
    "# Combine new state view data into state_data dataframe.\n",
    "state_views['Washington'] = state_views.pop(\"Washington (state)\")\n",
    "state_views['Georgia'] = state_views.pop(\"Georgia (U.S. state)\")\n",
    "state_views['New York'] = state_views.pop(\"New York (state)\")\n",
    "df_state_views = pd.DataFrame.from_dict(state_views, orient = 'index', dtype = float)\n",
    "df_state_views.columns = ['wiki_views']\n",
    "state_data = state_data.join(df_state_views, how = 'outer')"
   ]
  },
  {
   "cell_type": "code",
   "execution_count": 23,
   "metadata": {
    "collapsed": false,
    "deletable": true,
    "editable": true
   },
   "outputs": [
    {
     "data": {
      "text/html": [
       "<div>\n",
       "<table border=\"1\" class=\"dataframe\">\n",
       "  <thead>\n",
       "    <tr style=\"text-align: right;\">\n",
       "      <th></th>\n",
       "      <th>total_count</th>\n",
       "      <th>wiki_word_count</th>\n",
       "      <th>wiki_views</th>\n",
       "    </tr>\n",
       "  </thead>\n",
       "  <tbody>\n",
       "    <tr>\n",
       "      <th>Alabama</th>\n",
       "      <td>32</td>\n",
       "      <td>11158.0</td>\n",
       "      <td>1340664.0</td>\n",
       "    </tr>\n",
       "    <tr>\n",
       "      <th>Alaska</th>\n",
       "      <td>75</td>\n",
       "      <td>10073.0</td>\n",
       "      <td>2631738.0</td>\n",
       "    </tr>\n",
       "    <tr>\n",
       "      <th>Arizona</th>\n",
       "      <td>44</td>\n",
       "      <td>9386.0</td>\n",
       "      <td>1511757.0</td>\n",
       "    </tr>\n",
       "    <tr>\n",
       "      <th>Arkansas</th>\n",
       "      <td>20</td>\n",
       "      <td>8570.0</td>\n",
       "      <td>1050623.0</td>\n",
       "    </tr>\n",
       "    <tr>\n",
       "      <th>California</th>\n",
       "      <td>92</td>\n",
       "      <td>11159.0</td>\n",
       "      <td>4985559.0</td>\n",
       "    </tr>\n",
       "  </tbody>\n",
       "</table>\n",
       "</div>"
      ],
      "text/plain": [
       "            total_count  wiki_word_count  wiki_views\n",
       "Alabama              32          11158.0   1340664.0\n",
       "Alaska               75          10073.0   2631738.0\n",
       "Arizona              44           9386.0   1511757.0\n",
       "Arkansas             20           8570.0   1050623.0\n",
       "California           92          11159.0   4985559.0"
      ]
     },
     "execution_count": 23,
     "metadata": {},
     "output_type": "execute_result"
    }
   ],
   "source": [
    "state_data.head()"
   ]
  },
  {
   "cell_type": "code",
   "execution_count": 24,
   "metadata": {
    "collapsed": false,
    "deletable": true,
    "editable": true,
    "scrolled": false
   },
   "outputs": [
    {
     "data": {
      "image/png": "[encoded data removed]",
      "text/plain": [
       "<matplotlib.figure.Figure at 0x1315edf50>"
      ]
     },
     "metadata": {},
     "output_type": "display_data"
    }
   ],
   "source": [
    "state_data.plot(x = 'total_count', y = 'wiki_views', kind = 'scatter');"
   ]
  },
  {
   "cell_type": "markdown",
   "metadata": {},
   "source": [
    "Oooooh!  Look at that trend! Popular states on wikipedia searches are also popular states on Jeopardy!"
   ]
  },
  {
   "cell_type": "code",
   "execution_count": 41,
   "metadata": {
    "collapsed": false
   },
   "outputs": [
    {
     "data": {
      "text/html": [
       "<div>\n",
       "<table border=\"1\" class=\"dataframe\">\n",
       "  <thead>\n",
       "    <tr style=\"text-align: right;\">\n",
       "      <th></th>\n",
       "      <th>total_count</th>\n",
       "      <th>wiki_word_count</th>\n",
       "      <th>wiki_views</th>\n",
       "    </tr>\n",
       "  </thead>\n",
       "  <tbody>\n",
       "    <tr>\n",
       "      <th>total_count</th>\n",
       "      <td>1.000000</td>\n",
       "      <td>0.358394</td>\n",
       "      <td>0.821448</td>\n",
       "    </tr>\n",
       "    <tr>\n",
       "      <th>wiki_word_count</th>\n",
       "      <td>0.358394</td>\n",
       "      <td>1.000000</td>\n",
       "      <td>0.350184</td>\n",
       "    </tr>\n",
       "    <tr>\n",
       "      <th>wiki_views</th>\n",
       "      <td>0.821448</td>\n",
       "      <td>0.350184</td>\n",
       "      <td>1.000000</td>\n",
       "    </tr>\n",
       "  </tbody>\n",
       "</table>\n",
       "</div>"
      ],
      "text/plain": [
       "                 total_count  wiki_word_count  wiki_views\n",
       "total_count         1.000000         0.358394    0.821448\n",
       "wiki_word_count     0.358394         1.000000    0.350184\n",
       "wiki_views          0.821448         0.350184    1.000000"
      ]
     },
     "execution_count": 41,
     "metadata": {},
     "output_type": "execute_result"
    }
   ],
   "source": [
    "# Check with with the a correlation matrix as well.\n",
    "state_data.ix[:,state_data.columns].corr()"
   ]
  },
  {
   "cell_type": "markdown",
   "metadata": {},
   "source": [
    "Looks good. Remember that the closer the number is to +1, the more positively correlated the two variables are.\n",
    "\n",
    "However, looking back at the plot, there is an odd outlier. Let's take a look at that next."
   ]
  },
  {
   "cell_type": "markdown",
   "metadata": {},
   "source": [
    "## New York City or New York State?\n",
    "\n",
    "What is that odd outlier located at `total_count` of about 70 and `wiki_views` under 1,000,000? It looks like its `total_count` value should be at least 30, or 40 less than it currently is."
   ]
  },
  {
   "cell_type": "code",
   "execution_count": 25,
   "metadata": {
    "collapsed": false,
    "deletable": true,
    "editable": true
   },
   "outputs": [
    {
     "data": {
      "text/html": [
       "<div>\n",
       "<table border=\"1\" class=\"dataframe\">\n",
       "  <thead>\n",
       "    <tr style=\"text-align: right;\">\n",
       "      <th></th>\n",
       "      <th>total_count</th>\n",
       "      <th>wiki_word_count</th>\n",
       "      <th>wiki_views</th>\n",
       "    </tr>\n",
       "  </thead>\n",
       "  <tbody>\n",
       "    <tr>\n",
       "      <th>New York</th>\n",
       "      <td>70</td>\n",
       "      <td>10338.0</td>\n",
       "      <td>613533.0</td>\n",
       "    </tr>\n",
       "  </tbody>\n",
       "</table>\n",
       "</div>"
      ],
      "text/plain": [
       "          total_count  wiki_word_count  wiki_views\n",
       "New York           70          10338.0    613533.0"
      ]
     },
     "execution_count": 25,
     "metadata": {},
     "output_type": "execute_result"
    }
   ],
   "source": [
    "# What is that outlier with total_count > 60, but wiki_views <1,000,000\n",
    "state_data[(state_data['total_count']>60) & (state_data['wiki_views']<1000000)]"
   ]
  },
  {
   "cell_type": "markdown",
   "metadata": {
    "deletable": true,
    "editable": true
   },
   "source": [
    "Hmmm.... that's odd. I wonder if the fact that \"New York\" can sometimes refer to the city or the state is the reason it is an outlier.  (The proper name for the city is [\"City of New York\"](https://en.wikipedia.org/wiki/New_York_City).) Let's see if Jeopardy sometimes uses an answer of \"New York\" when asking about the city. Are there around 40 of these questions where the answer is really about the city of New York?"
   ]
  },
  {
   "cell_type": "code",
   "execution_count": 26,
   "metadata": {
    "collapsed": false,
    "deletable": true,
    "editable": true
   },
   "outputs": [
    {
     "data": {
      "text/html": [
       "<div>\n",
       "<table border=\"1\" class=\"dataframe\">\n",
       "  <thead>\n",
       "    <tr style=\"text-align: right;\">\n",
       "      <th></th>\n",
       "      <th>air_date</th>\n",
       "      <th>answer</th>\n",
       "      <th>category</th>\n",
       "      <th>question</th>\n",
       "      <th>round</th>\n",
       "      <th>show_number</th>\n",
       "      <th>value</th>\n",
       "    </tr>\n",
       "  </thead>\n",
       "  <tbody>\n",
       "    <tr>\n",
       "      <th>10777</th>\n",
       "      <td>2008-04-08</td>\n",
       "      <td>New York</td>\n",
       "      <td>A HOST OF GHOSTS</td>\n",
       "      <td>The ghost of impresario David Belasco is said to haunt the theatre named for him on West 44th St. in this city</td>\n",
       "      <td>Jeopardy!</td>\n",
       "      <td>5437</td>\n",
       "      <td>400.0</td>\n",
       "    </tr>\n",
       "    <tr>\n",
       "      <th>130911</th>\n",
       "      <td>2005-05-11</td>\n",
       "      <td>New York</td>\n",
       "      <td>PRESIDENTS</td>\n",
       "      <td>In April 1789 Washington left Mount Vernon, going to this city to head the new governent</td>\n",
       "      <td>Jeopardy!</td>\n",
       "      <td>4773</td>\n",
       "      <td>200.0</td>\n",
       "    </tr>\n",
       "    <tr>\n",
       "      <th>148356</th>\n",
       "      <td>2010-04-27</td>\n",
       "      <td>New York</td>\n",
       "      <td>ZOMBIELAND</td>\n",
       "      <td>&amp; they thought alligators were bad!  In 1984's \"C.H.U.D.\" zombies haunt this city's sewer system</td>\n",
       "      <td>Jeopardy!</td>\n",
       "      <td>5907</td>\n",
       "      <td>400.0</td>\n",
       "    </tr>\n",
       "    <tr>\n",
       "      <th>150545</th>\n",
       "      <td>2008-12-04</td>\n",
       "      <td>New York</td>\n",
       "      <td>STREETCAR</td>\n",
       "      <td>Beginning service in 1832, this city's first streetcar ran along Bowery Street</td>\n",
       "      <td>Jeopardy!</td>\n",
       "      <td>5579</td>\n",
       "      <td>600.0</td>\n",
       "    </tr>\n",
       "    <tr>\n",
       "      <th>161170</th>\n",
       "      <td>2006-07-03</td>\n",
       "      <td>New York</td>\n",
       "      <td>THE U.S. CENSUS</td>\n",
       "      <td>This city has the largest Hispanic, Asian &amp; African-American populations in the U.S.</td>\n",
       "      <td>Double Jeopardy!</td>\n",
       "      <td>5036</td>\n",
       "      <td>400.0</td>\n",
       "    </tr>\n",
       "    <tr>\n",
       "      <th>204556</th>\n",
       "      <td>2011-10-20</td>\n",
       "      <td>New York</td>\n",
       "      <td>ACTING HURT</td>\n",
       "      <td>John Hurt reprised the role of Quentin Crisp for 2009's \"An Englishman in\" this U.S. city</td>\n",
       "      <td>Double Jeopardy!</td>\n",
       "      <td>6229</td>\n",
       "      <td>1600.0</td>\n",
       "    </tr>\n",
       "    <tr>\n",
       "      <th>207097</th>\n",
       "      <td>2011-12-28</td>\n",
       "      <td>New York</td>\n",
       "      <td>UNCOMMON BONDS</td>\n",
       "      <td>J. Max Bond Jr., who helped design the National September 11 Memorial, was a 1980-86 member of this city's Planning Commission</td>\n",
       "      <td>Jeopardy!</td>\n",
       "      <td>6278</td>\n",
       "      <td>200.0</td>\n",
       "    </tr>\n",
       "    <tr>\n",
       "      <th>208353</th>\n",
       "      <td>2006-11-15</td>\n",
       "      <td>New York</td>\n",
       "      <td>AROUND THE U.S.A.</td>\n",
       "      <td>\"I love\" this city, America's biggest metropolis--doesn't everyone?</td>\n",
       "      <td>Jeopardy!</td>\n",
       "      <td>5103</td>\n",
       "      <td>400.0</td>\n",
       "    </tr>\n",
       "    <tr>\n",
       "      <th>42784</th>\n",
       "      <td>2010-03-29</td>\n",
       "      <td>New York</td>\n",
       "      <td>MIDDLE INITIAL V.</td>\n",
       "      <td>John V. Lindsay was mayor of this city in the turbulent '60s &amp; '70s, first as a Republican &amp; then as a Democrat</td>\n",
       "      <td>Jeopardy!</td>\n",
       "      <td>5886</td>\n",
       "      <td>200.0</td>\n",
       "    </tr>\n",
       "    <tr>\n",
       "      <th>45134</th>\n",
       "      <td>2011-06-01</td>\n",
       "      <td>New York</td>\n",
       "      <td>HAY IS</td>\n",
       "      <td>...The middle name of Jock Whitney, millionaire art collector &amp; publisher of this city's Herald Tribune</td>\n",
       "      <td>Double Jeopardy!</td>\n",
       "      <td>6163</td>\n",
       "      <td>400.0</td>\n",
       "    </tr>\n",
       "    <tr>\n",
       "      <th>45161</th>\n",
       "      <td>2010-11-24</td>\n",
       "      <td>New York</td>\n",
       "      <td>BRIGHT LIGHTS, BIG CITY</td>\n",
       "      <td>This city is the brightest area along the East Coast</td>\n",
       "      <td>Jeopardy!</td>\n",
       "      <td>6028</td>\n",
       "      <td>200.0</td>\n",
       "    </tr>\n",
       "    <tr>\n",
       "      <th>64517</th>\n",
       "      <td>2005-06-14</td>\n",
       "      <td>New York</td>\n",
       "      <td>THE FUN '40s</td>\n",
       "      <td>(Sarah of the Clue Crew delivers the clue from beside a Blue Angels plane.)  During a visit to this city in 1946 the Blue Angels took their name from a nightclub found there</td>\n",
       "      <td>Jeopardy!</td>\n",
       "      <td>4797</td>\n",
       "      <td>400.0</td>\n",
       "    </tr>\n",
       "  </tbody>\n",
       "</table>\n",
       "</div>"
      ],
      "text/plain": [
       "         air_date    answer                 category  \\\n",
       "10777  2008-04-08  New York         A HOST OF GHOSTS   \n",
       "130911 2005-05-11  New York               PRESIDENTS   \n",
       "148356 2010-04-27  New York               ZOMBIELAND   \n",
       "150545 2008-12-04  New York                STREETCAR   \n",
       "161170 2006-07-03  New York          THE U.S. CENSUS   \n",
       "204556 2011-10-20  New York              ACTING HURT   \n",
       "207097 2011-12-28  New York           UNCOMMON BONDS   \n",
       "208353 2006-11-15  New York        AROUND THE U.S.A.   \n",
       "42784  2010-03-29  New York        MIDDLE INITIAL V.   \n",
       "45134  2011-06-01  New York                   HAY IS   \n",
       "45161  2010-11-24  New York  BRIGHT LIGHTS, BIG CITY   \n",
       "64517  2005-06-14  New York             THE FUN '40s   \n",
       "\n",
       "                                                                                                                                                                             question  \\\n",
       "10777                                                                  The ghost of impresario David Belasco is said to haunt the theatre named for him on West 44th St. in this city   \n",
       "130911                                                                                       In April 1789 Washington left Mount Vernon, going to this city to head the new governent   \n",
       "148356                                                                               & they thought alligators were bad!  In 1984's \"C.H.U.D.\" zombies haunt this city's sewer system   \n",
       "150545                                                                                                 Beginning service in 1832, this city's first streetcar ran along Bowery Street   \n",
       "161170                                                                                           This city has the largest Hispanic, Asian & African-American populations in the U.S.   \n",
       "204556                                                                                      John Hurt reprised the role of Quentin Crisp for 2009's \"An Englishman in\" this U.S. city   \n",
       "207097                                                 J. Max Bond Jr., who helped design the National September 11 Memorial, was a 1980-86 member of this city's Planning Commission   \n",
       "208353                                                                                                            \"I love\" this city, America's biggest metropolis--doesn't everyone?   \n",
       "42784                                                                 John V. Lindsay was mayor of this city in the turbulent '60s & '70s, first as a Republican & then as a Democrat   \n",
       "45134                                                                         ...The middle name of Jock Whitney, millionaire art collector & publisher of this city's Herald Tribune   \n",
       "45161                                                                                                                            This city is the brightest area along the East Coast   \n",
       "64517   (Sarah of the Clue Crew delivers the clue from beside a Blue Angels plane.)  During a visit to this city in 1946 the Blue Angels took their name from a nightclub found there   \n",
       "\n",
       "                   round  show_number   value  \n",
       "10777          Jeopardy!         5437   400.0  \n",
       "130911         Jeopardy!         4773   200.0  \n",
       "148356         Jeopardy!         5907   400.0  \n",
       "150545         Jeopardy!         5579   600.0  \n",
       "161170  Double Jeopardy!         5036   400.0  \n",
       "204556  Double Jeopardy!         6229  1600.0  \n",
       "207097         Jeopardy!         6278   200.0  \n",
       "208353         Jeopardy!         5103   400.0  \n",
       "42784          Jeopardy!         5886   200.0  \n",
       "45134   Double Jeopardy!         6163   400.0  \n",
       "45161          Jeopardy!         6028   200.0  \n",
       "64517          Jeopardy!         4797   400.0  "
      ]
     },
     "execution_count": 26,
     "metadata": {},
     "output_type": "execute_result"
    }
   ],
   "source": [
    "# Find answers that are \"New York\" when the question contains the word \"city.\"\n",
    "df[(df['answer']=='New York') & (df['question'].str.contains('city'))]"
   ]
  },
  {
   "cell_type": "code",
   "execution_count": 27,
   "metadata": {
    "collapsed": false,
    "deletable": true,
    "editable": true
   },
   "outputs": [
    {
     "data": {
      "text/plain": [
       "12"
      ]
     },
     "execution_count": 27,
     "metadata": {},
     "output_type": "execute_result"
    }
   ],
   "source": [
    "# Aha! So some New York city answers did sneak into my state-only dataframe. How many?\n",
    "df[(df['answer']=='New York') & (df['question'].str.contains('city'))]['question'].count()"
   ]
  },
  {
   "cell_type": "markdown",
   "metadata": {
    "deletable": true,
    "editable": true
   },
   "source": [
    "I'm not sure that's enough. I need about 28 more to reach my goal of 40 extra questions.\n",
    "\n",
    "Let's take a look in detail at some of the New York questions. Which questions have \"New York\" as the answer but don't mention \"city\" or \"state\" in the question?"
   ]
  },
  {
   "cell_type": "code",
   "execution_count": 28,
   "metadata": {
    "collapsed": false,
    "deletable": true,
    "editable": true
   },
   "outputs": [
    {
     "data": {
      "text/html": [
       "<div>\n",
       "<table border=\"1\" class=\"dataframe\">\n",
       "  <thead>\n",
       "    <tr style=\"text-align: right;\">\n",
       "      <th></th>\n",
       "      <th>air_date</th>\n",
       "      <th>answer</th>\n",
       "      <th>category</th>\n",
       "      <th>question</th>\n",
       "      <th>round</th>\n",
       "      <th>show_number</th>\n",
       "      <th>value</th>\n",
       "    </tr>\n",
       "  </thead>\n",
       "  <tbody>\n",
       "    <tr>\n",
       "      <th>102164</th>\n",
       "      <td>2004-04-16</td>\n",
       "      <td>New York</td>\n",
       "      <td>QUARTER BACKS</td>\n",
       "      <td>A gift from France unveiled in 1886</td>\n",
       "      <td>Jeopardy!</td>\n",
       "      <td>4525</td>\n",
       "      <td>400.0</td>\n",
       "    </tr>\n",
       "    <tr>\n",
       "      <th>11265</th>\n",
       "      <td>2005-01-26</td>\n",
       "      <td>New York</td>\n",
       "      <td>STATE THE COLLEGE TEAM</td>\n",
       "      <td>Black Knights,Orangemen</td>\n",
       "      <td>Jeopardy!</td>\n",
       "      <td>4698</td>\n",
       "      <td>800.0</td>\n",
       "    </tr>\n",
       "    <tr>\n",
       "      <th>121918</th>\n",
       "      <td>2011-06-09</td>\n",
       "      <td>New York</td>\n",
       "      <td>STATE SONGS?</td>\n",
       "      <td>Billy Joel: \"____ State Of Mind\"</td>\n",
       "      <td>Jeopardy!</td>\n",
       "      <td>6169</td>\n",
       "      <td>400.0</td>\n",
       "    </tr>\n",
       "    <tr>\n",
       "      <th>123189</th>\n",
       "      <td>2009-05-27</td>\n",
       "      <td>New York</td>\n",
       "      <td>STATES' GEOGRAPHIC CENTERS</td>\n",
       "      <td>12 miles south of Oneida &amp; 26 miles southwest of Utica</td>\n",
       "      <td>Jeopardy!</td>\n",
       "      <td>5703</td>\n",
       "      <td>800.0</td>\n",
       "    </tr>\n",
       "    <tr>\n",
       "      <th>126630</th>\n",
       "      <td>2009-02-20</td>\n",
       "      <td>New York</td>\n",
       "      <td>HOME BOYS</td>\n",
       "      <td>Knickerbockers</td>\n",
       "      <td>Double Jeopardy!</td>\n",
       "      <td>5635</td>\n",
       "      <td>800.0</td>\n",
       "    </tr>\n",
       "    <tr>\n",
       "      <th>131466</th>\n",
       "      <td>2006-04-04</td>\n",
       "      <td>New York</td>\n",
       "      <td>GEOGRAPHIC CINEMA</td>\n",
       "      <td>1931:\"Sidewalks of ___\"</td>\n",
       "      <td>Jeopardy!</td>\n",
       "      <td>4972</td>\n",
       "      <td>800.0</td>\n",
       "    </tr>\n",
       "    <tr>\n",
       "      <th>139200</th>\n",
       "      <td>2011-02-23</td>\n",
       "      <td>New York</td>\n",
       "      <td>THE 13 COLONIES</td>\n",
       "      <td>Under the Treaty of Breda, the Dutch gave up New Netherland to the British, who renamed it this in 1664</td>\n",
       "      <td>Double Jeopardy!</td>\n",
       "      <td>6093</td>\n",
       "      <td>400.0</td>\n",
       "    </tr>\n",
       "    <tr>\n",
       "      <th>141264</th>\n",
       "      <td>2004-04-29</td>\n",
       "      <td>New York</td>\n",
       "      <td>STATE MOTTOES</td>\n",
       "      <td>\"Excelsior\" (\"Ever Upward\")</td>\n",
       "      <td>Jeopardy!</td>\n",
       "      <td>4534</td>\n",
       "      <td>800.0</td>\n",
       "    </tr>\n",
       "    <tr>\n",
       "      <th>146113</th>\n",
       "      <td>2006-03-28</td>\n",
       "      <td>New York</td>\n",
       "      <td>GODZILLA</td>\n",
       "      <td>Apparently bored with his old conquests, in the 1998 version, Godzilla is intent on destroying this metropolis</td>\n",
       "      <td>Double Jeopardy!</td>\n",
       "      <td>4967</td>\n",
       "      <td>800.0</td>\n",
       "    </tr>\n",
       "    <tr>\n",
       "      <th>147556</th>\n",
       "      <td>2011-03-03</td>\n",
       "      <td>New York</td>\n",
       "      <td>TV CITY SETTINGS</td>\n",
       "      <td>\"Castle\"</td>\n",
       "      <td>Double Jeopardy!</td>\n",
       "      <td>6099</td>\n",
       "      <td>1600.0</td>\n",
       "    </tr>\n",
       "    <tr>\n",
       "      <th>15213</th>\n",
       "      <td>2008-02-27</td>\n",
       "      <td>New York</td>\n",
       "      <td>EARLY AMERICA</td>\n",
       "      <td>The British took New Netherland &amp; New Amsterdam from the Dutch in 1664 &amp; renamed them both this</td>\n",
       "      <td>Jeopardy!</td>\n",
       "      <td>5408</td>\n",
       "      <td>200.0</td>\n",
       "    </tr>\n",
       "    <tr>\n",
       "      <th>152854</th>\n",
       "      <td>2011-05-03</td>\n",
       "      <td>New York</td>\n",
       "      <td>HERE LIES...</td>\n",
       "      <td>Boss Tweed</td>\n",
       "      <td>Double Jeopardy!</td>\n",
       "      <td>6142</td>\n",
       "      <td>1200.0</td>\n",
       "    </tr>\n",
       "    <tr>\n",
       "      <th>160620</th>\n",
       "      <td>2006-12-18</td>\n",
       "      <td>New York</td>\n",
       "      <td>'ALLO, GOVERNOR</td>\n",
       "      <td>In office from 1995:George Pataki</td>\n",
       "      <td>Double Jeopardy!</td>\n",
       "      <td>5126</td>\n",
       "      <td>400.0</td>\n",
       "    </tr>\n",
       "    <tr>\n",
       "      <th>18477</th>\n",
       "      <td>2006-07-25</td>\n",
       "      <td>New York</td>\n",
       "      <td>DO YOU HAVE A RESERVATION?</td>\n",
       "      <td>Oneida &amp; St. Regis Mohawk</td>\n",
       "      <td>Double Jeopardy!</td>\n",
       "      <td>5052</td>\n",
       "      <td>800.0</td>\n",
       "    </tr>\n",
       "    <tr>\n",
       "      <th>192035</th>\n",
       "      <td>2011-12-06</td>\n",
       "      <td>New York</td>\n",
       "      <td>THE STORY OF O. HENRY</td>\n",
       "      <td>In 1910 O. Henry died in this \"Bagdad on the Subway\", the setting for many of his stories</td>\n",
       "      <td>Double Jeopardy!</td>\n",
       "      <td>6262</td>\n",
       "      <td>2000.0</td>\n",
       "    </tr>\n",
       "    <tr>\n",
       "      <th>194159</th>\n",
       "      <td>2007-01-31</td>\n",
       "      <td>New York</td>\n",
       "      <td>PRESIDENTIAL HITCHING POSTS</td>\n",
       "      <td>Martin &amp; Hannah Van Buren, on Feb. 21, 1807</td>\n",
       "      <td>Double Jeopardy!</td>\n",
       "      <td>5158</td>\n",
       "      <td>2000.0</td>\n",
       "    </tr>\n",
       "    <tr>\n",
       "      <th>195140</th>\n",
       "      <td>2010-05-27</td>\n",
       "      <td>New York</td>\n",
       "      <td>STATES' FORMER GOVERNORS</td>\n",
       "      <td>Thomas Dewey, 1943-1954</td>\n",
       "      <td>Jeopardy!</td>\n",
       "      <td>5929</td>\n",
       "      <td>1000.0</td>\n",
       "    </tr>\n",
       "    <tr>\n",
       "      <th>203523</th>\n",
       "      <td>2011-11-28</td>\n",
       "      <td>New York</td>\n",
       "      <td>A TALE OF ONE CITY</td>\n",
       "      <td>Jay McInerney's \"Bright Lights, Big City\"</td>\n",
       "      <td>Double Jeopardy!</td>\n",
       "      <td>6256</td>\n",
       "      <td>800.0</td>\n",
       "    </tr>\n",
       "    <tr>\n",
       "      <th>209051</th>\n",
       "      <td>2006-04-20</td>\n",
       "      <td>New York</td>\n",
       "      <td>STATE OF THE U.S. REPRESENTATIVE</td>\n",
       "      <td>Charles Rangel,Sherwood Boehlert,Carolyn McCarthy</td>\n",
       "      <td>Double Jeopardy!</td>\n",
       "      <td>4984</td>\n",
       "      <td>2000.0</td>\n",
       "    </tr>\n",
       "    <tr>\n",
       "      <th>22074</th>\n",
       "      <td>2011-04-29</td>\n",
       "      <td>New York</td>\n",
       "      <td>STATE PARKS</td>\n",
       "      <td>Catskill State Park</td>\n",
       "      <td>Jeopardy!</td>\n",
       "      <td>6140</td>\n",
       "      <td>200.0</td>\n",
       "    </tr>\n",
       "    <tr>\n",
       "      <th>22289</th>\n",
       "      <td>2010-06-24</td>\n",
       "      <td>New York</td>\n",
       "      <td>STATE THE STATE OF THE GOVERNOR</td>\n",
       "      <td>David Paterson</td>\n",
       "      <td>Double Jeopardy!</td>\n",
       "      <td>5949</td>\n",
       "      <td>400.0</td>\n",
       "    </tr>\n",
       "    <tr>\n",
       "      <th>23742</th>\n",
       "      <td>2010-07-20</td>\n",
       "      <td>New York</td>\n",
       "      <td>STATE LAKES</td>\n",
       "      <td>Lake Peekskill</td>\n",
       "      <td>Double Jeopardy!</td>\n",
       "      <td>5967</td>\n",
       "      <td>2000.0</td>\n",
       "    </tr>\n",
       "    <tr>\n",
       "      <th>36753</th>\n",
       "      <td>2004-05-28</td>\n",
       "      <td>New York</td>\n",
       "      <td>STATES' MEN</td>\n",
       "      <td>Jerry Seinfeld &amp;Jerry Stiller</td>\n",
       "      <td>Jeopardy!</td>\n",
       "      <td>4555</td>\n",
       "      <td>200.0</td>\n",
       "    </tr>\n",
       "    <tr>\n",
       "      <th>4565</th>\n",
       "      <td>2008-07-22</td>\n",
       "      <td>New York</td>\n",
       "      <td>NEBRASKA, NEW YORK OR NORTH DAKOTA</td>\n",
       "      <td>Its name does not have a Native American origin</td>\n",
       "      <td>Jeopardy!</td>\n",
       "      <td>5512</td>\n",
       "      <td>400.0</td>\n",
       "    </tr>\n",
       "    <tr>\n",
       "      <th>46877</th>\n",
       "      <td>2009-05-12</td>\n",
       "      <td>New York</td>\n",
       "      <td>CITIES' NEWER NAMES</td>\n",
       "      <td>New Amsterdam</td>\n",
       "      <td>Jeopardy!</td>\n",
       "      <td>5692</td>\n",
       "      <td>600.0</td>\n",
       "    </tr>\n",
       "    <tr>\n",
       "      <th>47873</th>\n",
       "      <td>2011-04-21</td>\n",
       "      <td>New York</td>\n",
       "      <td>STATE / PRISON</td>\n",
       "      <td>Attica! &amp; Southport Correctional Facility!</td>\n",
       "      <td>Jeopardy!</td>\n",
       "      <td>6134</td>\n",
       "      <td>200.0</td>\n",
       "    </tr>\n",
       "    <tr>\n",
       "      <th>47935</th>\n",
       "      <td>2007-01-23</td>\n",
       "      <td>New York</td>\n",
       "      <td>THE LARGEST U.S. STATE</td>\n",
       "      <td>New Jersey,New Hampshire,New York</td>\n",
       "      <td>Jeopardy!</td>\n",
       "      <td>5152</td>\n",
       "      <td>200.0</td>\n",
       "    </tr>\n",
       "    <tr>\n",
       "      <th>54652</th>\n",
       "      <td>2009-09-14</td>\n",
       "      <td>New York</td>\n",
       "      <td>STATES' FORMER CAPITALS</td>\n",
       "      <td>Poughkeepsie</td>\n",
       "      <td>Jeopardy!</td>\n",
       "      <td>5746</td>\n",
       "      <td>800.0</td>\n",
       "    </tr>\n",
       "    <tr>\n",
       "      <th>57123</th>\n",
       "      <td>2005-06-09</td>\n",
       "      <td>New York</td>\n",
       "      <td>NASCAR GEOGRAPHY</td>\n",
       "      <td>Watkins Glen International</td>\n",
       "      <td>Jeopardy!</td>\n",
       "      <td>4794</td>\n",
       "      <td>1000.0</td>\n",
       "    </tr>\n",
       "    <tr>\n",
       "      <th>64453</th>\n",
       "      <td>2009-07-08</td>\n",
       "      <td>New York</td>\n",
       "      <td>TO THE LIGHTHOUSE</td>\n",
       "      <td>Fire Island Light,Buffalo Light</td>\n",
       "      <td>Jeopardy!</td>\n",
       "      <td>5733</td>\n",
       "      <td>400.0</td>\n",
       "    </tr>\n",
       "    <tr>\n",
       "      <th>8370</th>\n",
       "      <td>2005-05-31</td>\n",
       "      <td>New York</td>\n",
       "      <td>'ALLO, GOVERNOR!</td>\n",
       "      <td>Al Smith,Mario Cuomo</td>\n",
       "      <td>Jeopardy!</td>\n",
       "      <td>4787</td>\n",
       "      <td>200.0</td>\n",
       "    </tr>\n",
       "    <tr>\n",
       "      <th>84169</th>\n",
       "      <td>2004-10-15</td>\n",
       "      <td>New York</td>\n",
       "      <td>LICENSE PLATE SLOGANS</td>\n",
       "      <td>It has used \"Empire State\" &amp; the more formal \"The Empire State\"</td>\n",
       "      <td>Jeopardy!</td>\n",
       "      <td>4625</td>\n",
       "      <td>400.0</td>\n",
       "    </tr>\n",
       "  </tbody>\n",
       "</table>\n",
       "</div>"
      ],
      "text/plain": [
       "         air_date    answer                            category  \\\n",
       "102164 2004-04-16  New York                       QUARTER BACKS   \n",
       "11265  2005-01-26  New York              STATE THE COLLEGE TEAM   \n",
       "121918 2011-06-09  New York                        STATE SONGS?   \n",
       "123189 2009-05-27  New York          STATES' GEOGRAPHIC CENTERS   \n",
       "126630 2009-02-20  New York                           HOME BOYS   \n",
       "131466 2006-04-04  New York                   GEOGRAPHIC CINEMA   \n",
       "139200 2011-02-23  New York                     THE 13 COLONIES   \n",
       "141264 2004-04-29  New York                       STATE MOTTOES   \n",
       "146113 2006-03-28  New York                            GODZILLA   \n",
       "147556 2011-03-03  New York                    TV CITY SETTINGS   \n",
       "15213  2008-02-27  New York                       EARLY AMERICA   \n",
       "152854 2011-05-03  New York                        HERE LIES...   \n",
       "160620 2006-12-18  New York                     'ALLO, GOVERNOR   \n",
       "18477  2006-07-25  New York          DO YOU HAVE A RESERVATION?   \n",
       "192035 2011-12-06  New York               THE STORY OF O. HENRY   \n",
       "194159 2007-01-31  New York         PRESIDENTIAL HITCHING POSTS   \n",
       "195140 2010-05-27  New York            STATES' FORMER GOVERNORS   \n",
       "203523 2011-11-28  New York                  A TALE OF ONE CITY   \n",
       "209051 2006-04-20  New York    STATE OF THE U.S. REPRESENTATIVE   \n",
       "22074  2011-04-29  New York                         STATE PARKS   \n",
       "22289  2010-06-24  New York     STATE THE STATE OF THE GOVERNOR   \n",
       "23742  2010-07-20  New York                         STATE LAKES   \n",
       "36753  2004-05-28  New York                         STATES' MEN   \n",
       "4565   2008-07-22  New York  NEBRASKA, NEW YORK OR NORTH DAKOTA   \n",
       "46877  2009-05-12  New York                 CITIES' NEWER NAMES   \n",
       "47873  2011-04-21  New York                      STATE / PRISON   \n",
       "47935  2007-01-23  New York              THE LARGEST U.S. STATE   \n",
       "54652  2009-09-14  New York             STATES' FORMER CAPITALS   \n",
       "57123  2005-06-09  New York                    NASCAR GEOGRAPHY   \n",
       "64453  2009-07-08  New York                   TO THE LIGHTHOUSE   \n",
       "8370   2005-05-31  New York                    'ALLO, GOVERNOR!   \n",
       "84169  2004-10-15  New York               LICENSE PLATE SLOGANS   \n",
       "\n",
       "                                                                                                              question  \\\n",
       "102164                                                                             A gift from France unveiled in 1886   \n",
       "11265                                                                                          Black Knights,Orangemen   \n",
       "121918                                                                                Billy Joel: \"____ State Of Mind\"   \n",
       "123189                                                          12 miles south of Oneida & 26 miles southwest of Utica   \n",
       "126630                                                                                                  Knickerbockers   \n",
       "131466                                                                                         1931:\"Sidewalks of ___\"   \n",
       "139200         Under the Treaty of Breda, the Dutch gave up New Netherland to the British, who renamed it this in 1664   \n",
       "141264                                                                                     \"Excelsior\" (\"Ever Upward\")   \n",
       "146113  Apparently bored with his old conquests, in the 1998 version, Godzilla is intent on destroying this metropolis   \n",
       "147556                                                                                                        \"Castle\"   \n",
       "15213                  The British took New Netherland & New Amsterdam from the Dutch in 1664 & renamed them both this   \n",
       "152854                                                                                                      Boss Tweed   \n",
       "160620                                                                               In office from 1995:George Pataki   \n",
       "18477                                                                                        Oneida & St. Regis Mohawk   \n",
       "192035                       In 1910 O. Henry died in this \"Bagdad on the Subway\", the setting for many of his stories   \n",
       "194159                                                                     Martin & Hannah Van Buren, on Feb. 21, 1807   \n",
       "195140                                                                                         Thomas Dewey, 1943-1954   \n",
       "203523                                                                       Jay McInerney's \"Bright Lights, Big City\"   \n",
       "209051                                                               Charles Rangel,Sherwood Boehlert,Carolyn McCarthy   \n",
       "22074                                                                                              Catskill State Park   \n",
       "22289                                                                                                   David Paterson   \n",
       "23742                                                                                                   Lake Peekskill   \n",
       "36753                                                                                    Jerry Seinfeld &Jerry Stiller   \n",
       "4565                                                                   Its name does not have a Native American origin   \n",
       "46877                                                                                                    New Amsterdam   \n",
       "47873                                                                       Attica! & Southport Correctional Facility!   \n",
       "47935                                                                                New Jersey,New Hampshire,New York   \n",
       "54652                                                                                                     Poughkeepsie   \n",
       "57123                                                                                       Watkins Glen International   \n",
       "64453                                                                                  Fire Island Light,Buffalo Light   \n",
       "8370                                                                                              Al Smith,Mario Cuomo   \n",
       "84169                                                  It has used \"Empire State\" & the more formal \"The Empire State\"   \n",
       "\n",
       "                   round  show_number   value  \n",
       "102164         Jeopardy!         4525   400.0  \n",
       "11265          Jeopardy!         4698   800.0  \n",
       "121918         Jeopardy!         6169   400.0  \n",
       "123189         Jeopardy!         5703   800.0  \n",
       "126630  Double Jeopardy!         5635   800.0  \n",
       "131466         Jeopardy!         4972   800.0  \n",
       "139200  Double Jeopardy!         6093   400.0  \n",
       "141264         Jeopardy!         4534   800.0  \n",
       "146113  Double Jeopardy!         4967   800.0  \n",
       "147556  Double Jeopardy!         6099  1600.0  \n",
       "15213          Jeopardy!         5408   200.0  \n",
       "152854  Double Jeopardy!         6142  1200.0  \n",
       "160620  Double Jeopardy!         5126   400.0  \n",
       "18477   Double Jeopardy!         5052   800.0  \n",
       "192035  Double Jeopardy!         6262  2000.0  \n",
       "194159  Double Jeopardy!         5158  2000.0  \n",
       "195140         Jeopardy!         5929  1000.0  \n",
       "203523  Double Jeopardy!         6256   800.0  \n",
       "209051  Double Jeopardy!         4984  2000.0  \n",
       "22074          Jeopardy!         6140   200.0  \n",
       "22289   Double Jeopardy!         5949   400.0  \n",
       "23742   Double Jeopardy!         5967  2000.0  \n",
       "36753          Jeopardy!         4555   200.0  \n",
       "4565           Jeopardy!         5512   400.0  \n",
       "46877          Jeopardy!         5692   600.0  \n",
       "47873          Jeopardy!         6134   200.0  \n",
       "47935          Jeopardy!         5152   200.0  \n",
       "54652          Jeopardy!         5746   800.0  \n",
       "57123          Jeopardy!         4794  1000.0  \n",
       "64453          Jeopardy!         5733   400.0  \n",
       "8370           Jeopardy!         4787   200.0  \n",
       "84169          Jeopardy!         4625   400.0  "
      ]
     },
     "execution_count": 28,
     "metadata": {},
     "output_type": "execute_result"
    }
   ],
   "source": [
    "# Find questions where \"New York\" is the answer, but \"city\" or \"state\" don't appear in the question.\n",
    "df[(df['answer']=='New York') & (df['question'].str.contains('city')==False) \n",
    "   & (df['question'].str.contains('state')==False)]"
   ]
  },
  {
   "cell_type": "code",
   "execution_count": 71,
   "metadata": {
    "collapsed": false
   },
   "outputs": [
    {
     "data": {
      "text/plain": [
       "32"
      ]
     },
     "execution_count": 71,
     "metadata": {},
     "output_type": "execute_result"
    }
   ],
   "source": [
    "# How many of these are there?\n",
    "df[(df['answer']=='New York') & (df['question'].str.contains('city')==False) \n",
    "   & (df['question'].str.contains('state')==False)]['question'].count()"
   ]
  },
  {
   "cell_type": "markdown",
   "metadata": {
    "deletable": true,
    "editable": true
   },
   "source": [
    "A few questions jump out at me as referring to New York city rather than New York state. "
   ]
  },
  {
   "cell_type": "code",
   "execution_count": 62,
   "metadata": {
    "collapsed": false
   },
   "outputs": [
    {
     "data": {
      "text/html": [
       "<div>\n",
       "<table border=\"1\" class=\"dataframe\">\n",
       "  <thead>\n",
       "    <tr style=\"text-align: right;\">\n",
       "      <th></th>\n",
       "      <th>air_date</th>\n",
       "      <th>answer</th>\n",
       "      <th>category</th>\n",
       "      <th>question</th>\n",
       "      <th>round</th>\n",
       "      <th>show_number</th>\n",
       "      <th>value</th>\n",
       "    </tr>\n",
       "  </thead>\n",
       "  <tbody>\n",
       "    <tr>\n",
       "      <th>146113</th>\n",
       "      <td>2006-03-28</td>\n",
       "      <td>New York</td>\n",
       "      <td>GODZILLA</td>\n",
       "      <td>Apparently bored with his old conquests, in the 1998 version, Godzilla is intent on destroying this metropolis</td>\n",
       "      <td>Double Jeopardy!</td>\n",
       "      <td>4967</td>\n",
       "      <td>800.0</td>\n",
       "    </tr>\n",
       "  </tbody>\n",
       "</table>\n",
       "</div>"
      ],
      "text/plain": [
       "         air_date    answer  category  \\\n",
       "146113 2006-03-28  New York  GODZILLA   \n",
       "\n",
       "                                                                                                              question  \\\n",
       "146113  Apparently bored with his old conquests, in the 1998 version, Godzilla is intent on destroying this metropolis   \n",
       "\n",
       "                   round  show_number  value  \n",
       "146113  Double Jeopardy!         4967  800.0  "
      ]
     },
     "execution_count": 62,
     "metadata": {},
     "output_type": "execute_result"
    }
   ],
   "source": [
    "df[(df['answer']=='New York') & (df['question'].str.contains('Godzilla'))]"
   ]
  },
  {
   "cell_type": "code",
   "execution_count": 63,
   "metadata": {
    "collapsed": false
   },
   "outputs": [
    {
     "data": {
      "text/html": [
       "<div>\n",
       "<table border=\"1\" class=\"dataframe\">\n",
       "  <thead>\n",
       "    <tr style=\"text-align: right;\">\n",
       "      <th></th>\n",
       "      <th>air_date</th>\n",
       "      <th>answer</th>\n",
       "      <th>category</th>\n",
       "      <th>question</th>\n",
       "      <th>round</th>\n",
       "      <th>show_number</th>\n",
       "      <th>value</th>\n",
       "    </tr>\n",
       "  </thead>\n",
       "  <tbody>\n",
       "    <tr>\n",
       "      <th>147556</th>\n",
       "      <td>2011-03-03</td>\n",
       "      <td>New York</td>\n",
       "      <td>TV CITY SETTINGS</td>\n",
       "      <td>\"Castle\"</td>\n",
       "      <td>Double Jeopardy!</td>\n",
       "      <td>6099</td>\n",
       "      <td>1600.0</td>\n",
       "    </tr>\n",
       "  </tbody>\n",
       "</table>\n",
       "</div>"
      ],
      "text/plain": [
       "         air_date    answer          category  question             round  \\\n",
       "147556 2011-03-03  New York  TV CITY SETTINGS  \"Castle\"  Double Jeopardy!   \n",
       "\n",
       "        show_number   value  \n",
       "147556         6099  1600.0  "
      ]
     },
     "execution_count": 63,
     "metadata": {},
     "output_type": "execute_result"
    }
   ],
   "source": [
    "df[(df['answer']=='New York') & (df['question'].str.contains('Castle'))]"
   ]
  },
  {
   "cell_type": "code",
   "execution_count": 66,
   "metadata": {
    "collapsed": false,
    "deletable": true,
    "editable": true
   },
   "outputs": [
    {
     "data": {
      "text/html": [
       "<div>\n",
       "<table border=\"1\" class=\"dataframe\">\n",
       "  <thead>\n",
       "    <tr style=\"text-align: right;\">\n",
       "      <th></th>\n",
       "      <th>air_date</th>\n",
       "      <th>answer</th>\n",
       "      <th>category</th>\n",
       "      <th>question</th>\n",
       "      <th>round</th>\n",
       "      <th>show_number</th>\n",
       "      <th>value</th>\n",
       "    </tr>\n",
       "  </thead>\n",
       "  <tbody>\n",
       "    <tr>\n",
       "      <th>15213</th>\n",
       "      <td>2008-02-27</td>\n",
       "      <td>New York</td>\n",
       "      <td>EARLY AMERICA</td>\n",
       "      <td>The British took New Netherland &amp; New Amsterdam from the Dutch in 1664 &amp; renamed them both this</td>\n",
       "      <td>Jeopardy!</td>\n",
       "      <td>5408</td>\n",
       "      <td>200.0</td>\n",
       "    </tr>\n",
       "    <tr>\n",
       "      <th>46877</th>\n",
       "      <td>2009-05-12</td>\n",
       "      <td>New York</td>\n",
       "      <td>CITIES' NEWER NAMES</td>\n",
       "      <td>New Amsterdam</td>\n",
       "      <td>Jeopardy!</td>\n",
       "      <td>5692</td>\n",
       "      <td>600.0</td>\n",
       "    </tr>\n",
       "  </tbody>\n",
       "</table>\n",
       "</div>"
      ],
      "text/plain": [
       "        air_date    answer             category  \\\n",
       "15213 2008-02-27  New York        EARLY AMERICA   \n",
       "46877 2009-05-12  New York  CITIES' NEWER NAMES   \n",
       "\n",
       "                                                                                              question  \\\n",
       "15213  The British took New Netherland & New Amsterdam from the Dutch in 1664 & renamed them both this   \n",
       "46877                                                                                    New Amsterdam   \n",
       "\n",
       "           round  show_number  value  \n",
       "15213  Jeopardy!         5408  200.0  \n",
       "46877  Jeopardy!         5692  600.0  "
      ]
     },
     "execution_count": 66,
     "metadata": {},
     "output_type": "execute_result"
    }
   ],
   "source": [
    "df[(df['answer']=='New York') & (df['question'].str.contains(\"New Amsterdam\"))]"
   ]
  },
  {
   "cell_type": "code",
   "execution_count": 64,
   "metadata": {
    "collapsed": false,
    "deletable": true,
    "editable": true
   },
   "outputs": [
    {
     "data": {
      "text/html": [
       "<div>\n",
       "<table border=\"1\" class=\"dataframe\">\n",
       "  <thead>\n",
       "    <tr style=\"text-align: right;\">\n",
       "      <th></th>\n",
       "      <th>air_date</th>\n",
       "      <th>answer</th>\n",
       "      <th>category</th>\n",
       "      <th>question</th>\n",
       "      <th>round</th>\n",
       "      <th>show_number</th>\n",
       "      <th>value</th>\n",
       "    </tr>\n",
       "  </thead>\n",
       "  <tbody>\n",
       "    <tr>\n",
       "      <th>203523</th>\n",
       "      <td>2011-11-28</td>\n",
       "      <td>New York</td>\n",
       "      <td>A TALE OF ONE CITY</td>\n",
       "      <td>Jay McInerney's \"Bright Lights, Big City\"</td>\n",
       "      <td>Double Jeopardy!</td>\n",
       "      <td>6256</td>\n",
       "      <td>800.0</td>\n",
       "    </tr>\n",
       "  </tbody>\n",
       "</table>\n",
       "</div>"
      ],
      "text/plain": [
       "         air_date    answer            category  \\\n",
       "203523 2011-11-28  New York  A TALE OF ONE CITY   \n",
       "\n",
       "                                         question             round  \\\n",
       "203523  Jay McInerney's \"Bright Lights, Big City\"  Double Jeopardy!   \n",
       "\n",
       "        show_number  value  \n",
       "203523         6256  800.0  "
      ]
     },
     "execution_count": 64,
     "metadata": {},
     "output_type": "execute_result"
    }
   ],
   "source": [
    "df[(df['answer']=='New York') & (df['question'].str.contains('Lights'))]"
   ]
  },
  {
   "cell_type": "markdown",
   "metadata": {
    "collapsed": true,
    "deletable": true,
    "editable": true
   },
   "source": [
    "That only comes to about 5 more questions. \n",
    "\n",
    "So far we've looked at questions where the answer is \"New York\" and the questions either\n",
    "* contains \"city\"\n",
    "or\n",
    "* does not contain \"city\" and does not contain \"state\".\n",
    "\n",
    "Maybe there are some questions that mention \"state\" in the question, but are really asking about the city. That would seem odd. Let's check a few.\n",
    "\n"
   ]
  },
  {
   "cell_type": "code",
   "execution_count": 73,
   "metadata": {
    "collapsed": false
   },
   "outputs": [
    {
     "data": {
      "text/html": [
       "<div>\n",
       "<table border=\"1\" class=\"dataframe\">\n",
       "  <thead>\n",
       "    <tr style=\"text-align: right;\">\n",
       "      <th></th>\n",
       "      <th>air_date</th>\n",
       "      <th>answer</th>\n",
       "      <th>category</th>\n",
       "      <th>question</th>\n",
       "      <th>round</th>\n",
       "      <th>show_number</th>\n",
       "      <th>value</th>\n",
       "    </tr>\n",
       "  </thead>\n",
       "  <tbody>\n",
       "    <tr>\n",
       "      <th>103063</th>\n",
       "      <td>2005-12-26</td>\n",
       "      <td>New York</td>\n",
       "      <td>STATE OF THE UNION</td>\n",
       "      <td>Numerous Revolutionary War battles were fought in this state</td>\n",
       "      <td>Jeopardy!</td>\n",
       "      <td>4901</td>\n",
       "      <td>600.0</td>\n",
       "    </tr>\n",
       "    <tr>\n",
       "      <th>10846</th>\n",
       "      <td>2005-05-02</td>\n",
       "      <td>New York</td>\n",
       "      <td>STATE FIRSTS</td>\n",
       "      <td>In 2001 it became the first U.S. state to ban hand-held phone use while driving</td>\n",
       "      <td>Jeopardy!</td>\n",
       "      <td>4766</td>\n",
       "      <td>800.0</td>\n",
       "    </tr>\n",
       "    <tr>\n",
       "      <th>113096</th>\n",
       "      <td>2008-10-29</td>\n",
       "      <td>New York</td>\n",
       "      <td>2008</td>\n",
       "      <td>Though not elected to the position, a man from this state became the 1st blind governor &amp; the 4th black governor in the U.S.</td>\n",
       "      <td>Final Jeopardy!</td>\n",
       "      <td>5553</td>\n",
       "      <td>NaN</td>\n",
       "    </tr>\n",
       "    <tr>\n",
       "      <th>122754</th>\n",
       "      <td>2007-04-12</td>\n",
       "      <td>New York</td>\n",
       "      <td>GOVERNORS</td>\n",
       "      <td>Of the 17 state governors who became president, the most from any state, 4, were from this one</td>\n",
       "      <td>Final Jeopardy!</td>\n",
       "      <td>5209</td>\n",
       "      <td>NaN</td>\n",
       "    </tr>\n",
       "    <tr>\n",
       "      <th>1308</th>\n",
       "      <td>2006-02-13</td>\n",
       "      <td>New York</td>\n",
       "      <td>THE 50 STATES</td>\n",
       "      <td>Since 1776, it has been the only U.S. state to be the most populous state for more than a century</td>\n",
       "      <td>Final Jeopardy!</td>\n",
       "      <td>4936</td>\n",
       "      <td>NaN</td>\n",
       "    </tr>\n",
       "    <tr>\n",
       "      <th>136225</th>\n",
       "      <td>2006-10-03</td>\n",
       "      <td>New York</td>\n",
       "      <td>STATE GOVERNORS</td>\n",
       "      <td>Hamilton Fish, Enos T. Throop &amp; George Pataki have served as governors of this state</td>\n",
       "      <td>Jeopardy!</td>\n",
       "      <td>5072</td>\n",
       "      <td>1000.0</td>\n",
       "    </tr>\n",
       "    <tr>\n",
       "      <th>143265</th>\n",
       "      <td>2011-06-21</td>\n",
       "      <td>New York</td>\n",
       "      <td>STATE THE SENATOR</td>\n",
       "      <td>In 2009 the woman pictured here ended her service to this state</td>\n",
       "      <td>Jeopardy!</td>\n",
       "      <td>6177</td>\n",
       "      <td>200.0</td>\n",
       "    </tr>\n",
       "    <tr>\n",
       "      <th>145857</th>\n",
       "      <td>2006-02-07</td>\n",
       "      <td>New York</td>\n",
       "      <td>TRAVEL FUN</td>\n",
       "      <td>Eek!  Watch out for monsters at the House of Frankenstein Wax Museum in Lake George in this state</td>\n",
       "      <td>Jeopardy!</td>\n",
       "      <td>4932</td>\n",
       "      <td>1000.0</td>\n",
       "    </tr>\n",
       "    <tr>\n",
       "      <th>158219</th>\n",
       "      <td>2010-03-03</td>\n",
       "      <td>New York</td>\n",
       "      <td>APPLE SAUCE</td>\n",
       "      <td>Washington State produces more apples than any other state; this state where the Empire apple developed is 2nd</td>\n",
       "      <td>Jeopardy!</td>\n",
       "      <td>5868</td>\n",
       "      <td>800.0</td>\n",
       "    </tr>\n",
       "    <tr>\n",
       "      <th>15900</th>\n",
       "      <td>2010-06-21</td>\n",
       "      <td>New York</td>\n",
       "      <td>OTHER GRAND CANYONS</td>\n",
       "      <td>Just south of Rochester in this state, Letchworth State Park is home to the \"Grand Canyon of the East\"</td>\n",
       "      <td>Double Jeopardy!</td>\n",
       "      <td>5946</td>\n",
       "      <td>400.0</td>\n",
       "    </tr>\n",
       "    <tr>\n",
       "      <th>1677</th>\n",
       "      <td>2008-12-05</td>\n",
       "      <td>New York</td>\n",
       "      <td>STATE OF THE UNION</td>\n",
       "      <td>When Jimi Hendrix played \"The Star-Spangled Banner\" at Woodstock, he was strumming in this state</td>\n",
       "      <td>Jeopardy!</td>\n",
       "      <td>5580</td>\n",
       "      <td>400.0</td>\n",
       "    </tr>\n",
       "    <tr>\n",
       "      <th>19907</th>\n",
       "      <td>2010-11-19</td>\n",
       "      <td>New York</td>\n",
       "      <td>JOURNALISM</td>\n",
       "      <td>A \"lockout\" is an identifier like \"Joe Smith, WTI Radio, Schenectady,\" this state</td>\n",
       "      <td>Double Jeopardy!</td>\n",
       "      <td>6025</td>\n",
       "      <td>800.0</td>\n",
       "    </tr>\n",
       "    <tr>\n",
       "      <th>206195</th>\n",
       "      <td>2009-11-04</td>\n",
       "      <td>New York</td>\n",
       "      <td>THE U.S. ARMY</td>\n",
       "      <td>Opened in 1802, the U.S. Army's military academy is at West Point in this state</td>\n",
       "      <td>Double Jeopardy!</td>\n",
       "      <td>5783</td>\n",
       "      <td>1200.0</td>\n",
       "    </tr>\n",
       "    <tr>\n",
       "      <th>209270</th>\n",
       "      <td>2004-04-12</td>\n",
       "      <td>New York</td>\n",
       "      <td>CONGRESSIONAL RECORD</td>\n",
       "      <td>Herman Badillo, the first Puerto Rican elected to the House, was elected by this state in 1970</td>\n",
       "      <td>Double Jeopardy!</td>\n",
       "      <td>4521</td>\n",
       "      <td>800.0</td>\n",
       "    </tr>\n",
       "    <tr>\n",
       "      <th>28000</th>\n",
       "      <td>2006-03-10</td>\n",
       "      <td>New York</td>\n",
       "      <td>23 SKIDOO</td>\n",
       "      <td>Governor Al Smith of this state signed a repeal of the state's Prohibition Enforcement Act, angering the feds</td>\n",
       "      <td>Jeopardy!</td>\n",
       "      <td>4955</td>\n",
       "      <td>2000.0</td>\n",
       "    </tr>\n",
       "    <tr>\n",
       "      <th>33102</th>\n",
       "      <td>2011-03-10</td>\n",
       "      <td>New York</td>\n",
       "      <td>20th CENTURY PRESIDENTIAL ELECTIONS</td>\n",
       "      <td>The last time the Democratic &amp; Republican nominees had once been governor of the same state, this was the state</td>\n",
       "      <td>Final Jeopardy!</td>\n",
       "      <td>6104</td>\n",
       "      <td>NaN</td>\n",
       "    </tr>\n",
       "    <tr>\n",
       "      <th>46544</th>\n",
       "      <td>2005-01-24</td>\n",
       "      <td>New York</td>\n",
       "      <td>JOSE CAN YOU SEE</td>\n",
       "      <td>Born in Puerto Rico, U.S. Congressman Jose Serrano represents a district in this Eastern state</td>\n",
       "      <td>Double Jeopardy!</td>\n",
       "      <td>4696</td>\n",
       "      <td>1200.0</td>\n",
       "    </tr>\n",
       "    <tr>\n",
       "      <th>54571</th>\n",
       "      <td>2007-05-07</td>\n",
       "      <td>New York</td>\n",
       "      <td>SPRING BREAK!</td>\n",
       "      <td>On April 17 this state enjoys Verrazano Day</td>\n",
       "      <td>Double Jeopardy!</td>\n",
       "      <td>5226</td>\n",
       "      <td>2000.0</td>\n",
       "    </tr>\n",
       "    <tr>\n",
       "      <th>56399</th>\n",
       "      <td>2006-03-15</td>\n",
       "      <td>New York</td>\n",
       "      <td>I'LL HAVE THE BEEF</td>\n",
       "      <td>The boneless top loin muscle is called Kansas City steak or by this name of the state</td>\n",
       "      <td>Jeopardy!</td>\n",
       "      <td>4958</td>\n",
       "      <td>600.0</td>\n",
       "    </tr>\n",
       "    <tr>\n",
       "      <th>57026</th>\n",
       "      <td>2005-09-12</td>\n",
       "      <td>New York</td>\n",
       "      <td>BATTLE STATIONS</td>\n",
       "      <td>The Revolutionary War's Battle of Bennington was not fought in Vermont, but in this neighboring state</td>\n",
       "      <td>Double Jeopardy!</td>\n",
       "      <td>4826</td>\n",
       "      <td>1600.0</td>\n",
       "    </tr>\n",
       "    <tr>\n",
       "      <th>69464</th>\n",
       "      <td>2007-05-22</td>\n",
       "      <td>New York</td>\n",
       "      <td>NEW FACES IN THE 110th CONGRESS</td>\n",
       "      <td>Ex-rocker John Hall (of the band Orleans, not &amp; Oates) now reps this states's 19th, including Peekskill</td>\n",
       "      <td>Jeopardy!</td>\n",
       "      <td>5237</td>\n",
       "      <td>400.0</td>\n",
       "    </tr>\n",
       "    <tr>\n",
       "      <th>86876</th>\n",
       "      <td>2004-07-22</td>\n",
       "      <td>New York</td>\n",
       "      <td>FORMER CAPITALS</td>\n",
       "      <td>This state didn't keepsie Poughkeepsie as its capital for very long</td>\n",
       "      <td>Double Jeopardy!</td>\n",
       "      <td>4594</td>\n",
       "      <td>400.0</td>\n",
       "    </tr>\n",
       "    <tr>\n",
       "      <th>89449</th>\n",
       "      <td>2005-10-24</td>\n",
       "      <td>New York</td>\n",
       "      <td>A STATE OF CIVIL WAR</td>\n",
       "      <td>This Northern state had draft riots in July 1863 even as its industrial output exceeded that of the entire South</td>\n",
       "      <td>Double Jeopardy!</td>\n",
       "      <td>4856</td>\n",
       "      <td>400.0</td>\n",
       "    </tr>\n",
       "    <tr>\n",
       "      <th>92750</th>\n",
       "      <td>2011-07-25</td>\n",
       "      <td>New York</td>\n",
       "      <td>U.S. COUNTIES</td>\n",
       "      <td>Oneida county, Idaho was named for the lake Oneida area in this state from which many of the early settlers emigrated</td>\n",
       "      <td>Double Jeopardy!</td>\n",
       "      <td>6201</td>\n",
       "      <td>800.0</td>\n",
       "    </tr>\n",
       "    <tr>\n",
       "      <th>93430</th>\n",
       "      <td>2005-11-04</td>\n",
       "      <td>New York</td>\n",
       "      <td>PRECIOUS METALS</td>\n",
       "      <td>The largest single accumulation of gold known, about $90 billion from several countries, is found in this U.S. state</td>\n",
       "      <td>Final Jeopardy!</td>\n",
       "      <td>4865</td>\n",
       "      <td>NaN</td>\n",
       "    </tr>\n",
       "    <tr>\n",
       "      <th>95071</th>\n",
       "      <td>2010-02-16</td>\n",
       "      <td>New York</td>\n",
       "      <td>SEWARD'S FOLLIES</td>\n",
       "      <td>Before his time on the national stage, Seward was born in, attended Union College in &amp; was governor of this state</td>\n",
       "      <td>Jeopardy!</td>\n",
       "      <td>5857</td>\n",
       "      <td>1000.0</td>\n",
       "    </tr>\n",
       "  </tbody>\n",
       "</table>\n",
       "</div>"
      ],
      "text/plain": [
       "         air_date    answer                             category  \\\n",
       "103063 2005-12-26  New York                   STATE OF THE UNION   \n",
       "10846  2005-05-02  New York                         STATE FIRSTS   \n",
       "113096 2008-10-29  New York                                 2008   \n",
       "122754 2007-04-12  New York                            GOVERNORS   \n",
       "1308   2006-02-13  New York                        THE 50 STATES   \n",
       "136225 2006-10-03  New York                      STATE GOVERNORS   \n",
       "143265 2011-06-21  New York                    STATE THE SENATOR   \n",
       "145857 2006-02-07  New York                           TRAVEL FUN   \n",
       "158219 2010-03-03  New York                          APPLE SAUCE   \n",
       "15900  2010-06-21  New York                  OTHER GRAND CANYONS   \n",
       "1677   2008-12-05  New York                   STATE OF THE UNION   \n",
       "19907  2010-11-19  New York                           JOURNALISM   \n",
       "206195 2009-11-04  New York                        THE U.S. ARMY   \n",
       "209270 2004-04-12  New York                 CONGRESSIONAL RECORD   \n",
       "28000  2006-03-10  New York                            23 SKIDOO   \n",
       "33102  2011-03-10  New York  20th CENTURY PRESIDENTIAL ELECTIONS   \n",
       "46544  2005-01-24  New York                     JOSE CAN YOU SEE   \n",
       "54571  2007-05-07  New York                        SPRING BREAK!   \n",
       "56399  2006-03-15  New York                   I'LL HAVE THE BEEF   \n",
       "57026  2005-09-12  New York                      BATTLE STATIONS   \n",
       "69464  2007-05-22  New York      NEW FACES IN THE 110th CONGRESS   \n",
       "86876  2004-07-22  New York                      FORMER CAPITALS   \n",
       "89449  2005-10-24  New York                 A STATE OF CIVIL WAR   \n",
       "92750  2011-07-25  New York                        U.S. COUNTIES   \n",
       "93430  2005-11-04  New York                      PRECIOUS METALS   \n",
       "95071  2010-02-16  New York                     SEWARD'S FOLLIES   \n",
       "\n",
       "                                                                                                                            question  \\\n",
       "103063                                                                  Numerous Revolutionary War battles were fought in this state   \n",
       "10846                                                In 2001 it became the first U.S. state to ban hand-held phone use while driving   \n",
       "113096  Though not elected to the position, a man from this state became the 1st blind governor & the 4th black governor in the U.S.   \n",
       "122754                                Of the 17 state governors who became president, the most from any state, 4, were from this one   \n",
       "1308                               Since 1776, it has been the only U.S. state to be the most populous state for more than a century   \n",
       "136225                                          Hamilton Fish, Enos T. Throop & George Pataki have served as governors of this state   \n",
       "143265                                                               In 2009 the woman pictured here ended her service to this state   \n",
       "145857                             Eek!  Watch out for monsters at the House of Frankenstein Wax Museum in Lake George in this state   \n",
       "158219                Washington State produces more apples than any other state; this state where the Empire apple developed is 2nd   \n",
       "15900                         Just south of Rochester in this state, Letchworth State Park is home to the \"Grand Canyon of the East\"   \n",
       "1677                                When Jimi Hendrix played \"The Star-Spangled Banner\" at Woodstock, he was strumming in this state   \n",
       "19907                                              A \"lockout\" is an identifier like \"Joe Smith, WTI Radio, Schenectady,\" this state   \n",
       "206195                                               Opened in 1802, the U.S. Army's military academy is at West Point in this state   \n",
       "209270                                Herman Badillo, the first Puerto Rican elected to the House, was elected by this state in 1970   \n",
       "28000                  Governor Al Smith of this state signed a repeal of the state's Prohibition Enforcement Act, angering the feds   \n",
       "33102                The last time the Democratic & Republican nominees had once been governor of the same state, this was the state   \n",
       "46544                                 Born in Puerto Rico, U.S. Congressman Jose Serrano represents a district in this Eastern state   \n",
       "54571                                                                                    On April 17 this state enjoys Verrazano Day   \n",
       "56399                                          The boneless top loin muscle is called Kansas City steak or by this name of the state   \n",
       "57026                          The Revolutionary War's Battle of Bennington was not fought in Vermont, but in this neighboring state   \n",
       "69464                        Ex-rocker John Hall (of the band Orleans, not & Oates) now reps this states's 19th, including Peekskill   \n",
       "86876                                                            This state didn't keepsie Poughkeepsie as its capital for very long   \n",
       "89449               This Northern state had draft riots in July 1863 even as its industrial output exceeded that of the entire South   \n",
       "92750          Oneida county, Idaho was named for the lake Oneida area in this state from which many of the early settlers emigrated   \n",
       "93430           The largest single accumulation of gold known, about $90 billion from several countries, is found in this U.S. state   \n",
       "95071              Before his time on the national stage, Seward was born in, attended Union College in & was governor of this state   \n",
       "\n",
       "                   round  show_number   value  \n",
       "103063         Jeopardy!         4901   600.0  \n",
       "10846          Jeopardy!         4766   800.0  \n",
       "113096   Final Jeopardy!         5553     NaN  \n",
       "122754   Final Jeopardy!         5209     NaN  \n",
       "1308     Final Jeopardy!         4936     NaN  \n",
       "136225         Jeopardy!         5072  1000.0  \n",
       "143265         Jeopardy!         6177   200.0  \n",
       "145857         Jeopardy!         4932  1000.0  \n",
       "158219         Jeopardy!         5868   800.0  \n",
       "15900   Double Jeopardy!         5946   400.0  \n",
       "1677           Jeopardy!         5580   400.0  \n",
       "19907   Double Jeopardy!         6025   800.0  \n",
       "206195  Double Jeopardy!         5783  1200.0  \n",
       "209270  Double Jeopardy!         4521   800.0  \n",
       "28000          Jeopardy!         4955  2000.0  \n",
       "33102    Final Jeopardy!         6104     NaN  \n",
       "46544   Double Jeopardy!         4696  1200.0  \n",
       "54571   Double Jeopardy!         5226  2000.0  \n",
       "56399          Jeopardy!         4958   600.0  \n",
       "57026   Double Jeopardy!         4826  1600.0  \n",
       "69464          Jeopardy!         5237   400.0  \n",
       "86876   Double Jeopardy!         4594   400.0  \n",
       "89449   Double Jeopardy!         4856   400.0  \n",
       "92750   Double Jeopardy!         6201   800.0  \n",
       "93430    Final Jeopardy!         4865     NaN  \n",
       "95071          Jeopardy!         5857  1000.0  "
      ]
     },
     "execution_count": 73,
     "metadata": {},
     "output_type": "execute_result"
    }
   ],
   "source": [
    "# Find questions where \"New York\" is the answer and \"state\" appears in the question.\n",
    "df[(df['answer']=='New York') & (df['question'].str.contains('state'))]"
   ]
  },
  {
   "cell_type": "markdown",
   "metadata": {},
   "source": [
    "Hmm... All of these really seem to be asking about the state, rather than the city of New York.\n",
    "\n",
    "To summarize, I found that about 17 questions should be removed from the count for New York state. That gives 53. "
   ]
  },
  {
   "cell_type": "code",
   "execution_count": 74,
   "metadata": {
    "collapsed": false,
    "deletable": true,
    "editable": true
   },
   "outputs": [],
   "source": [
    "# Update value for New York.\n",
    "state_data.set_value('New York', 'total_count', 53);"
   ]
  },
  {
   "cell_type": "code",
   "execution_count": 76,
   "metadata": {
    "collapsed": false,
    "deletable": true,
    "editable": true
   },
   "outputs": [
    {
     "data": {
      "image/png": "[encoded data removed]",
      "text/plain": [
       "<matplotlib.figure.Figure at 0x12aafea90>"
      ]
     },
     "metadata": {},
     "output_type": "display_data"
    }
   ],
   "source": [
    "# Create plot again.\n",
    "state_data.plot(x = 'total_count', y = 'wiki_views', kind = 'scatter');"
   ]
  },
  {
   "cell_type": "code",
   "execution_count": 77,
   "metadata": {
    "collapsed": false
   },
   "outputs": [
    {
     "data": {
      "text/html": [
       "<div>\n",
       "<table border=\"1\" class=\"dataframe\">\n",
       "  <thead>\n",
       "    <tr style=\"text-align: right;\">\n",
       "      <th></th>\n",
       "      <th>total_count</th>\n",
       "      <th>wiki_word_count</th>\n",
       "      <th>wiki_views</th>\n",
       "    </tr>\n",
       "  </thead>\n",
       "  <tbody>\n",
       "    <tr>\n",
       "      <th>total_count</th>\n",
       "      <td>1.000000</td>\n",
       "      <td>0.358244</td>\n",
       "      <td>0.823737</td>\n",
       "    </tr>\n",
       "    <tr>\n",
       "      <th>wiki_word_count</th>\n",
       "      <td>0.358244</td>\n",
       "      <td>1.000000</td>\n",
       "      <td>0.350184</td>\n",
       "    </tr>\n",
       "    <tr>\n",
       "      <th>wiki_views</th>\n",
       "      <td>0.823737</td>\n",
       "      <td>0.350184</td>\n",
       "      <td>1.000000</td>\n",
       "    </tr>\n",
       "  </tbody>\n",
       "</table>\n",
       "</div>"
      ],
      "text/plain": [
       "                 total_count  wiki_word_count  wiki_views\n",
       "total_count         1.000000         0.358244    0.823737\n",
       "wiki_word_count     0.358244         1.000000    0.350184\n",
       "wiki_views          0.823737         0.350184    1.000000"
      ]
     },
     "execution_count": 77,
     "metadata": {},
     "output_type": "execute_result"
    }
   ],
   "source": [
    "# Check with a correlation matrix again.\n",
    "state_data.ix[:,state_data.columns].corr()"
   ]
  },
  {
   "cell_type": "markdown",
   "metadata": {},
   "source": [
    "The plot looks a little better, but the correlation matrix value relating wikipedia views and total_counts (0.821448) didn't get much better. \n",
    "\n",
    "It seems like Jeopardy may place more importance on the state of New York than wikipedia users. :) "
   ]
  },
  {
   "cell_type": "markdown",
   "metadata": {},
   "source": [
    "### Oklahoma is OK! Oklahoma City isn't confused with the state of Oklahoma.\n",
    "\n",
    "Another state with a possibly confusing state capital is Oklahoma City, also the most populous city in the state. However, Oklahoma City doesn't have the same problems as New York City. Unlike New York where all of the questions where \"city\" is mentioned refer to New York City, for Oklahoma the questions where city is mentioned all refer to another city in the state of Oklahoma, rather than Oklahoma City."
   ]
  },
  {
   "cell_type": "code",
   "execution_count": 38,
   "metadata": {
    "collapsed": false,
    "deletable": true,
    "editable": true
   },
   "outputs": [
    {
     "data": {
      "text/html": [
       "<div>\n",
       "<table border=\"1\" class=\"dataframe\">\n",
       "  <thead>\n",
       "    <tr style=\"text-align: right;\">\n",
       "      <th></th>\n",
       "      <th>air_date</th>\n",
       "      <th>answer</th>\n",
       "      <th>category</th>\n",
       "      <th>question</th>\n",
       "      <th>round</th>\n",
       "      <th>show_number</th>\n",
       "      <th>value</th>\n",
       "    </tr>\n",
       "  </thead>\n",
       "  <tbody>\n",
       "    <tr>\n",
       "      <th>115027</th>\n",
       "      <td>2010-09-21</td>\n",
       "      <td>Oklahoma</td>\n",
       "      <td>WOMEN ON THE MAP</td>\n",
       "      <td>The city of Enid in this state is believed to be named for a character in \"Idylls of the King\"</td>\n",
       "      <td>Jeopardy!</td>\n",
       "      <td>5982</td>\n",
       "      <td>800.0</td>\n",
       "    </tr>\n",
       "    <tr>\n",
       "      <th>127770</th>\n",
       "      <td>2010-11-15</td>\n",
       "      <td>Oklahoma</td>\n",
       "      <td>STATE FACTS</td>\n",
       "      <td>The city of Tahlequah in this state is the capital of the Cherokee Nation</td>\n",
       "      <td>Jeopardy!</td>\n",
       "      <td>6021</td>\n",
       "      <td>1000.0</td>\n",
       "    </tr>\n",
       "  </tbody>\n",
       "</table>\n",
       "</div>"
      ],
      "text/plain": [
       "         air_date    answer          category  \\\n",
       "115027 2010-09-21  Oklahoma  WOMEN ON THE MAP   \n",
       "127770 2010-11-15  Oklahoma       STATE FACTS   \n",
       "\n",
       "                                                                                              question  \\\n",
       "115027  The city of Enid in this state is believed to be named for a character in \"Idylls of the King\"   \n",
       "127770                       The city of Tahlequah in this state is the capital of the Cherokee Nation   \n",
       "\n",
       "            round  show_number   value  \n",
       "115027  Jeopardy!         5982   800.0  \n",
       "127770  Jeopardy!         6021  1000.0  "
      ]
     },
     "execution_count": 38,
     "metadata": {},
     "output_type": "execute_result"
    }
   ],
   "source": [
    "# Here are the questions where Oklahoma is the answer and \"city\" is mentioned in the question.\n",
    "df[(df['answer']=='Oklahoma') & (df['question'].str.contains('city'))]"
   ]
  }
 ],
 "metadata": {
  "kernelspec": {
   "display_name": "Python 2",
   "language": "python",
   "name": "python2"
  },
  "language_info": {
   "codemirror_mode": {
    "name": "ipython",
    "version": 2
   },
   "file_extension": ".py",
   "mimetype": "text/x-python",
   "name": "python",
   "nbconvert_exporter": "python",
   "pygments_lexer": "ipython2",
   "version": "2.7.13"
  }
 },
 "nbformat": 4,
 "nbformat_minor": 0
}
