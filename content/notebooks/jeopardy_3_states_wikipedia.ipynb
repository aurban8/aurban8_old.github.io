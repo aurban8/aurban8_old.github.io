{
 "cells": [
  {
   "cell_type": "markdown",
   "metadata": {
    "deletable": true,
    "editable": true
   },
   "source": [
    "## Let's load in the data and limit the time period"
   ]
  },
  {
   "cell_type": "code",
   "execution_count": 1,
   "metadata": {
    "collapsed": false,
    "deletable": true,
    "editable": true
   },
   "outputs": [],
   "source": [
    "# This command allows plots to appear in the jupyter notebook.\n",
    "%matplotlib inline  \n",
    "# Import the pandas package and load the cleaned json file into a dataframe called df_input.\n",
    "import pandas as pd\n",
    "df_input = pd.read_json('JEOPARDY_QUESTIONS1_cleaned.json')\n",
    "# Division is float division\n",
    "from __future__ import division\n",
    "# Let's convert air_date to date/time, rather than a string.\n",
    "df_input['air_date'] = pd.to_datetime(df_input['air_date'], yearfirst= True)\n",
    "# Let's only look at the years where the data is well-sampled.\n",
    "df1 = df_input[(df_input['air_date'] >= '01-01-1997') & (df_input['air_date'] <= '12-31-2000')]\n",
    "df2 = df_input[(df_input['air_date'] >= '01-01-2004') & (df_input['air_date'] <= '12-31-2011')]\n",
    "# Create final dataframe with a question in each row.\n",
    "df = pd.concat([df1, df2])\n",
    "# Adjust view.\n",
    "pd.set_option('max_colwidth', 300)"
   ]
  },
  {
   "cell_type": "code",
   "execution_count": 2,
   "metadata": {
    "collapsed": false,
    "deletable": true,
    "editable": true
   },
   "outputs": [
    {
     "data": {
      "text/html": [
       "<div>\n",
       "<table border=\"1\" class=\"dataframe\">\n",
       "  <thead>\n",
       "    <tr style=\"text-align: right;\">\n",
       "      <th></th>\n",
       "      <th>total_count</th>\n",
       "    </tr>\n",
       "  </thead>\n",
       "  <tbody>\n",
       "    <tr>\n",
       "      <th>California</th>\n",
       "      <td>133</td>\n",
       "    </tr>\n",
       "    <tr>\n",
       "      <th>Hawaii</th>\n",
       "      <td>116</td>\n",
       "    </tr>\n",
       "    <tr>\n",
       "      <th>Texas</th>\n",
       "      <td>116</td>\n",
       "    </tr>\n",
       "    <tr>\n",
       "      <th>Alaska</th>\n",
       "      <td>115</td>\n",
       "    </tr>\n",
       "    <tr>\n",
       "      <th>Florida</th>\n",
       "      <td>113</td>\n",
       "    </tr>\n",
       "  </tbody>\n",
       "</table>\n",
       "</div>"
      ],
      "text/plain": [
       "            total_count\n",
       "California          133\n",
       "Hawaii              116\n",
       "Texas               116\n",
       "Alaska              115\n",
       "Florida             113"
      ]
     },
     "execution_count": 2,
     "metadata": {},
     "output_type": "execute_result"
    }
   ],
   "source": [
    "# Create new dataframe with only states as answers.\n",
    "list_of_states = ['Alabama','Alaska','Arizona','Arkansas','California', \n",
    "                  'Colorado','Connecticut', 'Delaware', 'Florida','Georgia',\n",
    "                  'Hawaii','Idaho','Illinois','Indiana', 'Iowa', 'Kansas',\n",
    "                  'Kentucky', 'Louisiana', 'Maine', 'Maryland', 'Massachusetts',\n",
    "                  'Michigan','Minnesota','Mississippi', 'Missouri','Montana','Nebraska', \n",
    "                  'Nevada','New Hampshire', 'New Jersey','New Mexico', 'New York',\n",
    "                  'North Carolina', 'North Dakota','Ohio','Oklahoma', 'Oregon',\n",
    "                  'Pennsylvania', 'Rhode Island','South Carolina', 'South Dakota',\n",
    "                  'Tennessee','Texas','Utah','Vermont', 'Virginia', 'Washington', \n",
    "                  'West Virginia', 'Wisconsin', 'Wyoming']\n",
    "state_answers = df[df['answer'].isin(list_of_states)]\n",
    "count_state_answers = state_answers.answer.value_counts()\n",
    "state_data = pd.DataFrame(count_state_answers)\n",
    "state_data.columns = ['total_count']\n",
    "state_data.head()"
   ]
  },
  {
   "cell_type": "markdown",
   "metadata": {
    "deletable": true,
    "editable": true
   },
   "source": [
    "## Wikipedia article word counts don't trace Jeopardy popularity"
   ]
  },
  {
   "cell_type": "markdown",
   "metadata": {
    "deletable": true,
    "editable": true
   },
   "source": [
    "In order to answer the question of why some states appear as Jeopardy answers more frequently than others I decided to use [Wikipedia](https://www.wikipedia.org/) as a proxy for popularity. I first tried looking into word counts on a state's Wikipedia article. I was thinking that popular states might have longer articles written about them. Let's see what that shows."
   ]
  },
  {
   "cell_type": "markdown",
   "metadata": {
    "deletable": true,
    "editable": true
   },
   "source": [
    "To investigate Wikipedia articles, I used a [python wrapper for the Wikipedia API](https://wikipedia.readthedocs.io/en/latest/) using the command `pip install wikipedia` to install it."
   ]
  },
  {
   "cell_type": "code",
   "execution_count": 3,
   "metadata": {
    "collapsed": false,
    "deletable": true,
    "editable": true
   },
   "outputs": [
    {
     "name": "stdout",
     "output_type": "stream",
     "text": [
      "[u'California', u'California City, California', u'Baja California Peninsula', u'Outline of California', u'History of California', u'California Gold Rush', u'Northern California', u'Governor of California', u'California English', u'Indigenous peoples of California']\n"
     ]
    }
   ],
   "source": [
    "import wikipedia\n",
    "print wikipedia.search(\"California\")"
   ]
  },
  {
   "cell_type": "code",
   "execution_count": 4,
   "metadata": {
    "collapsed": false,
    "deletable": true,
    "editable": true
   },
   "outputs": [
    {
     "name": "stdout",
     "output_type": "stream",
     "text": [
      "California (/ˌkælᵻˈfɔːrnjə, -ni.ə/ KAL-ə-FORN-yə, KAL-ə-FORN-ee-ə) is the most populous state in the United States and the third most extensive by are\n"
     ]
    }
   ],
   "source": [
    "print wikipedia.summary(\"California\")[0:150]"
   ]
  },
  {
   "cell_type": "code",
   "execution_count": 5,
   "metadata": {
    "collapsed": false,
    "deletable": true,
    "editable": true
   },
   "outputs": [
    {
     "name": "stdout",
     "output_type": "stream",
     "text": [
      "[u'Georgia', u'Georgia (country)', u'University of Georgia', u'President of Georgia', u'Kingdom of Georgia', u'History of Georgia (country)', u'Georgia (U.S. state)', u'Georgia Dome', u'Georgia Southern\\u2013Georgia State rivalry', u'Foreign relations of Georgia']\n"
     ]
    }
   ],
   "source": [
    "print wikipedia.search(\"Georgia\")"
   ]
  },
  {
   "cell_type": "code",
   "execution_count": 6,
   "metadata": {
    "collapsed": false,
    "deletable": true,
    "editable": true
   },
   "outputs": [],
   "source": [
    "# The following line gives an error because of ambiguity between \n",
    "# Georgia-the U.S. state, Georgia-the country, and others.\n",
    "#print wikipedia.summary(\"Georgia\")[0:150]"
   ]
  },
  {
   "cell_type": "markdown",
   "metadata": {
    "deletable": true,
    "editable": true
   },
   "source": [
    "So, searching for information on \"Georgia\", \"Washington\", \"New York\" will cause an error because of ambiguity. \n",
    "I used the [links to states on Wikipedia](https://en.wikipedia.org/wiki/List_of_states_and_territories_of_the_United_States) to figure out which states could cause problems and created a new list of states for my Wikipedia search.\n",
    "    "
   ]
  },
  {
   "cell_type": "code",
   "execution_count": 7,
   "metadata": {
    "collapsed": true,
    "deletable": true,
    "editable": true
   },
   "outputs": [],
   "source": [
    "# Make a copy of the the original list of states and create a list `list_of_states_wiki` to use to search Wikipedia.\n",
    "list_of_states_wiki = list(list_of_states)\n",
    "list_of_states_wiki.remove('Georgia')\n",
    "list_of_states_wiki.append('Georgia (U.S. state)')\n",
    "list_of_states_wiki.remove('New York')\n",
    "list_of_states_wiki.append('New York (state)')\n",
    "list_of_states_wiki.remove('Washington')\n",
    "list_of_states_wiki.append('Washington (state)')"
   ]
  },
  {
   "cell_type": "code",
   "execution_count": 8,
   "metadata": {
    "collapsed": false,
    "deletable": true,
    "editable": true
   },
   "outputs": [
    {
     "data": {
      "text/plain": [
       "['Alabama',\n",
       " 'Alaska',\n",
       " 'Arizona',\n",
       " 'Arkansas',\n",
       " 'California',\n",
       " 'Colorado',\n",
       " 'Connecticut',\n",
       " 'Delaware',\n",
       " 'Florida',\n",
       " 'Georgia (U.S. state)']"
      ]
     },
     "execution_count": 8,
     "metadata": {},
     "output_type": "execute_result"
    }
   ],
   "source": [
    "# Check the list.\n",
    "list_of_states_wiki.sort()\n",
    "list_of_states_wiki[0:10]"
   ]
  },
  {
   "cell_type": "code",
   "execution_count": 9,
   "metadata": {
    "collapsed": false,
    "deletable": true,
    "editable": true
   },
   "outputs": [],
   "source": [
    "# Grab all Wikipedia state articles and count the number of words in the article. \n",
    "# Make sure the word \"state\" is in the summary.\n",
    "# This loop can take awhile...\n",
    "state_summary = {}\n",
    "state_word_count = {}\n",
    "for state in list_of_states_wiki:\n",
    "    summary = wikipedia.summary(state)[0:200]\n",
    "    state_summary[state] = summary\n",
    "    if 'state' not in summary: \n",
    "        print \"Check state:\", state\n",
    "    statepage = wikipedia.WikipediaPage(state)\n",
    "    state_word_count[state] = len(statepage.content.split(' '))"
   ]
  },
  {
   "cell_type": "code",
   "execution_count": 10,
   "metadata": {
    "collapsed": false,
    "deletable": true,
    "editable": true
   },
   "outputs": [],
   "source": [
    "# Change state names back to original to combine with the `state_data` dataframe.\n",
    "state_word_count['Washington'] = state_word_count.pop(\"Washington (state)\")\n",
    "state_word_count['Georgia'] = state_word_count.pop(\"Georgia (U.S. state)\")\n",
    "state_word_count['New York'] = state_word_count.pop(\"New York (state)\")"
   ]
  },
  {
   "cell_type": "code",
   "execution_count": 11,
   "metadata": {
    "collapsed": true,
    "deletable": true,
    "editable": true
   },
   "outputs": [],
   "source": [
    "# Create new dataframe to combine with `state_data` dataframe.\n",
    "df_state_word_count = pd.DataFrame.from_dict(state_word_count, orient = 'index', dtype = float)\n",
    "df_state_word_count.columns = ['wiki_word_count']\n",
    "# Combine word counts to `state_data` dataframe.\n",
    "state_data = state_data.join(df_state_word_count, how = 'outer')"
   ]
  },
  {
   "cell_type": "markdown",
   "metadata": {
    "collapsed": false,
    "deletable": true,
    "editable": true
   },
   "source": [
    "Let's plot the number of words in a Wikipedia article and the number of times a state has appeared on Jeopardy to see if there's a relationship."
   ]
  },
  {
   "cell_type": "code",
   "execution_count": 12,
   "metadata": {
    "collapsed": false,
    "deletable": true,
    "editable": true
   },
   "outputs": [
    {
     "data": {
      "image/png": "[encoded data removed]",
      "text/plain": [
       "<matplotlib.figure.Figure at 0x11387d890>"
      ]
     },
     "metadata": {},
     "output_type": "display_data"
    }
   ],
   "source": [
    "ax = state_data.plot(x = 'total_count', y = 'wiki_word_count', kind = 'scatter', ylim= (0, 16000))\n",
    "ax.set_xlabel('Number of Appearances on Jeopardy')\n",
    "ax.set_ylabel('Wikipedia Word Count');"
   ]
  },
  {
   "cell_type": "markdown",
   "metadata": {
    "collapsed": true,
    "deletable": true,
    "editable": true
   },
   "source": [
    "Hmmm... This is not as useful as I'd like it to be. Let's calculate the [correlation coefficient](https://docs.scipy.org/doc/scipy-0.16.0/reference/generated/scipy.stats.pearsonr.html) for now. I don't think it will be very useful, but perhaps we can use it to compare to another tracer of popularity."
   ]
  },
  {
   "cell_type": "code",
   "execution_count": 13,
   "metadata": {
    "collapsed": false,
    "deletable": true,
    "editable": true
   },
   "outputs": [
    {
     "name": "stdout",
     "output_type": "stream",
     "text": [
      "p_wc =  0.0474096983668\n",
      "r_wc =  0.281801645529\n"
     ]
    }
   ],
   "source": [
    "from scipy.stats import pearsonr\n",
    "rwc, pvaluewc = pearsonr(state_data['total_count'], state_data['wiki_word_count'])\n",
    "print \"p_wc = \", pvaluewc\n",
    "print \"r_wc = \", rwc"
   ]
  },
  {
   "cell_type": "markdown",
   "metadata": {
    "deletable": true,
    "editable": true
   },
   "source": [
    "## Using Wikipedia page views to trace Jeopardy popularity"
   ]
  },
  {
   "cell_type": "markdown",
   "metadata": {
    "deletable": true,
    "editable": true
   },
   "source": [
    "Rather than Wikipedia word count, perhaps an alternative indicator of popularity is *Wikipedia page views*. Luckily there is [another python tool which uses Wikipedia's API to get page views](https://github.com/mediawiki-utilities/python-mwviews\n",
    "). To install it, use `pip install mwviews`"
   ]
  },
  {
   "cell_type": "code",
   "execution_count": 14,
   "metadata": {
    "collapsed": true,
    "deletable": true,
    "editable": true
   },
   "outputs": [],
   "source": [
    "# Import the Wikipedia tool\n",
    "from mwviews.api import PageviewsClient\n",
    "p = PageviewsClient()"
   ]
  },
  {
   "cell_type": "code",
   "execution_count": 15,
   "metadata": {
    "collapsed": false,
    "deletable": true,
    "editable": true
   },
   "outputs": [
    {
     "data": {
      "text/plain": [
       "[{u'article': u'Main_Page', u'rank': 1, u'views': 17993586},\n",
       " {u'article': u'Special:Search', u'rank': 2, u'views': 2481439},\n",
       " {u'article': u'Thanksgiving', u'rank': 3, u'views': 605476}]"
      ]
     },
     "execution_count": 15,
     "metadata": {},
     "output_type": "execute_result"
    }
   ],
   "source": [
    "# Here's a fun command that let's you track the current trends on Wikipedia.\n",
    "# If you leave off year, month, and day, the returned result will be for `today`.\n",
    "\n",
    "# One of my favorite American traditions.\n",
    "p.top_articles('en.wikipedia', limit = 3 , year = 2015, month = 11, day = 26)"
   ]
  },
  {
   "cell_type": "code",
   "execution_count": 16,
   "metadata": {
    "collapsed": false,
    "deletable": true,
    "editable": true
   },
   "outputs": [
    {
     "data": {
      "text/plain": [
       "[{u'article': u'Main_Page', u'rank': 1, u'views': 17705131},\n",
       " {u'article': u'Special:Search', u'rank': 2, u'views': 2398938},\n",
       " {u'article': u'Black_Friday_(shopping)', u'rank': 3, u'views': 444341}]"
      ]
     },
     "execution_count": 16,
     "metadata": {},
     "output_type": "execute_result"
    }
   ],
   "source": [
    "# One of my least favorite American traditions.\n",
    "p.top_articles('en.wikipedia', limit = 3 , year = 2015, month = 11, day = 27)"
   ]
  },
  {
   "cell_type": "markdown",
   "metadata": {
    "collapsed": false,
    "deletable": true,
    "editable": true
   },
   "source": [
    "I'll use the most recent year, 2016, to count the number of page views on Wikipedia over the course of a year for each state. I would have liked to compare my dataset which runs from 1997-2000 and 2004-2011 to the same timeframe on Wikipedia. Unfortunately, the Wikipedia API only seems to go back to about 2015. "
   ]
  },
  {
   "cell_type": "code",
   "execution_count": 17,
   "metadata": {
    "collapsed": false,
    "deletable": true,
    "editable": true
   },
   "outputs": [
    {
     "data": {
      "text/plain": [
       "{datetime.datetime(2016, 1, 1, 0, 0): {'Arizona': 131409},\n",
       " datetime.datetime(2016, 2, 1, 0, 0): {'Arizona': 125917},\n",
       " datetime.datetime(2016, 3, 1, 0, 0): {'Arizona': 151741},\n",
       " datetime.datetime(2016, 4, 1, 0, 0): {'Arizona': 174710},\n",
       " datetime.datetime(2016, 5, 1, 0, 0): {'Arizona': 123279},\n",
       " datetime.datetime(2016, 6, 1, 0, 0): {'Arizona': 112169},\n",
       " datetime.datetime(2016, 7, 1, 0, 0): {'Arizona': 101361},\n",
       " datetime.datetime(2016, 8, 1, 0, 0): {'Arizona': 106251},\n",
       " datetime.datetime(2016, 9, 1, 0, 0): {'Arizona': 112453},\n",
       " datetime.datetime(2016, 10, 1, 0, 0): {'Arizona': 120101},\n",
       " datetime.datetime(2016, 11, 1, 0, 0): {'Arizona': 137877},\n",
       " datetime.datetime(2016, 12, 1, 0, 0): {'Arizona': 114489}}"
      ]
     },
     "execution_count": 17,
     "metadata": {},
     "output_type": "execute_result"
    }
   ],
   "source": [
    "# Here are the results for Arizona for 2016. \n",
    "p.article_views('en.wikipedia', ['Arizona'], \n",
    "                granularity='monthly', start='2016010100', end='2016123100')"
   ]
  },
  {
   "cell_type": "code",
   "execution_count": 18,
   "metadata": {
    "collapsed": false,
    "deletable": true,
    "editable": true
   },
   "outputs": [],
   "source": [
    "# The Wikipedia tool doesn't automatically calculate page views annually. \n",
    "# Instead I'll just sum up the data for each month to get the results for a year.\n",
    "state_views = {}\n",
    "for state in list_of_states_wiki:\n",
    "    views = p.article_views('en.wikipedia', [state], \n",
    "                        granularity='monthly', start='2016010100', end='2016123100')\n",
    "    total_views = 0\n",
    "    for view in views:\n",
    "        key_state_name = views[view].keys()\n",
    "        total_views +=views[view][key_state_name[0]]\n",
    "    state_views[state] = total_views"
   ]
  },
  {
   "cell_type": "code",
   "execution_count": 19,
   "metadata": {
    "collapsed": false,
    "deletable": true,
    "editable": true
   },
   "outputs": [],
   "source": [
    "# Combine new state view data into state_data dataframe.\n",
    "state_views['Washington'] = state_views.pop(\"Washington (state)\")\n",
    "state_views['Georgia'] = state_views.pop(\"Georgia (U.S. state)\")\n",
    "state_views['New York'] = state_views.pop(\"New York (state)\")\n",
    "df_state_views = pd.DataFrame.from_dict(state_views, orient = 'index', dtype = float)\n",
    "df_state_views.columns = ['wiki_views']\n",
    "state_data = state_data.join(df_state_views, how = 'outer')"
   ]
  },
  {
   "cell_type": "code",
   "execution_count": 20,
   "metadata": {
    "collapsed": false,
    "deletable": true,
    "editable": true
   },
   "outputs": [
    {
     "data": {
      "text/html": [
       "<div>\n",
       "<table border=\"1\" class=\"dataframe\">\n",
       "  <thead>\n",
       "    <tr style=\"text-align: right;\">\n",
       "      <th></th>\n",
       "      <th>total_count</th>\n",
       "      <th>wiki_word_count</th>\n",
       "      <th>wiki_views</th>\n",
       "    </tr>\n",
       "  </thead>\n",
       "  <tbody>\n",
       "    <tr>\n",
       "      <th>Alabama</th>\n",
       "      <td>37</td>\n",
       "      <td>11349.0</td>\n",
       "      <td>1340664.0</td>\n",
       "    </tr>\n",
       "    <tr>\n",
       "      <th>Alaska</th>\n",
       "      <td>115</td>\n",
       "      <td>10073.0</td>\n",
       "      <td>2631738.0</td>\n",
       "    </tr>\n",
       "    <tr>\n",
       "      <th>Arizona</th>\n",
       "      <td>63</td>\n",
       "      <td>9391.0</td>\n",
       "      <td>1511757.0</td>\n",
       "    </tr>\n",
       "    <tr>\n",
       "      <th>Arkansas</th>\n",
       "      <td>34</td>\n",
       "      <td>8607.0</td>\n",
       "      <td>1050623.0</td>\n",
       "    </tr>\n",
       "    <tr>\n",
       "      <th>California</th>\n",
       "      <td>133</td>\n",
       "      <td>11028.0</td>\n",
       "      <td>4985559.0</td>\n",
       "    </tr>\n",
       "  </tbody>\n",
       "</table>\n",
       "</div>"
      ],
      "text/plain": [
       "            total_count  wiki_word_count  wiki_views\n",
       "Alabama              37          11349.0   1340664.0\n",
       "Alaska              115          10073.0   2631738.0\n",
       "Arizona              63           9391.0   1511757.0\n",
       "Arkansas             34           8607.0   1050623.0\n",
       "California          133          11028.0   4985559.0"
      ]
     },
     "execution_count": 20,
     "metadata": {},
     "output_type": "execute_result"
    }
   ],
   "source": [
    "state_data.head()"
   ]
  },
  {
   "cell_type": "code",
   "execution_count": 21,
   "metadata": {
    "collapsed": false,
    "deletable": true,
    "editable": true,
    "scrolled": false
   },
   "outputs": [
    {
     "data": {
      "image/png": "[encoded data removed]",
      "text/plain": [
       "<matplotlib.figure.Figure at 0x11b367f10>"
      ]
     },
     "metadata": {},
     "output_type": "display_data"
    }
   ],
   "source": [
    "ax = state_data.plot(x = 'total_count', y = 'wiki_views', kind = 'scatter')\n",
    "ax.set_xlabel('Number of Appearances on Jeopardy')\n",
    "ax.set_ylabel('Wikipedia View Count');"
   ]
  },
  {
   "cell_type": "markdown",
   "metadata": {
    "deletable": true,
    "editable": true
   },
   "source": [
    "Oooooh!  Look at that trend! Popular states on Wikipedia searches are also popular states on Jeopardy!"
   ]
  },
  {
   "cell_type": "code",
   "execution_count": 22,
   "metadata": {
    "collapsed": false,
    "deletable": true,
    "editable": true
   },
   "outputs": [
    {
     "name": "stdout",
     "output_type": "stream",
     "text": [
      "p_wv =  8.77710298901e-13\n",
      "r_wv =  0.811548212639\n"
     ]
    }
   ],
   "source": [
    "# Calculate the relationship between Jeopardy counts and wikipedia views.\n",
    "rwv, pvaluewv = pearsonr(state_data['total_count'], state_data['wiki_views'])\n",
    "print \"p_wv = \", pvaluewv\n",
    "print \"r_wv = \", rwv"
   ]
  },
  {
   "cell_type": "code",
   "execution_count": 23,
   "metadata": {
    "collapsed": false,
    "deletable": true,
    "editable": true
   },
   "outputs": [
    {
     "name": "stdout",
     "output_type": "stream",
     "text": [
      "p_wc =  0.0474096983668\n",
      "r_wc =  0.281801645529\n"
     ]
    }
   ],
   "source": [
    "# Print numbers again for Jeopardy counts and wikipedia article word counts.\n",
    "print \"p_wc = \", pvaluewc\n",
    "print \"r_wc = \", rwc"
   ]
  },
  {
   "cell_type": "markdown",
   "metadata": {
    "deletable": true,
    "editable": true
   },
   "source": [
    "Looks good. Remember that the closer the Pearson correlation coeffecient is to +1, the more positively correlated the two variables are.\n",
    "\n",
    "However, looking back at the plot, there is an odd outlier. Let's take a look at that next."
   ]
  },
  {
   "cell_type": "markdown",
   "metadata": {
    "deletable": true,
    "editable": true
   },
   "source": [
    "## New York City or New York State? (or How to Fix an Outlier)"
   ]
  },
  {
   "cell_type": "markdown",
   "metadata": {
    "deletable": true,
    "editable": true
   },
   "source": [
    "What is that odd outlier located at 90 Jeopardy appearances and under 1,000,000 Wikipedia views? If the number of wikipedia views is \"correct\", then it should only have appeared on Jeopardy about 40 times."
   ]
  },
  {
   "cell_type": "code",
   "execution_count": 24,
   "metadata": {
    "collapsed": false,
    "deletable": true,
    "editable": true
   },
   "outputs": [
    {
     "data": {
      "text/html": [
       "<div>\n",
       "<table border=\"1\" class=\"dataframe\">\n",
       "  <thead>\n",
       "    <tr style=\"text-align: right;\">\n",
       "      <th></th>\n",
       "      <th>total_count</th>\n",
       "      <th>wiki_word_count</th>\n",
       "      <th>wiki_views</th>\n",
       "    </tr>\n",
       "  </thead>\n",
       "  <tbody>\n",
       "    <tr>\n",
       "      <th>New York</th>\n",
       "      <td>92</td>\n",
       "      <td>10322.0</td>\n",
       "      <td>613533.0</td>\n",
       "    </tr>\n",
       "  </tbody>\n",
       "</table>\n",
       "</div>"
      ],
      "text/plain": [
       "          total_count  wiki_word_count  wiki_views\n",
       "New York           92          10322.0    613533.0"
      ]
     },
     "execution_count": 24,
     "metadata": {},
     "output_type": "execute_result"
    }
   ],
   "source": [
    "# What is that outlier with total_count > 90, but wiki_views <1,000,000\n",
    "state_data[(state_data['total_count']>90) & (state_data['wiki_views']<1000000)]"
   ]
  },
  {
   "cell_type": "markdown",
   "metadata": {
    "deletable": true,
    "editable": true
   },
   "source": [
    "Hmmm.... that's odd. I wonder if the fact that \"New York\" can sometimes refer to the city or the state is the reason it is an outlier.  (By the way, the proper name for the city is [\"City of New York\"](https://en.wikipedia.org/wiki/New_York_City).) Let's see if Jeopardy sometimes uses an answer of \"New York\" when asking about the city. Are about half of these 92 \"New York\" questions really about the city of New York?"
   ]
  },
  {
   "cell_type": "code",
   "execution_count": 25,
   "metadata": {
    "collapsed": false,
    "deletable": true,
    "editable": true
   },
   "outputs": [
    {
     "data": {
      "text/html": [
       "<div>\n",
       "<table border=\"1\" class=\"dataframe\">\n",
       "  <thead>\n",
       "    <tr style=\"text-align: right;\">\n",
       "      <th></th>\n",
       "      <th>air_date</th>\n",
       "      <th>answer</th>\n",
       "      <th>category</th>\n",
       "      <th>question</th>\n",
       "      <th>round</th>\n",
       "      <th>show_number</th>\n",
       "      <th>value</th>\n",
       "    </tr>\n",
       "  </thead>\n",
       "  <tbody>\n",
       "    <tr>\n",
       "      <th>170157</th>\n",
       "      <td>1999-03-10</td>\n",
       "      <td>New York</td>\n",
       "      <td>SPORTS HOME CITIES</td>\n",
       "      <td>The WNBA'sLiberty</td>\n",
       "      <td>Jeopardy!</td>\n",
       "      <td>3348</td>\n",
       "      <td>1400.0</td>\n",
       "    </tr>\n",
       "    <tr>\n",
       "      <th>147556</th>\n",
       "      <td>2011-03-03</td>\n",
       "      <td>New York</td>\n",
       "      <td>TV CITY SETTINGS</td>\n",
       "      <td>\"Castle\"</td>\n",
       "      <td>Double Jeopardy!</td>\n",
       "      <td>6099</td>\n",
       "      <td>1600.0</td>\n",
       "    </tr>\n",
       "    <tr>\n",
       "      <th>203523</th>\n",
       "      <td>2011-11-28</td>\n",
       "      <td>New York</td>\n",
       "      <td>A TALE OF ONE CITY</td>\n",
       "      <td>Jay McInerney's \"Bright Lights, Big City\"</td>\n",
       "      <td>Double Jeopardy!</td>\n",
       "      <td>6256</td>\n",
       "      <td>800.0</td>\n",
       "    </tr>\n",
       "    <tr>\n",
       "      <th>45161</th>\n",
       "      <td>2010-11-24</td>\n",
       "      <td>New York</td>\n",
       "      <td>BRIGHT LIGHTS, BIG CITY</td>\n",
       "      <td>This city is the brightest area along the East Coast</td>\n",
       "      <td>Jeopardy!</td>\n",
       "      <td>6028</td>\n",
       "      <td>200.0</td>\n",
       "    </tr>\n",
       "    <tr>\n",
       "      <th>46877</th>\n",
       "      <td>2009-05-12</td>\n",
       "      <td>New York</td>\n",
       "      <td>CITIES' NEWER NAMES</td>\n",
       "      <td>New Amsterdam</td>\n",
       "      <td>Jeopardy!</td>\n",
       "      <td>5692</td>\n",
       "      <td>600.0</td>\n",
       "    </tr>\n",
       "  </tbody>\n",
       "</table>\n",
       "</div>"
      ],
      "text/plain": [
       "         air_date    answer                 category  \\\n",
       "170157 1999-03-10  New York       SPORTS HOME CITIES   \n",
       "147556 2011-03-03  New York         TV CITY SETTINGS   \n",
       "203523 2011-11-28  New York       A TALE OF ONE CITY   \n",
       "45161  2010-11-24  New York  BRIGHT LIGHTS, BIG CITY   \n",
       "46877  2009-05-12  New York      CITIES' NEWER NAMES   \n",
       "\n",
       "                                                    question  \\\n",
       "170157                                     The WNBA'sLiberty   \n",
       "147556                                              \"Castle\"   \n",
       "203523             Jay McInerney's \"Bright Lights, Big City\"   \n",
       "45161   This city is the brightest area along the East Coast   \n",
       "46877                                          New Amsterdam   \n",
       "\n",
       "                   round  show_number   value  \n",
       "170157         Jeopardy!         3348  1400.0  \n",
       "147556  Double Jeopardy!         6099  1600.0  \n",
       "203523  Double Jeopardy!         6256   800.0  \n",
       "45161          Jeopardy!         6028   200.0  \n",
       "46877          Jeopardy!         5692   600.0  "
      ]
     },
     "execution_count": 25,
     "metadata": {},
     "output_type": "execute_result"
    }
   ],
   "source": [
    "# Find questions where the answer is \"New York\" and the category contains the word \"city.\"\n",
    "df[((df['answer']=='New York') & (df['category'].str.contains('CIT')))]"
   ]
  },
  {
   "cell_type": "code",
   "execution_count": 26,
   "metadata": {
    "collapsed": false,
    "deletable": true,
    "editable": true
   },
   "outputs": [
    {
     "data": {
      "text/html": [
       "<div>\n",
       "<table border=\"1\" class=\"dataframe\">\n",
       "  <thead>\n",
       "    <tr style=\"text-align: right;\">\n",
       "      <th></th>\n",
       "      <th>air_date</th>\n",
       "      <th>answer</th>\n",
       "      <th>category</th>\n",
       "      <th>question</th>\n",
       "      <th>round</th>\n",
       "      <th>show_number</th>\n",
       "      <th>value</th>\n",
       "    </tr>\n",
       "  </thead>\n",
       "  <tbody>\n",
       "    <tr>\n",
       "      <th>123888</th>\n",
       "      <td>1997-12-30</td>\n",
       "      <td>New York</td>\n",
       "      <td>TRANSPORTATION</td>\n",
       "      <td>This city's subway system, made up of the IRT, BMT &amp; IND, has 238 route miles &amp; 469 stations</td>\n",
       "      <td>Jeopardy!</td>\n",
       "      <td>3072</td>\n",
       "      <td>400.0</td>\n",
       "    </tr>\n",
       "    <tr>\n",
       "      <th>10777</th>\n",
       "      <td>2008-04-08</td>\n",
       "      <td>New York</td>\n",
       "      <td>A HOST OF GHOSTS</td>\n",
       "      <td>The ghost of impresario David Belasco is said to haunt the theatre named for him on West 44th St. in this city</td>\n",
       "      <td>Jeopardy!</td>\n",
       "      <td>5437</td>\n",
       "      <td>400.0</td>\n",
       "    </tr>\n",
       "    <tr>\n",
       "      <th>130911</th>\n",
       "      <td>2005-05-11</td>\n",
       "      <td>New York</td>\n",
       "      <td>PRESIDENTS</td>\n",
       "      <td>In April 1789 Washington left Mount Vernon, going to this city to head the new governent</td>\n",
       "      <td>Jeopardy!</td>\n",
       "      <td>4773</td>\n",
       "      <td>200.0</td>\n",
       "    </tr>\n",
       "    <tr>\n",
       "      <th>148356</th>\n",
       "      <td>2010-04-27</td>\n",
       "      <td>New York</td>\n",
       "      <td>ZOMBIELAND</td>\n",
       "      <td>&amp; they thought alligators were bad!  In 1984's \"C.H.U.D.\" zombies haunt this city's sewer system</td>\n",
       "      <td>Jeopardy!</td>\n",
       "      <td>5907</td>\n",
       "      <td>400.0</td>\n",
       "    </tr>\n",
       "    <tr>\n",
       "      <th>150545</th>\n",
       "      <td>2008-12-04</td>\n",
       "      <td>New York</td>\n",
       "      <td>STREETCAR</td>\n",
       "      <td>Beginning service in 1832, this city's first streetcar ran along Bowery Street</td>\n",
       "      <td>Jeopardy!</td>\n",
       "      <td>5579</td>\n",
       "      <td>600.0</td>\n",
       "    </tr>\n",
       "    <tr>\n",
       "      <th>161170</th>\n",
       "      <td>2006-07-03</td>\n",
       "      <td>New York</td>\n",
       "      <td>THE U.S. CENSUS</td>\n",
       "      <td>This city has the largest Hispanic, Asian &amp; African-American populations in the U.S.</td>\n",
       "      <td>Double Jeopardy!</td>\n",
       "      <td>5036</td>\n",
       "      <td>400.0</td>\n",
       "    </tr>\n",
       "    <tr>\n",
       "      <th>204556</th>\n",
       "      <td>2011-10-20</td>\n",
       "      <td>New York</td>\n",
       "      <td>ACTING HURT</td>\n",
       "      <td>John Hurt reprised the role of Quentin Crisp for 2009's \"An Englishman in\" this U.S. city</td>\n",
       "      <td>Double Jeopardy!</td>\n",
       "      <td>6229</td>\n",
       "      <td>1600.0</td>\n",
       "    </tr>\n",
       "    <tr>\n",
       "      <th>207097</th>\n",
       "      <td>2011-12-28</td>\n",
       "      <td>New York</td>\n",
       "      <td>UNCOMMON BONDS</td>\n",
       "      <td>J. Max Bond Jr., who helped design the National September 11 Memorial, was a 1980-86 member of this city's Planning Commission</td>\n",
       "      <td>Jeopardy!</td>\n",
       "      <td>6278</td>\n",
       "      <td>200.0</td>\n",
       "    </tr>\n",
       "    <tr>\n",
       "      <th>208353</th>\n",
       "      <td>2006-11-15</td>\n",
       "      <td>New York</td>\n",
       "      <td>AROUND THE U.S.A.</td>\n",
       "      <td>\"I love\" this city, America's biggest metropolis--doesn't everyone?</td>\n",
       "      <td>Jeopardy!</td>\n",
       "      <td>5103</td>\n",
       "      <td>400.0</td>\n",
       "    </tr>\n",
       "    <tr>\n",
       "      <th>42784</th>\n",
       "      <td>2010-03-29</td>\n",
       "      <td>New York</td>\n",
       "      <td>MIDDLE INITIAL V.</td>\n",
       "      <td>John V. Lindsay was mayor of this city in the turbulent '60s &amp; '70s, first as a Republican &amp; then as a Democrat</td>\n",
       "      <td>Jeopardy!</td>\n",
       "      <td>5886</td>\n",
       "      <td>200.0</td>\n",
       "    </tr>\n",
       "    <tr>\n",
       "      <th>45134</th>\n",
       "      <td>2011-06-01</td>\n",
       "      <td>New York</td>\n",
       "      <td>HAY IS</td>\n",
       "      <td>...The middle name of Jock Whitney, millionaire art collector &amp; publisher of this city's Herald Tribune</td>\n",
       "      <td>Double Jeopardy!</td>\n",
       "      <td>6163</td>\n",
       "      <td>400.0</td>\n",
       "    </tr>\n",
       "    <tr>\n",
       "      <th>45161</th>\n",
       "      <td>2010-11-24</td>\n",
       "      <td>New York</td>\n",
       "      <td>BRIGHT LIGHTS, BIG CITY</td>\n",
       "      <td>This city is the brightest area along the East Coast</td>\n",
       "      <td>Jeopardy!</td>\n",
       "      <td>6028</td>\n",
       "      <td>200.0</td>\n",
       "    </tr>\n",
       "    <tr>\n",
       "      <th>64517</th>\n",
       "      <td>2005-06-14</td>\n",
       "      <td>New York</td>\n",
       "      <td>THE FUN '40s</td>\n",
       "      <td>(Sarah of the Clue Crew delivers the clue from beside a Blue Angels plane.)  During a visit to this city in 1946 the Blue Angels took their name from a nightclub found there</td>\n",
       "      <td>Jeopardy!</td>\n",
       "      <td>4797</td>\n",
       "      <td>400.0</td>\n",
       "    </tr>\n",
       "  </tbody>\n",
       "</table>\n",
       "</div>"
      ],
      "text/plain": [
       "         air_date    answer                 category  \\\n",
       "123888 1997-12-30  New York           TRANSPORTATION   \n",
       "10777  2008-04-08  New York         A HOST OF GHOSTS   \n",
       "130911 2005-05-11  New York               PRESIDENTS   \n",
       "148356 2010-04-27  New York               ZOMBIELAND   \n",
       "150545 2008-12-04  New York                STREETCAR   \n",
       "161170 2006-07-03  New York          THE U.S. CENSUS   \n",
       "204556 2011-10-20  New York              ACTING HURT   \n",
       "207097 2011-12-28  New York           UNCOMMON BONDS   \n",
       "208353 2006-11-15  New York        AROUND THE U.S.A.   \n",
       "42784  2010-03-29  New York        MIDDLE INITIAL V.   \n",
       "45134  2011-06-01  New York                   HAY IS   \n",
       "45161  2010-11-24  New York  BRIGHT LIGHTS, BIG CITY   \n",
       "64517  2005-06-14  New York             THE FUN '40s   \n",
       "\n",
       "                                                                                                                                                                             question  \\\n",
       "123888                                                                                   This city's subway system, made up of the IRT, BMT & IND, has 238 route miles & 469 stations   \n",
       "10777                                                                  The ghost of impresario David Belasco is said to haunt the theatre named for him on West 44th St. in this city   \n",
       "130911                                                                                       In April 1789 Washington left Mount Vernon, going to this city to head the new governent   \n",
       "148356                                                                               & they thought alligators were bad!  In 1984's \"C.H.U.D.\" zombies haunt this city's sewer system   \n",
       "150545                                                                                                 Beginning service in 1832, this city's first streetcar ran along Bowery Street   \n",
       "161170                                                                                           This city has the largest Hispanic, Asian & African-American populations in the U.S.   \n",
       "204556                                                                                      John Hurt reprised the role of Quentin Crisp for 2009's \"An Englishman in\" this U.S. city   \n",
       "207097                                                 J. Max Bond Jr., who helped design the National September 11 Memorial, was a 1980-86 member of this city's Planning Commission   \n",
       "208353                                                                                                            \"I love\" this city, America's biggest metropolis--doesn't everyone?   \n",
       "42784                                                                 John V. Lindsay was mayor of this city in the turbulent '60s & '70s, first as a Republican & then as a Democrat   \n",
       "45134                                                                         ...The middle name of Jock Whitney, millionaire art collector & publisher of this city's Herald Tribune   \n",
       "45161                                                                                                                            This city is the brightest area along the East Coast   \n",
       "64517   (Sarah of the Clue Crew delivers the clue from beside a Blue Angels plane.)  During a visit to this city in 1946 the Blue Angels took their name from a nightclub found there   \n",
       "\n",
       "                   round  show_number   value  \n",
       "123888         Jeopardy!         3072   400.0  \n",
       "10777          Jeopardy!         5437   400.0  \n",
       "130911         Jeopardy!         4773   200.0  \n",
       "148356         Jeopardy!         5907   400.0  \n",
       "150545         Jeopardy!         5579   600.0  \n",
       "161170  Double Jeopardy!         5036   400.0  \n",
       "204556  Double Jeopardy!         6229  1600.0  \n",
       "207097         Jeopardy!         6278   200.0  \n",
       "208353         Jeopardy!         5103   400.0  \n",
       "42784          Jeopardy!         5886   200.0  \n",
       "45134   Double Jeopardy!         6163   400.0  \n",
       "45161          Jeopardy!         6028   200.0  \n",
       "64517          Jeopardy!         4797   400.0  "
      ]
     },
     "execution_count": 26,
     "metadata": {},
     "output_type": "execute_result"
    }
   ],
   "source": [
    "# Find questions where the answer is \"New York\" and the question contains the word \"city.\"\n",
    "df[((df['answer']=='New York') & (df['question'].str.contains('cit')))]"
   ]
  },
  {
   "cell_type": "code",
   "execution_count": 27,
   "metadata": {
    "collapsed": false,
    "deletable": true,
    "editable": true
   },
   "outputs": [
    {
     "name": "stdout",
     "output_type": "stream",
     "text": [
      "5\n",
      "13\n"
     ]
    }
   ],
   "source": [
    "# Aha! So some New York city answers did sneak into my state-only dataframe. How many?\n",
    "print df[((df['answer']=='New York') & (df['category'].str.contains('CIT')))]['answer'].count()\n",
    "print df[((df['answer']=='New York') & (df['question'].str.contains('cit')))]['answer'].count()"
   ]
  },
  {
   "cell_type": "markdown",
   "metadata": {
    "deletable": true,
    "editable": true
   },
   "source": [
    "Since one of the questions appears in both datasets, the total count of incorrectly counted New York state answers is 17. I need about 20 more to move the New York point closer to the trend. Let's see if I can find them among the remaining New York questions, if I also exclude clues where \"state\" is in the category or question."
   ]
  },
  {
   "cell_type": "code",
   "execution_count": 28,
   "metadata": {
    "collapsed": false,
    "deletable": true,
    "editable": true
   },
   "outputs": [
    {
     "data": {
      "text/html": [
       "<div>\n",
       "<table border=\"1\" class=\"dataframe\">\n",
       "  <thead>\n",
       "    <tr style=\"text-align: right;\">\n",
       "      <th></th>\n",
       "      <th>air_date</th>\n",
       "      <th>answer</th>\n",
       "      <th>category</th>\n",
       "      <th>question</th>\n",
       "      <th>round</th>\n",
       "      <th>show_number</th>\n",
       "      <th>value</th>\n",
       "    </tr>\n",
       "  </thead>\n",
       "  <tbody>\n",
       "    <tr>\n",
       "      <th>106573</th>\n",
       "      <td>1998-03-02</td>\n",
       "      <td>New York</td>\n",
       "      <td>MUSICAL GEOGRAPHY</td>\n",
       "      <td>\"Start spreading the news\", Ol' Blue Eyes made it here</td>\n",
       "      <td>Jeopardy!</td>\n",
       "      <td>3116</td>\n",
       "      <td>800.0</td>\n",
       "    </tr>\n",
       "    <tr>\n",
       "      <th>61074</th>\n",
       "      <td>1998-11-11</td>\n",
       "      <td>New York</td>\n",
       "      <td>THE 13 COLONIES</td>\n",
       "      <td>Under the Treaty of Breda, the Dutch gave up New Netherland, which the British renamed this</td>\n",
       "      <td>Double Jeopardy!</td>\n",
       "      <td>3263</td>\n",
       "      <td>400.0</td>\n",
       "    </tr>\n",
       "    <tr>\n",
       "      <th>102164</th>\n",
       "      <td>2004-04-16</td>\n",
       "      <td>New York</td>\n",
       "      <td>QUARTER BACKS</td>\n",
       "      <td>A gift from France unveiled in 1886</td>\n",
       "      <td>Jeopardy!</td>\n",
       "      <td>4525</td>\n",
       "      <td>400.0</td>\n",
       "    </tr>\n",
       "    <tr>\n",
       "      <th>126630</th>\n",
       "      <td>2009-02-20</td>\n",
       "      <td>New York</td>\n",
       "      <td>HOME BOYS</td>\n",
       "      <td>Knickerbockers</td>\n",
       "      <td>Double Jeopardy!</td>\n",
       "      <td>5635</td>\n",
       "      <td>800.0</td>\n",
       "    </tr>\n",
       "    <tr>\n",
       "      <th>131466</th>\n",
       "      <td>2006-04-04</td>\n",
       "      <td>New York</td>\n",
       "      <td>GEOGRAPHIC CINEMA</td>\n",
       "      <td>1931:\"Sidewalks of ___\"</td>\n",
       "      <td>Jeopardy!</td>\n",
       "      <td>4972</td>\n",
       "      <td>800.0</td>\n",
       "    </tr>\n",
       "    <tr>\n",
       "      <th>139200</th>\n",
       "      <td>2011-02-23</td>\n",
       "      <td>New York</td>\n",
       "      <td>THE 13 COLONIES</td>\n",
       "      <td>Under the Treaty of Breda, the Dutch gave up New Netherland to the British, who renamed it this in 1664</td>\n",
       "      <td>Double Jeopardy!</td>\n",
       "      <td>6093</td>\n",
       "      <td>400.0</td>\n",
       "    </tr>\n",
       "    <tr>\n",
       "      <th>146113</th>\n",
       "      <td>2006-03-28</td>\n",
       "      <td>New York</td>\n",
       "      <td>GODZILLA</td>\n",
       "      <td>Apparently bored with his old conquests, in the 1998 version, Godzilla is intent on destroying this metropolis</td>\n",
       "      <td>Double Jeopardy!</td>\n",
       "      <td>4967</td>\n",
       "      <td>800.0</td>\n",
       "    </tr>\n",
       "    <tr>\n",
       "      <th>15213</th>\n",
       "      <td>2008-02-27</td>\n",
       "      <td>New York</td>\n",
       "      <td>EARLY AMERICA</td>\n",
       "      <td>The British took New Netherland &amp; New Amsterdam from the Dutch in 1664 &amp; renamed them both this</td>\n",
       "      <td>Jeopardy!</td>\n",
       "      <td>5408</td>\n",
       "      <td>200.0</td>\n",
       "    </tr>\n",
       "    <tr>\n",
       "      <th>152854</th>\n",
       "      <td>2011-05-03</td>\n",
       "      <td>New York</td>\n",
       "      <td>HERE LIES...</td>\n",
       "      <td>Boss Tweed</td>\n",
       "      <td>Double Jeopardy!</td>\n",
       "      <td>6142</td>\n",
       "      <td>1200.0</td>\n",
       "    </tr>\n",
       "    <tr>\n",
       "      <th>160620</th>\n",
       "      <td>2006-12-18</td>\n",
       "      <td>New York</td>\n",
       "      <td>'ALLO, GOVERNOR</td>\n",
       "      <td>In office from 1995:George Pataki</td>\n",
       "      <td>Double Jeopardy!</td>\n",
       "      <td>5126</td>\n",
       "      <td>400.0</td>\n",
       "    </tr>\n",
       "    <tr>\n",
       "      <th>18477</th>\n",
       "      <td>2006-07-25</td>\n",
       "      <td>New York</td>\n",
       "      <td>DO YOU HAVE A RESERVATION?</td>\n",
       "      <td>Oneida &amp; St. Regis Mohawk</td>\n",
       "      <td>Double Jeopardy!</td>\n",
       "      <td>5052</td>\n",
       "      <td>800.0</td>\n",
       "    </tr>\n",
       "    <tr>\n",
       "      <th>192035</th>\n",
       "      <td>2011-12-06</td>\n",
       "      <td>New York</td>\n",
       "      <td>THE STORY OF O. HENRY</td>\n",
       "      <td>In 1910 O. Henry died in this \"Bagdad on the Subway\", the setting for many of his stories</td>\n",
       "      <td>Double Jeopardy!</td>\n",
       "      <td>6262</td>\n",
       "      <td>2000.0</td>\n",
       "    </tr>\n",
       "    <tr>\n",
       "      <th>194159</th>\n",
       "      <td>2007-01-31</td>\n",
       "      <td>New York</td>\n",
       "      <td>PRESIDENTIAL HITCHING POSTS</td>\n",
       "      <td>Martin &amp; Hannah Van Buren, on Feb. 21, 1807</td>\n",
       "      <td>Double Jeopardy!</td>\n",
       "      <td>5158</td>\n",
       "      <td>2000.0</td>\n",
       "    </tr>\n",
       "    <tr>\n",
       "      <th>4565</th>\n",
       "      <td>2008-07-22</td>\n",
       "      <td>New York</td>\n",
       "      <td>NEBRASKA, NEW YORK OR NORTH DAKOTA</td>\n",
       "      <td>Its name does not have a Native American origin</td>\n",
       "      <td>Jeopardy!</td>\n",
       "      <td>5512</td>\n",
       "      <td>400.0</td>\n",
       "    </tr>\n",
       "    <tr>\n",
       "      <th>57123</th>\n",
       "      <td>2005-06-09</td>\n",
       "      <td>New York</td>\n",
       "      <td>NASCAR GEOGRAPHY</td>\n",
       "      <td>Watkins Glen International</td>\n",
       "      <td>Jeopardy!</td>\n",
       "      <td>4794</td>\n",
       "      <td>1000.0</td>\n",
       "    </tr>\n",
       "    <tr>\n",
       "      <th>64453</th>\n",
       "      <td>2009-07-08</td>\n",
       "      <td>New York</td>\n",
       "      <td>TO THE LIGHTHOUSE</td>\n",
       "      <td>Fire Island Light,Buffalo Light</td>\n",
       "      <td>Jeopardy!</td>\n",
       "      <td>5733</td>\n",
       "      <td>400.0</td>\n",
       "    </tr>\n",
       "    <tr>\n",
       "      <th>8370</th>\n",
       "      <td>2005-05-31</td>\n",
       "      <td>New York</td>\n",
       "      <td>'ALLO, GOVERNOR!</td>\n",
       "      <td>Al Smith,Mario Cuomo</td>\n",
       "      <td>Jeopardy!</td>\n",
       "      <td>4787</td>\n",
       "      <td>200.0</td>\n",
       "    </tr>\n",
       "    <tr>\n",
       "      <th>84169</th>\n",
       "      <td>2004-10-15</td>\n",
       "      <td>New York</td>\n",
       "      <td>LICENSE PLATE SLOGANS</td>\n",
       "      <td>It has used \"Empire State\" &amp; the more formal \"The Empire State\"</td>\n",
       "      <td>Jeopardy!</td>\n",
       "      <td>4625</td>\n",
       "      <td>400.0</td>\n",
       "    </tr>\n",
       "  </tbody>\n",
       "</table>\n",
       "</div>"
      ],
      "text/plain": [
       "         air_date    answer                            category  \\\n",
       "106573 1998-03-02  New York                   MUSICAL GEOGRAPHY   \n",
       "61074  1998-11-11  New York                     THE 13 COLONIES   \n",
       "102164 2004-04-16  New York                       QUARTER BACKS   \n",
       "126630 2009-02-20  New York                           HOME BOYS   \n",
       "131466 2006-04-04  New York                   GEOGRAPHIC CINEMA   \n",
       "139200 2011-02-23  New York                     THE 13 COLONIES   \n",
       "146113 2006-03-28  New York                            GODZILLA   \n",
       "15213  2008-02-27  New York                       EARLY AMERICA   \n",
       "152854 2011-05-03  New York                        HERE LIES...   \n",
       "160620 2006-12-18  New York                     'ALLO, GOVERNOR   \n",
       "18477  2006-07-25  New York          DO YOU HAVE A RESERVATION?   \n",
       "192035 2011-12-06  New York               THE STORY OF O. HENRY   \n",
       "194159 2007-01-31  New York         PRESIDENTIAL HITCHING POSTS   \n",
       "4565   2008-07-22  New York  NEBRASKA, NEW YORK OR NORTH DAKOTA   \n",
       "57123  2005-06-09  New York                    NASCAR GEOGRAPHY   \n",
       "64453  2009-07-08  New York                   TO THE LIGHTHOUSE   \n",
       "8370   2005-05-31  New York                    'ALLO, GOVERNOR!   \n",
       "84169  2004-10-15  New York               LICENSE PLATE SLOGANS   \n",
       "\n",
       "                                                                                                              question  \\\n",
       "106573                                                          \"Start spreading the news\", Ol' Blue Eyes made it here   \n",
       "61074                      Under the Treaty of Breda, the Dutch gave up New Netherland, which the British renamed this   \n",
       "102164                                                                             A gift from France unveiled in 1886   \n",
       "126630                                                                                                  Knickerbockers   \n",
       "131466                                                                                         1931:\"Sidewalks of ___\"   \n",
       "139200         Under the Treaty of Breda, the Dutch gave up New Netherland to the British, who renamed it this in 1664   \n",
       "146113  Apparently bored with his old conquests, in the 1998 version, Godzilla is intent on destroying this metropolis   \n",
       "15213                  The British took New Netherland & New Amsterdam from the Dutch in 1664 & renamed them both this   \n",
       "152854                                                                                                      Boss Tweed   \n",
       "160620                                                                               In office from 1995:George Pataki   \n",
       "18477                                                                                        Oneida & St. Regis Mohawk   \n",
       "192035                       In 1910 O. Henry died in this \"Bagdad on the Subway\", the setting for many of his stories   \n",
       "194159                                                                     Martin & Hannah Van Buren, on Feb. 21, 1807   \n",
       "4565                                                                   Its name does not have a Native American origin   \n",
       "57123                                                                                       Watkins Glen International   \n",
       "64453                                                                                  Fire Island Light,Buffalo Light   \n",
       "8370                                                                                              Al Smith,Mario Cuomo   \n",
       "84169                                                  It has used \"Empire State\" & the more formal \"The Empire State\"   \n",
       "\n",
       "                   round  show_number   value  \n",
       "106573         Jeopardy!         3116   800.0  \n",
       "61074   Double Jeopardy!         3263   400.0  \n",
       "102164         Jeopardy!         4525   400.0  \n",
       "126630  Double Jeopardy!         5635   800.0  \n",
       "131466         Jeopardy!         4972   800.0  \n",
       "139200  Double Jeopardy!         6093   400.0  \n",
       "146113  Double Jeopardy!         4967   800.0  \n",
       "15213          Jeopardy!         5408   200.0  \n",
       "152854  Double Jeopardy!         6142  1200.0  \n",
       "160620  Double Jeopardy!         5126   400.0  \n",
       "18477   Double Jeopardy!         5052   800.0  \n",
       "192035  Double Jeopardy!         6262  2000.0  \n",
       "194159  Double Jeopardy!         5158  2000.0  \n",
       "4565           Jeopardy!         5512   400.0  \n",
       "57123          Jeopardy!         4794  1000.0  \n",
       "64453          Jeopardy!         5733   400.0  \n",
       "8370           Jeopardy!         4787   200.0  \n",
       "84169          Jeopardy!         4625   400.0  "
      ]
     },
     "execution_count": 28,
     "metadata": {},
     "output_type": "execute_result"
    }
   ],
   "source": [
    "# Find questions where \"New York\" is the answer, \n",
    "# but \"city\" or \"state\" don't appear in the question\n",
    "# and \"CITY\" or \"STATE\" don't appear in the category.\n",
    "df[(df['answer']=='New York') & (df['question'].str.contains('cit')==False)\n",
    "   & (df['category'].str.contains('CIT')==False)\n",
    "  & (df['question'].str.contains('state')==False)\n",
    "  & (df['category'].str.contains('STATE')==False)]"
   ]
  },
  {
   "cell_type": "markdown",
   "metadata": {
    "deletable": true,
    "editable": true
   },
   "source": [
    "A few questions jump out at me as referring to New York city rather than New York state. "
   ]
  },
  {
   "cell_type": "code",
   "execution_count": 29,
   "metadata": {
    "collapsed": false,
    "deletable": true,
    "editable": true
   },
   "outputs": [
    {
     "data": {
      "text/html": [
       "<div>\n",
       "<table border=\"1\" class=\"dataframe\">\n",
       "  <thead>\n",
       "    <tr style=\"text-align: right;\">\n",
       "      <th></th>\n",
       "      <th>air_date</th>\n",
       "      <th>answer</th>\n",
       "      <th>category</th>\n",
       "      <th>question</th>\n",
       "      <th>round</th>\n",
       "      <th>show_number</th>\n",
       "      <th>value</th>\n",
       "    </tr>\n",
       "  </thead>\n",
       "  <tbody>\n",
       "    <tr>\n",
       "      <th>146113</th>\n",
       "      <td>2006-03-28</td>\n",
       "      <td>New York</td>\n",
       "      <td>GODZILLA</td>\n",
       "      <td>Apparently bored with his old conquests, in the 1998 version, Godzilla is intent on destroying this metropolis</td>\n",
       "      <td>Double Jeopardy!</td>\n",
       "      <td>4967</td>\n",
       "      <td>800.0</td>\n",
       "    </tr>\n",
       "  </tbody>\n",
       "</table>\n",
       "</div>"
      ],
      "text/plain": [
       "         air_date    answer  category  \\\n",
       "146113 2006-03-28  New York  GODZILLA   \n",
       "\n",
       "                                                                                                              question  \\\n",
       "146113  Apparently bored with his old conquests, in the 1998 version, Godzilla is intent on destroying this metropolis   \n",
       "\n",
       "                   round  show_number  value  \n",
       "146113  Double Jeopardy!         4967  800.0  "
      ]
     },
     "execution_count": 29,
     "metadata": {},
     "output_type": "execute_result"
    }
   ],
   "source": [
    "df[(df['answer']=='New York') & (df['question'].str.contains('Godzilla'))]"
   ]
  },
  {
   "cell_type": "code",
   "execution_count": 30,
   "metadata": {
    "collapsed": false,
    "deletable": true,
    "editable": true
   },
   "outputs": [
    {
     "data": {
      "text/html": [
       "<div>\n",
       "<table border=\"1\" class=\"dataframe\">\n",
       "  <thead>\n",
       "    <tr style=\"text-align: right;\">\n",
       "      <th></th>\n",
       "      <th>air_date</th>\n",
       "      <th>answer</th>\n",
       "      <th>category</th>\n",
       "      <th>question</th>\n",
       "      <th>round</th>\n",
       "      <th>show_number</th>\n",
       "      <th>value</th>\n",
       "    </tr>\n",
       "  </thead>\n",
       "  <tbody>\n",
       "    <tr>\n",
       "      <th>131466</th>\n",
       "      <td>2006-04-04</td>\n",
       "      <td>New York</td>\n",
       "      <td>GEOGRAPHIC CINEMA</td>\n",
       "      <td>1931:\"Sidewalks of ___\"</td>\n",
       "      <td>Jeopardy!</td>\n",
       "      <td>4972</td>\n",
       "      <td>800.0</td>\n",
       "    </tr>\n",
       "  </tbody>\n",
       "</table>\n",
       "</div>"
      ],
      "text/plain": [
       "         air_date    answer           category                 question  \\\n",
       "131466 2006-04-04  New York  GEOGRAPHIC CINEMA  1931:\"Sidewalks of ___\"   \n",
       "\n",
       "            round  show_number  value  \n",
       "131466  Jeopardy!         4972  800.0  "
      ]
     },
     "execution_count": 30,
     "metadata": {},
     "output_type": "execute_result"
    }
   ],
   "source": [
    "df[(df['answer']=='New York') & (df['question'].str.contains('Sidewalks'))]"
   ]
  },
  {
   "cell_type": "code",
   "execution_count": 31,
   "metadata": {
    "collapsed": false,
    "deletable": true,
    "editable": true
   },
   "outputs": [
    {
     "data": {
      "text/html": [
       "<div>\n",
       "<table border=\"1\" class=\"dataframe\">\n",
       "  <thead>\n",
       "    <tr style=\"text-align: right;\">\n",
       "      <th></th>\n",
       "      <th>air_date</th>\n",
       "      <th>answer</th>\n",
       "      <th>category</th>\n",
       "      <th>question</th>\n",
       "      <th>round</th>\n",
       "      <th>show_number</th>\n",
       "      <th>value</th>\n",
       "    </tr>\n",
       "  </thead>\n",
       "  <tbody>\n",
       "    <tr>\n",
       "      <th>152854</th>\n",
       "      <td>2011-05-03</td>\n",
       "      <td>New York</td>\n",
       "      <td>HERE LIES...</td>\n",
       "      <td>Boss Tweed</td>\n",
       "      <td>Double Jeopardy!</td>\n",
       "      <td>6142</td>\n",
       "      <td>1200.0</td>\n",
       "    </tr>\n",
       "  </tbody>\n",
       "</table>\n",
       "</div>"
      ],
      "text/plain": [
       "         air_date    answer      category    question             round  \\\n",
       "152854 2011-05-03  New York  HERE LIES...  Boss Tweed  Double Jeopardy!   \n",
       "\n",
       "        show_number   value  \n",
       "152854         6142  1200.0  "
      ]
     },
     "execution_count": 31,
     "metadata": {},
     "output_type": "execute_result"
    }
   ],
   "source": [
    "df[(df['answer']=='New York') & (df['question'].str.contains('Tweed'))]"
   ]
  },
  {
   "cell_type": "code",
   "execution_count": 32,
   "metadata": {
    "collapsed": false,
    "deletable": true,
    "editable": true
   },
   "outputs": [
    {
     "data": {
      "text/html": [
       "<div>\n",
       "<table border=\"1\" class=\"dataframe\">\n",
       "  <thead>\n",
       "    <tr style=\"text-align: right;\">\n",
       "      <th></th>\n",
       "      <th>air_date</th>\n",
       "      <th>answer</th>\n",
       "      <th>category</th>\n",
       "      <th>question</th>\n",
       "      <th>round</th>\n",
       "      <th>show_number</th>\n",
       "      <th>value</th>\n",
       "    </tr>\n",
       "  </thead>\n",
       "  <tbody>\n",
       "    <tr>\n",
       "      <th>192035</th>\n",
       "      <td>2011-12-06</td>\n",
       "      <td>New York</td>\n",
       "      <td>THE STORY OF O. HENRY</td>\n",
       "      <td>In 1910 O. Henry died in this \"Bagdad on the Subway\", the setting for many of his stories</td>\n",
       "      <td>Double Jeopardy!</td>\n",
       "      <td>6262</td>\n",
       "      <td>2000.0</td>\n",
       "    </tr>\n",
       "  </tbody>\n",
       "</table>\n",
       "</div>"
      ],
      "text/plain": [
       "         air_date    answer               category  \\\n",
       "192035 2011-12-06  New York  THE STORY OF O. HENRY   \n",
       "\n",
       "                                                                                         question  \\\n",
       "192035  In 1910 O. Henry died in this \"Bagdad on the Subway\", the setting for many of his stories   \n",
       "\n",
       "                   round  show_number   value  \n",
       "192035  Double Jeopardy!         6262  2000.0  "
      ]
     },
     "execution_count": 32,
     "metadata": {},
     "output_type": "execute_result"
    }
   ],
   "source": [
    "df[(df['answer']=='New York') & (df['question'].str.contains('Bagdad'))]"
   ]
  },
  {
   "cell_type": "code",
   "execution_count": 33,
   "metadata": {
    "collapsed": false,
    "deletable": true,
    "editable": true
   },
   "outputs": [
    {
     "data": {
      "text/html": [
       "<div>\n",
       "<table border=\"1\" class=\"dataframe\">\n",
       "  <thead>\n",
       "    <tr style=\"text-align: right;\">\n",
       "      <th></th>\n",
       "      <th>air_date</th>\n",
       "      <th>answer</th>\n",
       "      <th>category</th>\n",
       "      <th>question</th>\n",
       "      <th>round</th>\n",
       "      <th>show_number</th>\n",
       "      <th>value</th>\n",
       "    </tr>\n",
       "  </thead>\n",
       "  <tbody>\n",
       "    <tr>\n",
       "      <th>64453</th>\n",
       "      <td>2009-07-08</td>\n",
       "      <td>New York</td>\n",
       "      <td>TO THE LIGHTHOUSE</td>\n",
       "      <td>Fire Island Light,Buffalo Light</td>\n",
       "      <td>Jeopardy!</td>\n",
       "      <td>5733</td>\n",
       "      <td>400.0</td>\n",
       "    </tr>\n",
       "  </tbody>\n",
       "</table>\n",
       "</div>"
      ],
      "text/plain": [
       "        air_date    answer           category  \\\n",
       "64453 2009-07-08  New York  TO THE LIGHTHOUSE   \n",
       "\n",
       "                              question      round  show_number  value  \n",
       "64453  Fire Island Light,Buffalo Light  Jeopardy!         5733  400.0  "
      ]
     },
     "execution_count": 33,
     "metadata": {},
     "output_type": "execute_result"
    }
   ],
   "source": [
    "df[(df['answer']=='New York') & (df['question'].str.contains('Fire'))]"
   ]
  },
  {
   "cell_type": "markdown",
   "metadata": {
    "collapsed": true,
    "deletable": true,
    "editable": true
   },
   "source": [
    "That only comes to about 5 more questions. \n",
    "\n",
    "So far we've looked at questions where the answer is \"New York\" and \n",
    "* the question or category contains \"city\"\n",
    "\n",
    "or\n",
    "\n",
    "* the question/category does NOT contain \"city\" or \"state\"."
   ]
  },
  {
   "cell_type": "markdown",
   "metadata": {
    "deletable": true,
    "editable": true
   },
   "source": [
    "To summarize, I found that about 22 (from 17+5) questions should be removed from the count for New York state. That gives a new total of ..."
   ]
  },
  {
   "cell_type": "code",
   "execution_count": 34,
   "metadata": {
    "collapsed": false,
    "deletable": true,
    "editable": true
   },
   "outputs": [
    {
     "data": {
      "text/plain": [
       "70"
      ]
     },
     "execution_count": 34,
     "metadata": {},
     "output_type": "execute_result"
    }
   ],
   "source": [
    "92-22"
   ]
  },
  {
   "cell_type": "markdown",
   "metadata": {
    "deletable": true,
    "editable": true
   },
   "source": [
    "Let's update the dataframe with New York's new value. Then we can see how the correlation coefficient changes. "
   ]
  },
  {
   "cell_type": "code",
   "execution_count": 35,
   "metadata": {
    "collapsed": false,
    "deletable": true,
    "editable": true
   },
   "outputs": [],
   "source": [
    "# Update value for New York.\n",
    "state_data.set_value('New York', 'total_count', 70);"
   ]
  },
  {
   "cell_type": "code",
   "execution_count": 36,
   "metadata": {
    "collapsed": false,
    "deletable": true,
    "editable": true
   },
   "outputs": [
    {
     "name": "stdout",
     "output_type": "stream",
     "text": [
      "p_wvNEW =  8.31420111946e-15\n",
      "r_wvNEW =  0.847567316772\n",
      "p_wv =  8.77710298901e-13\n",
      "r_wv =  0.811548212639\n"
     ]
    }
   ],
   "source": [
    "# Calculate the relationship between Jeopardy counts and wikipedia views.\n",
    "rwvNEW, pvaluewvNEW = pearsonr(state_data['total_count'], state_data['wiki_views'])\n",
    "print \"p_wvNEW = \", pvaluewvNEW\n",
    "print \"r_wvNEW = \", rwvNEW\n",
    "print \"p_wv = \", pvaluewv\n",
    "print \"r_wv = \", rwv\n"
   ]
  },
  {
   "cell_type": "code",
   "execution_count": 37,
   "metadata": {
    "collapsed": false,
    "deletable": true,
    "editable": true
   },
   "outputs": [
    {
     "data": {
      "image/png": "[encoded data removed]",
      "text/plain": [
       "<matplotlib.figure.Figure at 0x11b638d10>"
      ]
     },
     "metadata": {},
     "output_type": "display_data"
    }
   ],
   "source": [
    "# Create plot again.\n",
    "ax = state_data.plot(x = 'total_count', y = 'wiki_views', kind = 'scatter')\n",
    "ax.set_xlabel('Number of Appearances on Jeopardy')\n",
    "ax.set_ylabel('Wikipedia View Count');"
   ]
  },
  {
   "cell_type": "markdown",
   "metadata": {
    "deletable": true,
    "editable": true
   },
   "source": [
    "The plot looks a little better and the correlation between Wikipedia views and Total Jeopardy appearances is a little tighter now.\n",
    "\n",
    "Perhaps the difference is that Jeopardy places more importance on the state of New York than Wikipedia users. :) "
   ]
  },
  {
   "cell_type": "markdown",
   "metadata": {
    "deletable": true,
    "editable": true
   },
   "source": [
    "### Oklahoma is OK! Oklahoma City isn't confused with the state of Oklahoma."
   ]
  },
  {
   "cell_type": "markdown",
   "metadata": {
    "deletable": true,
    "editable": true
   },
   "source": [
    "Another state with a possibly confusing city name is Oklahoma City; like New York City, it is also the most populous city in the state. However, Oklahoma City doesn't have the same problems as New York City. Unlike New York, for Oklahoma state, the questions where \"city\" is mentioned in the question all refer to another city in the state of Oklahoma, rather than Oklahoma City."
   ]
  },
  {
   "cell_type": "code",
   "execution_count": 38,
   "metadata": {
    "collapsed": false,
    "deletable": true,
    "editable": true,
    "scrolled": true
   },
   "outputs": [
    {
     "data": {
      "text/html": [
       "<div>\n",
       "<table border=\"1\" class=\"dataframe\">\n",
       "  <thead>\n",
       "    <tr style=\"text-align: right;\">\n",
       "      <th></th>\n",
       "      <th>air_date</th>\n",
       "      <th>answer</th>\n",
       "      <th>category</th>\n",
       "      <th>question</th>\n",
       "      <th>round</th>\n",
       "      <th>show_number</th>\n",
       "      <th>value</th>\n",
       "    </tr>\n",
       "  </thead>\n",
       "  <tbody>\n",
       "    <tr>\n",
       "      <th>115027</th>\n",
       "      <td>2010-09-21</td>\n",
       "      <td>Oklahoma</td>\n",
       "      <td>WOMEN ON THE MAP</td>\n",
       "      <td>The city of Enid in this state is believed to be named for a character in \"Idylls of the King\"</td>\n",
       "      <td>Jeopardy!</td>\n",
       "      <td>5982</td>\n",
       "      <td>800.0</td>\n",
       "    </tr>\n",
       "    <tr>\n",
       "      <th>127770</th>\n",
       "      <td>2010-11-15</td>\n",
       "      <td>Oklahoma</td>\n",
       "      <td>STATE FACTS</td>\n",
       "      <td>The city of Tahlequah in this state is the capital of the Cherokee Nation</td>\n",
       "      <td>Jeopardy!</td>\n",
       "      <td>6021</td>\n",
       "      <td>1000.0</td>\n",
       "    </tr>\n",
       "  </tbody>\n",
       "</table>\n",
       "</div>"
      ],
      "text/plain": [
       "         air_date    answer          category  \\\n",
       "115027 2010-09-21  Oklahoma  WOMEN ON THE MAP   \n",
       "127770 2010-11-15  Oklahoma       STATE FACTS   \n",
       "\n",
       "                                                                                              question  \\\n",
       "115027  The city of Enid in this state is believed to be named for a character in \"Idylls of the King\"   \n",
       "127770                       The city of Tahlequah in this state is the capital of the Cherokee Nation   \n",
       "\n",
       "            round  show_number   value  \n",
       "115027  Jeopardy!         5982   800.0  \n",
       "127770  Jeopardy!         6021  1000.0  "
      ]
     },
     "execution_count": 38,
     "metadata": {},
     "output_type": "execute_result"
    }
   ],
   "source": [
    "# Here are the questions where Oklahoma is the answer and \"city\" is mentioned in the question.\n",
    "df[(df['answer']=='Oklahoma') & (df['question'].str.contains('city'))]"
   ]
  },
  {
   "cell_type": "markdown",
   "metadata": {},
   "source": [
    "## What have we learned?\n",
    "\n",
    "The popularity of Jeopardy questions about U.S. states isn't tracked very well by Wikipedia article word counts. However, **U.S. state popularity does correlate well with Wikipedia page views**. It might be interesting to look into this popularity correlation for other broad topics, like countries of the world or animals. \n",
    "\n",
    "Another interesting application would be to use this method to *predict* topics that could appear in pop culture or current event categories on Jeopardy. A future contestant might study up on the content in recent, popular wikipedia articles in preparation for an appearance on Jeopardy. Unfortunately, with my current dataset I can't test this hypothesis because the dates don't overlap. My dataset runs from 1997-2000 and 2004-2011 and the Wikipedia API only goes back to around 2015. However, the 2015 Jeopardy data *is [available](http://www.j-archive.com/)* for intrepid webscrapers."
   ]
  },
  {
   "cell_type": "markdown",
   "metadata": {},
   "source": [
    " "
   ]
  },
  {
   "cell_type": "markdown",
   "metadata": {
    "deletable": true,
    "editable": true
   },
   "source": [
    " "
   ]
  }
 ],
 "metadata": {
  "kernelspec": {
   "display_name": "Python 2",
   "language": "python",
   "name": "python2"
  },
  "language_info": {
   "codemirror_mode": {
    "name": "ipython",
    "version": 2
   },
   "file_extension": ".py",
   "mimetype": "text/x-python",
   "name": "python",
   "nbconvert_exporter": "python",
   "pygments_lexer": "ipython2",
   "version": "2.7.13"
  }
 },
 "nbformat": 4,
 "nbformat_minor": 0
}
